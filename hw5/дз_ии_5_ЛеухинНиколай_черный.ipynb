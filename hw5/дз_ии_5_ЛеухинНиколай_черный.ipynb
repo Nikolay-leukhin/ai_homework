{
  "cells": [
    {
      "cell_type": "markdown",
      "id": "960f0f2f-4fab-4667-9e71-26cda8d28dea",
      "metadata": {
        "id": "960f0f2f-4fab-4667-9e71-26cda8d28dea"
      },
      "source": [
        "# Домашняя работа по теме «Вероятностное обучение»"
      ]
    },
    {
      "cell_type": "markdown",
      "id": "U022X2sc1g6W",
      "metadata": {
        "id": "U022X2sc1g6W"
      },
      "source": [
        "Прежде чем приступить к задачам, импортируй библиотеки:\n"
      ]
    },
    {
      "cell_type": "code",
      "execution_count": 1,
      "id": "a4185361-0e99-4421-86c1-00140f4c2a02",
      "metadata": {
        "id": "a4185361-0e99-4421-86c1-00140f4c2a02"
      },
      "outputs": [],
      "source": [
        "import plotly.graph_objects as go\n",
        "import numpy                as np\n",
        "import pandas               as pd\n",
        "\n",
        "import kagglehub\n",
        "import itertools\n",
        "import random\n",
        "import os"
      ]
    },
    {
      "cell_type": "markdown",
      "id": "0959ab09-f569-4b6d-9975-836a63ee0441",
      "metadata": {
        "id": "0959ab09-f569-4b6d-9975-836a63ee0441"
      },
      "source": [
        "## Задача регрессии на наборе данных `Diabetes Dataset`\n",
        "Diabetes Dataset — это набор данных для задач регрессии, применяемый в машинном обучении и статистике. Он используется для установления взаимосвязи между медицинскими характеристиками и прогрессированием заболевания.\n",
        "\n",
        "Информация о наборе данных:\n",
        "\n",
        "- **Источник:** модуль sklearn.datasets, основанный на реальных медицинских исследованиях.\n",
        "\n",
        "- **Применение:** прогнозирование прогрессирования диабета через год на основе исходных медицинских показателей.\n",
        "\n",
        "- **Характеристики:**\n",
        "   * Размер выборки — 442 пациента.\n",
        "   * Целевая  (зависимая) переменная — прогрессирование заболевания. Это количественная мера прогрессирования диабета через год после исходных измерений (она непрерывна).\n",
        "   * Характеристики (независимые переменные) — 10 исходных переменных:\n",
        "\n",
        "<!-- Diabetes Dataset - это широко используемый в машинном обучении и статистике набор данных, предназначенный для решения задачи регрессии. Он ориентирован на прогнозирование прогрессирования диабета на основе различных исходных переменных. Этот набор данных особенно полезен для понимания взаимосвязи между медицинскими характеристиками и прогрессированием заболевания, что делает его распространенным выбором для регрессионного анализа и оценки моделей.\n",
        "Обзор набора данных: -->\n",
        "\n",
        "  <!-- Источник: набор данных — это часть модуля sklearn.datasets. Этот набор создан на основе реальных медицинских исследований.\n",
        "  Цель: прогнозирование прогрессирования диабета через год на основе исходных медицинских показателей.\n",
        "\n",
        "  Размер:\n",
        "        Характеристики: 10 исходных переменных (непрерывных и стандартизированных).\n",
        "        Выборки: 442 пациента.\n",
        "        Целевая переменная: непрерывная мера прогрессирования заболевания диабетом.\n",
        "\n",
        "Характеристики (независимые переменные):\\ -->\n",
        "\n",
        "| | |\n",
        "|----|----|\n",
        " |   Age    | Возраст пациента (стандартизированный)|\n",
        "  |  Sex    | Пол пациента (стандартизированный)|\n",
        "  |  BMI    | Индекс массы тела, показатель содержания жира в организме, основанный на весе и росте|\n",
        "   | BP     | Среднее артериальное давление|\n",
        "  |  S1 - S6| Шесть измерений сыворотки крови, включая холестерин и другие биомаркеры|\n",
        "\n",
        "\n",
        "Характеристики были нормализованы: среднее значение приведено к `0`, а  стандартное отклонение — к `1`. Это упрощает их использование в регрессионных моделях."
      ]
    },
    {
      "cell_type": "markdown",
      "id": "v62cI2OyJjhj",
      "metadata": {
        "id": "v62cI2OyJjhj"
      },
      "source": [
        "Ниже приведён краткий конспект лонгрида по теме «Вероятностное обучение». Эти формулы понадобятся тебе для решения задач."
      ]
    },
    {
      "cell_type": "markdown",
      "id": "QnpoVxHRBGrS",
      "metadata": {
        "id": "QnpoVxHRBGrS"
      },
      "source": [
        "#### Модель байесовской линейной регрессии\n",
        "\n",
        "---\n",
        "Априорное распределение параметров модели\n",
        "\n",
        "$$\n",
        "p(\\mathbf{w}) = N(\\mathbf{m}_0, \\mathbf{S}_0),\n",
        "$$\n",
        "\n",
        "где $\\mathbf{m}_0$ — априорное среднее, например $\\mathbf{m}_0 = \\mathbf{0}$; \\\\\n",
        "$\\mathbf{S}_0$ — априорная ковариационная матрица, например $\\mathbf{S}_0 = \\frac{1}{\\alpha} \\mathbf{I}$; здесь $\\mathbf{I}$ — квадратная еденичная матрица.\n",
        "\n",
        "---\n",
        "\n",
        "Функция правдоподобия — вероятность наблюдения данных $\\mathbf{y}$ с учётом $\\mathbf{X}$ и $\\mathbf{w}$ составляет:\n",
        "\n",
        "$$\n",
        "p(\\mathbf{y} | \\mathbf{X}, \\mathbf{w}) = N(\\mathbf{X} \\mathbf{w}, \\beta^{-1} \\mathbf{I}),\n",
        "$$\n",
        "где $\\beta$ — точность (обратная дисперсия) шума; \\\\\n",
        "$\\mathbf{X}$ — матрица признаков; \\\\\n",
        "$\\mathbf{y}$ — наблюдаемые целевые значения.\n",
        "\n",
        "---\n",
        "\n",
        "Апостериорное распределение параметров модели $\\mathbf{w}$ определяется с помощью правила Байеса:\n",
        "\n",
        "$$\n",
        "p(\\mathbf{w} | \\mathbf{X}, \\mathbf{y}) = N(\\mathbf{m}_N, \\mathbf{S}_N).\n",
        "$$\n",
        "\n",
        "- Апостериорная ковариационная матрица:\n",
        "  $$\n",
        "  \\mathbf{S}_N^{-1} = \\mathbf{S}_{N-1}^{-1} + \\beta \\mathbf{X}^\\top \\mathbf{X}.\n",
        "  $$\n",
        "\n",
        "- Апостериорное среднее:\n",
        "  $$\n",
        "  \\mathbf{m}_N = \\mathbf{S}_N \\left( \\mathbf{S}_{N-1}^{-1} \\mathbf{m}_{N-1} + \\beta \\mathbf{X}^\\top \\mathbf{y} \\right).\n",
        "  $$\n",
        "\n",
        "---\n",
        "\n",
        "**Предсказание**\n",
        "\n",
        "Прогнозируемое распределение для нового входа $\\mathbf{x}_*$ это:\n",
        "\n",
        "$$\n",
        "p(\\hat{y}_* | \\mathbf{x}_*, \\mathbf{X}, \\mathbf{y}) = N(\\mu_*, \\sigma_*^2),\n",
        "$$\n",
        "\n",
        "где прогнозируемое среднее:\n",
        "  $$\n",
        "  \\mu_* = \\mathbf{x}_*^\\top \\mathbf{m}_N,\n",
        "  $$\n",
        "прогнозируемая дисперсия:\n",
        "  $$\n",
        "  \\sigma_*^2 = \\frac{1}{\\beta} + \\mathbf{x}_*^\\top \\mathbf{S}_N \\mathbf{x}_*.\n",
        "  $$\n",
        "---"
      ]
    },
    {
      "cell_type": "markdown",
      "id": "71b6568d-2369-4e4c-9fc9-9b0a205e09d9",
      "metadata": {
        "id": "71b6568d-2369-4e4c-9fc9-9b0a205e09d9"
      },
      "source": [
        "### Подготовительные шаги\n",
        "Перед тем как приступить к задачам, загрузи  модули."
      ]
    },
    {
      "cell_type": "code",
      "execution_count": 2,
      "id": "010ceb84-385a-41cb-bbb8-8020b8cb5cc0",
      "metadata": {
        "id": "010ceb84-385a-41cb-bbb8-8020b8cb5cc0"
      },
      "outputs": [],
      "source": [
        "import plotly.graph_objects as go\n",
        "import pandas               as pd\n",
        "import numpy                as np\n",
        "\n",
        "from sklearn.datasets        import load_diabetes\n",
        "from sklearn.model_selection import train_test_split\n",
        "from sklearn.preprocessing   import StandardScaler\n",
        "from sklearn.metrics         import mean_squared_error\n",
        "\n",
        "from sklearn.metrics import mean_squared_error, r2_score"
      ]
    },
    {
      "cell_type": "markdown",
      "id": "7b96e4a3-1d69-41c9-8bd5-a0d1e635d52c",
      "metadata": {
        "id": "7b96e4a3-1d69-41c9-8bd5-a0d1e635d52c"
      },
      "source": [
        "Загрузи набор данных."
      ]
    },
    {
      "cell_type": "code",
      "execution_count": 3,
      "id": "1b3e378a-ed2b-4ec0-9378-b14fe37ff1ea",
      "metadata": {
        "id": "1b3e378a-ed2b-4ec0-9378-b14fe37ff1ea"
      },
      "outputs": [],
      "source": [
        "data = load_diabetes()\n",
        "X, y = data.data, data.target\n",
        "\n",
        "#print( data.DESCR )"
      ]
    },
    {
      "cell_type": "markdown",
      "id": "eaa88dfa-f8bf-440b-87d7-9b1d98895436",
      "metadata": {
        "id": "eaa88dfa-f8bf-440b-87d7-9b1d98895436"
      },
      "source": [
        "Сделай предобработку данных. Стандартизируй данные и добавь столбец, состоящий из единиц справа."
      ]
    },
    {
      "cell_type": "code",
      "execution_count": 4,
      "id": "709eca3e-f709-46ea-b350-8dc5f99b547e",
      "metadata": {
        "id": "709eca3e-f709-46ea-b350-8dc5f99b547e"
      },
      "outputs": [],
      "source": [
        "# Стандартизируем данные\n",
        "scaler = StandardScaler()\n",
        "X = scaler.fit_transform(X)\n",
        "\n",
        "num_samples, num_features = X.shape\n",
        "\n",
        "X = np.hstack((X, np.ones((num_samples,1))))\n",
        "\n",
        "num_samples, num_features = X.shape"
      ]
    },
    {
      "cell_type": "markdown",
      "id": "ae46a85e-f880-44b0-b54e-f87ec7a0decd",
      "metadata": {
        "id": "ae46a85e-f880-44b0-b54e-f87ec7a0decd"
      },
      "source": [
        "Разбей набор данных на три выборки: основную тренировочную, дополнительную и тестовую. Также выбери случайный пример из тестовой выборки, чтобы отслеживать, как меняется решение.\n",
        "\n",
        "*Как работать с дополнительной выборкой, узнаешь ниже.*\n",
        "\n",
        "<!-- Разобьем наш набор данных на три выборки. Базовую тренировочную, дополнительную выборку и тестовую. Как работать с дополнительной выборкой вы узнаете ниже. Также выберем случайный пример из тестовой выборки, который позволит проследить эволюцию нашего решения. -->"
      ]
    },
    {
      "cell_type": "code",
      "execution_count": 5,
      "id": "f79432a4-5ffe-41ee-8812-283db0c5ab9d",
      "metadata": {
        "id": "f79432a4-5ffe-41ee-8812-283db0c5ab9d"
      },
      "outputs": [],
      "source": [
        "X_pool , X_test, y_pool , y_test = train_test_split(X     , y     , test_size=0.2, random_state=42)\n",
        "X_train, X_pool, y_train, y_pool = train_test_split(X_pool, y_pool, test_size=0.8, random_state=42)\n",
        "\n",
        "sample_idx = np.random.randint(X_test.shape[0])\n",
        "\n",
        "x_test_sample = X_test[sample_idx].reshape(1, -1)\n",
        "y_test_sample = y_test[sample_idx]"
      ]
    },
    {
      "cell_type": "code",
      "execution_count": null,
      "id": "63e6ec26",
      "metadata": {},
      "outputs": [],
      "source": []
    },
    {
      "cell_type": "markdown",
      "id": "d9c8a4d5-6325-4e7e-95b1-8acfd8590834",
      "metadata": {
        "id": "d9c8a4d5-6325-4e7e-95b1-8acfd8590834"
      },
      "source": [
        "\n",
        "\n",
        "### Задача 1.1 [5 баллов]\n",
        "\n"
      ]
    },
    {
      "cell_type": "markdown",
      "id": "CbO58Yw2_-Hj",
      "metadata": {
        "id": "CbO58Yw2_-Hj"
      },
      "source": [
        "Реализуй модель байесовской линейной регрессии согласно следующим формулам:\n",
        "\n",
        "---\n",
        "\n",
        "- Априорная ковариационная матрица:\n",
        "  $$\n",
        "  \\mathbf{S}_0 = \\frac{1}{\\alpha} \\mathbf{I},\n",
        "  $$\n",
        "  где $\\mathbf{I}$ — единичная квадратная матрица (размер соответствует числу параметров модели).\n",
        "\n",
        "- Априорное среднее:\n",
        "  \n",
        "  $$\\mathbf{m}_0 = 0,$$ где $$\\mathbf{m}_0$$ — нулевой вектор (размер соответствует числу параметров модели).\n",
        "\n",
        "---\n",
        "\n",
        "- Апостериорная ковариационная матрица:\n",
        "  $$\n",
        "  \\mathbf{S}_N^{-1} = \\mathbf{S}_{N-1}^{-1} + \\beta \\mathbf{X}^\\top \\mathbf{X}.\n",
        "  $$\n",
        "\n",
        "\n",
        "- Апостериорное среднее:\n",
        "  $$\n",
        "  \\mathbf{m}_N = \\mathbf{S}_N \\left( \\mathbf{S}_{N-1}^{-1} \\mathbf{m}_{N-1} + \\beta \\mathbf{X}^\\top \\mathbf{y} \\right),\n",
        "  $$\n",
        "\n",
        "\n",
        "где $\\mathbf{X}$ — текущая матрица признаков.\n",
        "\n",
        "---"
      ]
    },
    {
      "cell_type": "code",
      "execution_count": 6,
      "id": "86b466de-496f-476d-92e9-a61d1c84e0cd",
      "metadata": {
        "id": "86b466de-496f-476d-92e9-a61d1c84e0cd"
      },
      "outputs": [],
      "source": [
        "# Байесовская линейная регрессия\n",
        "class BayesianLinearRegression:\n",
        "    def __init__(self, n_features, alpha=1.0, beta=1.):\n",
        "        \"\"\"\n",
        "        Bayesian Linear Regression model.\n",
        "        Parameters:\n",
        "        - alpha: Prior precision (1 / variance of weights).\n",
        "        - beta: Precision of noise in the data.\n",
        "        \"\"\"\n",
        "        self.alpha, self.beta = alpha, beta\n",
        "        self.m0 = np.zeros(n_features)\n",
        "        self.s0 = np.eye(n_features) / self.alpha\n",
        "\n",
        "    def fit(self, X, y):\n",
        "        \"\"\"Fits the Bayesian Linear Regression model.\"\"\"\n",
        "        self.S_N = np.linalg.inv(np.linalg.inv(self.s0) + self.beta * np.transpose(X) @ X)\n",
        "        self.m_N = self.S_N @ (np.linalg.inv(self.s0) @ self.m0 + self.beta * np.transpose(X) @ y)\n",
        "\n",
        "    def predict(self, X, return_std=False):\n",
        "        \"\"\"\n",
        "        Predicts mean and optionally variance for the input data.\n",
        "        Parameters:\n",
        "        - X: Input features.\n",
        "        - return_std: If True, returns standard deviation of predictions.\n",
        "        \"\"\" \n",
        "        y_mean = X @ self.m_N\n",
        "        if return_std:\n",
        "            y_var = 1 / self.beta + np.sum(X @ self.S_N * X, axis=1)\n",
        "            y_std = np.sqrt(y_var)\n",
        "            return y_mean, y_std\n",
        "        return y_mean"
      ]
    },
    {
      "cell_type": "code",
      "execution_count": 7,
      "id": "986b8c25-fd48-475b-b56b-886c2314e55c",
      "metadata": {
        "id": "986b8c25-fd48-475b-b56b-886c2314e55c"
      },
      "outputs": [],
      "source": [
        "n_features = X_test.shape[1]\n",
        "model = BayesianLinearRegression(n_features, alpha=1.0, beta=1.0)"
      ]
    },
    {
      "cell_type": "markdown",
      "id": "a8ea1f53-6282-450a-89ad-3ec5e74cf15a",
      "metadata": {
        "id": "a8ea1f53-6282-450a-89ad-3ec5e74cf15a"
      },
      "source": [
        "### Задача 1.2 [5 баллов]\n",
        "\n",
        "Реализуй схему онлайн-обучения для итеративного улучшения модели, выбирая наиболее информативные примеры из немаркированного набора данных.\n",
        "\n",
        "Итерационный процесс настройки модели:\n",
        "\n",
        "- Настрой модель байесовской линейной регрессии на обучающем наборе примеров.\n",
        "- Выполни предсказание на дополнительном наборе данных.\n",
        "- Выбери пример с наибольшей неопределённостью (при предсказании возвращается `y_mean` и `y_std`, неопределённость — это `y_std`).\n",
        "- Добавь этот пример в обучающий набор данных и удали его из дополнительного набора данных.\n",
        "- Для тестовой выборки нарисуй график `mean_squared_error`.\n",
        "- Повторяй до тех пор, пока не будет достигнут критерий остановки (например, фиксированное количество итераций) или будет исчерпан дополнительный набор данных.\n",
        "\n",
        "<!-- ### Задача 2.2 [3 балла]\n",
        "\n",
        "Реализуй схему онлайн обучения для итеративного улучшения модели путем запроса наиболее информативных примеров из немаркированного набора данных.\n",
        "\n",
        "1. Предварительные шаги\n",
        "\n",
        "- Разбей выборку на тестовую и тренировочную в соотношении 0.2 и 0.8;\n",
        "- Тренировочную выборку разбей на небольшой обучающий набор и валидационный набор.\n",
        "\n",
        "2. Итерационный процесс настройки модели\n",
        "\n",
        "- Обучи модель линейной регрессии Байеса на обучающем наборе примеров;\n",
        "- Выполните предсказание на валидационном тестовых наборах данных.\n",
        "- Для валидационых результатов выберите пример с наибольшей неопределенностью (при предсказании возвращается y_mean и y_std, неопределенность это y_std). Пример с наибольшей неопределенностью добавьте в обучающий набор данных.\n",
        "- Для тестовой выборки нарисуйте график `mean_squared_error`\n",
        "- Повторяйте до тех пор, пока не будет достигнут критерий остановки (например, фиксированное количество итераций). -->"
      ]
    },
    {
      "cell_type": "code",
      "execution_count": 8,
      "id": "045d9721",
      "metadata": {},
      "outputs": [
        {
          "data": {
            "text/plain": [
              "11"
            ]
          },
          "execution_count": 8,
          "metadata": {},
          "output_type": "execute_result"
        }
      ],
      "source": [
        "n_features"
      ]
    },
    {
      "cell_type": "code",
      "execution_count": 9,
      "id": "e5a9bfd8-9156-4f68-9d07-e9ea7e989005",
      "metadata": {
        "id": "e5a9bfd8-9156-4f68-9d07-e9ea7e989005"
      },
      "outputs": [
        {
          "name": "stdout",
          "output_type": "stream",
          "text": [
            "Iteration 1/283, MSE: 3562.4282, R2 Score: 0.3276\n",
            "Iteration 2/283, MSE: 3601.3140, R2 Score: 0.3203\n",
            "Iteration 3/283, MSE: 3622.3014, R2 Score: 0.3163\n",
            "Iteration 4/283, MSE: 3481.7024, R2 Score: 0.3428\n",
            "Iteration 5/283, MSE: 3475.3463, R2 Score: 0.3440\n",
            "Iteration 6/283, MSE: 3456.3552, R2 Score: 0.3476\n",
            "Iteration 7/283, MSE: 3492.3779, R2 Score: 0.3408\n",
            "Iteration 8/283, MSE: 3494.7687, R2 Score: 0.3404\n",
            "Iteration 9/283, MSE: 3535.2207, R2 Score: 0.3327\n",
            "Iteration 10/283, MSE: 3357.6098, R2 Score: 0.3663\n",
            "Iteration 11/283, MSE: 3415.2678, R2 Score: 0.3554\n",
            "Iteration 12/283, MSE: 3378.9047, R2 Score: 0.3622\n",
            "Iteration 13/283, MSE: 3383.4064, R2 Score: 0.3614\n",
            "Iteration 14/283, MSE: 3373.3058, R2 Score: 0.3633\n",
            "Iteration 15/283, MSE: 3296.3308, R2 Score: 0.3778\n",
            "Iteration 16/283, MSE: 3240.4522, R2 Score: 0.3884\n",
            "Iteration 17/283, MSE: 3253.1533, R2 Score: 0.3860\n",
            "Iteration 18/283, MSE: 3266.3475, R2 Score: 0.3835\n",
            "Iteration 19/283, MSE: 3255.6913, R2 Score: 0.3855\n",
            "Iteration 20/283, MSE: 3248.2490, R2 Score: 0.3869\n",
            "Iteration 21/283, MSE: 3296.4560, R2 Score: 0.3778\n",
            "Iteration 22/283, MSE: 3292.0660, R2 Score: 0.3786\n",
            "Iteration 23/283, MSE: 3280.3100, R2 Score: 0.3809\n",
            "Iteration 24/283, MSE: 3164.4743, R2 Score: 0.4027\n",
            "Iteration 25/283, MSE: 3153.5097, R2 Score: 0.4048\n",
            "Iteration 26/283, MSE: 3151.9989, R2 Score: 0.4051\n",
            "Iteration 27/283, MSE: 3134.1025, R2 Score: 0.4085\n",
            "Iteration 28/283, MSE: 3138.6910, R2 Score: 0.4076\n",
            "Iteration 29/283, MSE: 3113.3571, R2 Score: 0.4124\n",
            "Iteration 30/283, MSE: 3118.7633, R2 Score: 0.4113\n",
            "Iteration 31/283, MSE: 3093.5319, R2 Score: 0.4161\n",
            "Iteration 32/283, MSE: 3086.5074, R2 Score: 0.4174\n",
            "Iteration 33/283, MSE: 3084.8933, R2 Score: 0.4177\n",
            "Iteration 34/283, MSE: 3057.0512, R2 Score: 0.4230\n",
            "Iteration 35/283, MSE: 3051.4887, R2 Score: 0.4240\n",
            "Iteration 36/283, MSE: 3093.3323, R2 Score: 0.4161\n",
            "Iteration 37/283, MSE: 3080.8337, R2 Score: 0.4185\n",
            "Iteration 38/283, MSE: 3076.8584, R2 Score: 0.4193\n",
            "Iteration 39/283, MSE: 3072.3705, R2 Score: 0.4201\n",
            "Iteration 40/283, MSE: 3066.3699, R2 Score: 0.4212\n",
            "Iteration 41/283, MSE: 3069.0037, R2 Score: 0.4207\n",
            "Iteration 42/283, MSE: 3082.5412, R2 Score: 0.4182\n",
            "Iteration 43/283, MSE: 3078.9678, R2 Score: 0.4189\n",
            "Iteration 44/283, MSE: 3089.5493, R2 Score: 0.4169\n",
            "Iteration 45/283, MSE: 3106.6065, R2 Score: 0.4136\n",
            "Iteration 46/283, MSE: 3112.5339, R2 Score: 0.4125\n",
            "Iteration 47/283, MSE: 3104.5016, R2 Score: 0.4140\n",
            "Iteration 48/283, MSE: 3104.4266, R2 Score: 0.4141\n",
            "Iteration 49/283, MSE: 3076.2510, R2 Score: 0.4194\n",
            "Iteration 50/283, MSE: 3053.8955, R2 Score: 0.4236\n",
            "Iteration 51/283, MSE: 3042.1213, R2 Score: 0.4258\n",
            "Iteration 52/283, MSE: 3058.9377, R2 Score: 0.4226\n",
            "Iteration 53/283, MSE: 3051.1718, R2 Score: 0.4241\n",
            "Iteration 54/283, MSE: 2966.5049, R2 Score: 0.4401\n",
            "Iteration 55/283, MSE: 2959.1637, R2 Score: 0.4415\n",
            "Iteration 56/283, MSE: 2964.4720, R2 Score: 0.4405\n",
            "Iteration 57/283, MSE: 2964.9313, R2 Score: 0.4404\n",
            "Iteration 58/283, MSE: 2965.0097, R2 Score: 0.4404\n",
            "Iteration 59/283, MSE: 2950.5415, R2 Score: 0.4431\n",
            "Iteration 60/283, MSE: 2947.2267, R2 Score: 0.4437\n",
            "Iteration 61/283, MSE: 2939.9194, R2 Score: 0.4451\n",
            "Iteration 62/283, MSE: 2961.2403, R2 Score: 0.4411\n",
            "Iteration 63/283, MSE: 2961.6961, R2 Score: 0.4410\n",
            "Iteration 64/283, MSE: 2964.3809, R2 Score: 0.4405\n",
            "Iteration 65/283, MSE: 2994.4304, R2 Score: 0.4348\n",
            "Iteration 66/283, MSE: 2993.9498, R2 Score: 0.4349\n",
            "Iteration 67/283, MSE: 3003.4663, R2 Score: 0.4331\n",
            "Iteration 68/283, MSE: 3013.1412, R2 Score: 0.4313\n",
            "Iteration 69/283, MSE: 3006.5626, R2 Score: 0.4325\n",
            "Iteration 70/283, MSE: 3025.0794, R2 Score: 0.4290\n",
            "Iteration 71/283, MSE: 3025.5981, R2 Score: 0.4289\n",
            "Iteration 72/283, MSE: 3029.5682, R2 Score: 0.4282\n",
            "Iteration 73/283, MSE: 3004.1632, R2 Score: 0.4330\n",
            "Iteration 74/283, MSE: 3007.7680, R2 Score: 0.4323\n",
            "Iteration 75/283, MSE: 3010.2993, R2 Score: 0.4318\n",
            "Iteration 76/283, MSE: 3007.3188, R2 Score: 0.4324\n",
            "Iteration 77/283, MSE: 3006.6734, R2 Score: 0.4325\n",
            "Iteration 78/283, MSE: 2991.2192, R2 Score: 0.4354\n",
            "Iteration 79/283, MSE: 2991.2184, R2 Score: 0.4354\n",
            "Iteration 80/283, MSE: 2987.4455, R2 Score: 0.4361\n",
            "Iteration 81/283, MSE: 2964.7670, R2 Score: 0.4404\n",
            "Iteration 82/283, MSE: 2964.9590, R2 Score: 0.4404\n",
            "Iteration 83/283, MSE: 2956.6166, R2 Score: 0.4420\n",
            "Iteration 84/283, MSE: 2948.9421, R2 Score: 0.4434\n",
            "Iteration 85/283, MSE: 2917.4647, R2 Score: 0.4493\n",
            "Iteration 86/283, MSE: 2907.5576, R2 Score: 0.4512\n",
            "Iteration 87/283, MSE: 2908.0180, R2 Score: 0.4511\n",
            "Iteration 88/283, MSE: 2873.8493, R2 Score: 0.4576\n",
            "Iteration 89/283, MSE: 2872.8639, R2 Score: 0.4578\n",
            "Iteration 90/283, MSE: 2873.0324, R2 Score: 0.4577\n",
            "Iteration 91/283, MSE: 2894.8015, R2 Score: 0.4536\n",
            "Iteration 92/283, MSE: 2889.2127, R2 Score: 0.4547\n",
            "Iteration 93/283, MSE: 2913.2557, R2 Score: 0.4501\n",
            "Iteration 94/283, MSE: 2913.1418, R2 Score: 0.4502\n",
            "Iteration 95/283, MSE: 2909.3153, R2 Score: 0.4509\n",
            "Iteration 96/283, MSE: 2897.6936, R2 Score: 0.4531\n",
            "Iteration 97/283, MSE: 2897.1531, R2 Score: 0.4532\n",
            "Iteration 98/283, MSE: 2916.3118, R2 Score: 0.4496\n",
            "Iteration 99/283, MSE: 2909.0295, R2 Score: 0.4509\n",
            "Iteration 100/283, MSE: 2908.9110, R2 Score: 0.4510\n",
            "Iteration 101/283, MSE: 2909.7087, R2 Score: 0.4508\n",
            "Iteration 102/283, MSE: 2908.4826, R2 Score: 0.4510\n",
            "Iteration 103/283, MSE: 2897.6682, R2 Score: 0.4531\n",
            "Iteration 104/283, MSE: 2891.9363, R2 Score: 0.4542\n",
            "Iteration 105/283, MSE: 2887.7872, R2 Score: 0.4549\n",
            "Iteration 106/283, MSE: 2887.8021, R2 Score: 0.4549\n",
            "Iteration 107/283, MSE: 2895.1590, R2 Score: 0.4536\n",
            "Iteration 108/283, MSE: 2894.0851, R2 Score: 0.4538\n",
            "Iteration 109/283, MSE: 2890.3765, R2 Score: 0.4545\n",
            "Iteration 110/283, MSE: 2885.4367, R2 Score: 0.4554\n",
            "Iteration 111/283, MSE: 2890.9898, R2 Score: 0.4543\n",
            "Iteration 112/283, MSE: 2901.3939, R2 Score: 0.4524\n",
            "Iteration 113/283, MSE: 2901.7983, R2 Score: 0.4523\n",
            "Iteration 114/283, MSE: 2903.3604, R2 Score: 0.4520\n",
            "Iteration 115/283, MSE: 2903.0165, R2 Score: 0.4521\n",
            "Iteration 116/283, MSE: 2898.4612, R2 Score: 0.4529\n",
            "Iteration 117/283, MSE: 2894.1008, R2 Score: 0.4538\n",
            "Iteration 118/283, MSE: 2897.2364, R2 Score: 0.4532\n",
            "Iteration 119/283, MSE: 2885.8805, R2 Score: 0.4553\n",
            "Iteration 120/283, MSE: 2885.2614, R2 Score: 0.4554\n",
            "Iteration 121/283, MSE: 2882.1627, R2 Score: 0.4560\n",
            "Iteration 122/283, MSE: 2887.3501, R2 Score: 0.4550\n",
            "Iteration 123/283, MSE: 2887.5232, R2 Score: 0.4550\n",
            "Iteration 124/283, MSE: 2889.7830, R2 Score: 0.4546\n",
            "Iteration 125/283, MSE: 2889.4021, R2 Score: 0.4546\n",
            "Iteration 126/283, MSE: 2893.8751, R2 Score: 0.4538\n",
            "Iteration 127/283, MSE: 2893.5910, R2 Score: 0.4538\n",
            "Iteration 128/283, MSE: 2913.5601, R2 Score: 0.4501\n",
            "Iteration 129/283, MSE: 2908.6392, R2 Score: 0.4510\n",
            "Iteration 130/283, MSE: 2898.7141, R2 Score: 0.4529\n",
            "Iteration 131/283, MSE: 2897.9334, R2 Score: 0.4530\n",
            "Iteration 132/283, MSE: 2897.4836, R2 Score: 0.4531\n",
            "Iteration 133/283, MSE: 2892.0777, R2 Score: 0.4541\n",
            "Iteration 134/283, MSE: 2893.4433, R2 Score: 0.4539\n",
            "Iteration 135/283, MSE: 2895.4109, R2 Score: 0.4535\n",
            "Iteration 136/283, MSE: 2909.0509, R2 Score: 0.4509\n",
            "Iteration 137/283, MSE: 2904.1247, R2 Score: 0.4519\n",
            "Iteration 138/283, MSE: 2905.3780, R2 Score: 0.4516\n",
            "Iteration 139/283, MSE: 2897.7817, R2 Score: 0.4531\n",
            "Iteration 140/283, MSE: 2906.2752, R2 Score: 0.4515\n",
            "Iteration 141/283, MSE: 2915.7226, R2 Score: 0.4497\n",
            "Iteration 142/283, MSE: 2918.3598, R2 Score: 0.4492\n",
            "Iteration 143/283, MSE: 2919.4039, R2 Score: 0.4490\n",
            "Iteration 144/283, MSE: 2934.3769, R2 Score: 0.4462\n",
            "Iteration 145/283, MSE: 2928.3490, R2 Score: 0.4473\n",
            "Iteration 146/283, MSE: 2930.5445, R2 Score: 0.4469\n",
            "Iteration 147/283, MSE: 2937.5562, R2 Score: 0.4456\n",
            "Iteration 148/283, MSE: 2935.6219, R2 Score: 0.4459\n",
            "Iteration 149/283, MSE: 2934.7000, R2 Score: 0.4461\n",
            "Iteration 150/283, MSE: 2936.7799, R2 Score: 0.4457\n",
            "Iteration 151/283, MSE: 2931.1558, R2 Score: 0.4468\n",
            "Iteration 152/283, MSE: 2936.3292, R2 Score: 0.4458\n",
            "Iteration 153/283, MSE: 2939.3009, R2 Score: 0.4452\n",
            "Iteration 154/283, MSE: 2933.2738, R2 Score: 0.4464\n",
            "Iteration 155/283, MSE: 2918.5830, R2 Score: 0.4491\n",
            "Iteration 156/283, MSE: 2923.8427, R2 Score: 0.4481\n",
            "Iteration 157/283, MSE: 2924.1165, R2 Score: 0.4481\n",
            "Iteration 158/283, MSE: 2924.4637, R2 Score: 0.4480\n",
            "Iteration 159/283, MSE: 2915.0624, R2 Score: 0.4498\n",
            "Iteration 160/283, MSE: 2911.1546, R2 Score: 0.4505\n",
            "Iteration 161/283, MSE: 2912.6168, R2 Score: 0.4503\n",
            "Iteration 162/283, MSE: 2888.1930, R2 Score: 0.4549\n",
            "Iteration 163/283, MSE: 2880.2874, R2 Score: 0.4564\n",
            "Iteration 164/283, MSE: 2880.2077, R2 Score: 0.4564\n",
            "Iteration 165/283, MSE: 2873.1281, R2 Score: 0.4577\n",
            "Iteration 166/283, MSE: 2878.6950, R2 Score: 0.4567\n",
            "Iteration 167/283, MSE: 2865.0020, R2 Score: 0.4592\n",
            "Iteration 168/283, MSE: 2869.6481, R2 Score: 0.4584\n",
            "Iteration 169/283, MSE: 2868.2983, R2 Score: 0.4586\n",
            "Iteration 170/283, MSE: 2882.0968, R2 Score: 0.4560\n",
            "Iteration 171/283, MSE: 2882.0626, R2 Score: 0.4560\n",
            "Iteration 172/283, MSE: 2888.9385, R2 Score: 0.4547\n",
            "Iteration 173/283, MSE: 2889.4669, R2 Score: 0.4546\n",
            "Iteration 174/283, MSE: 2892.0724, R2 Score: 0.4541\n",
            "Iteration 175/283, MSE: 2888.1466, R2 Score: 0.4549\n",
            "Iteration 176/283, MSE: 2887.7313, R2 Score: 0.4550\n",
            "Iteration 177/283, MSE: 2887.9622, R2 Score: 0.4549\n",
            "Iteration 178/283, MSE: 2888.2528, R2 Score: 0.4549\n",
            "Iteration 179/283, MSE: 2884.9719, R2 Score: 0.4555\n",
            "Iteration 180/283, MSE: 2879.4640, R2 Score: 0.4565\n",
            "Iteration 181/283, MSE: 2877.9980, R2 Score: 0.4568\n",
            "Iteration 182/283, MSE: 2878.8203, R2 Score: 0.4566\n",
            "Iteration 183/283, MSE: 2878.8367, R2 Score: 0.4566\n",
            "Iteration 184/283, MSE: 2880.3309, R2 Score: 0.4564\n",
            "Iteration 185/283, MSE: 2881.2301, R2 Score: 0.4562\n",
            "Iteration 186/283, MSE: 2884.5557, R2 Score: 0.4556\n",
            "Iteration 187/283, MSE: 2884.2301, R2 Score: 0.4556\n",
            "Iteration 188/283, MSE: 2879.2110, R2 Score: 0.4566\n",
            "Iteration 189/283, MSE: 2880.2402, R2 Score: 0.4564\n",
            "Iteration 190/283, MSE: 2887.5706, R2 Score: 0.4550\n",
            "Iteration 191/283, MSE: 2895.2780, R2 Score: 0.4535\n",
            "Iteration 192/283, MSE: 2890.1267, R2 Score: 0.4545\n",
            "Iteration 193/283, MSE: 2887.8602, R2 Score: 0.4549\n",
            "Iteration 194/283, MSE: 2882.6291, R2 Score: 0.4559\n",
            "Iteration 195/283, MSE: 2891.9549, R2 Score: 0.4542\n",
            "Iteration 196/283, MSE: 2892.5591, R2 Score: 0.4540\n",
            "Iteration 197/283, MSE: 2891.2172, R2 Score: 0.4543\n",
            "Iteration 198/283, MSE: 2891.7099, R2 Score: 0.4542\n",
            "Iteration 199/283, MSE: 2897.0512, R2 Score: 0.4532\n",
            "Iteration 200/283, MSE: 2892.3601, R2 Score: 0.4541\n",
            "Iteration 201/283, MSE: 2903.5336, R2 Score: 0.4520\n",
            "Iteration 202/283, MSE: 2906.5899, R2 Score: 0.4514\n",
            "Iteration 203/283, MSE: 2908.4619, R2 Score: 0.4510\n",
            "Iteration 204/283, MSE: 2912.7799, R2 Score: 0.4502\n",
            "Iteration 205/283, MSE: 2912.5845, R2 Score: 0.4503\n",
            "Iteration 206/283, MSE: 2922.1574, R2 Score: 0.4485\n",
            "Iteration 207/283, MSE: 2915.1857, R2 Score: 0.4498\n",
            "Iteration 208/283, MSE: 2899.7697, R2 Score: 0.4527\n",
            "Iteration 209/283, MSE: 2900.7122, R2 Score: 0.4525\n",
            "Iteration 210/283, MSE: 2905.3713, R2 Score: 0.4516\n",
            "Iteration 211/283, MSE: 2918.7662, R2 Score: 0.4491\n",
            "Iteration 212/283, MSE: 2916.3422, R2 Score: 0.4496\n",
            "Iteration 213/283, MSE: 2913.9684, R2 Score: 0.4500\n",
            "Iteration 214/283, MSE: 2912.6708, R2 Score: 0.4502\n",
            "Iteration 215/283, MSE: 2913.9536, R2 Score: 0.4500\n",
            "Iteration 216/283, MSE: 2912.4382, R2 Score: 0.4503\n",
            "Iteration 217/283, MSE: 2913.8276, R2 Score: 0.4500\n",
            "Iteration 218/283, MSE: 2902.5854, R2 Score: 0.4522\n",
            "Iteration 219/283, MSE: 2902.6416, R2 Score: 0.4521\n",
            "Iteration 220/283, MSE: 2902.0014, R2 Score: 0.4523\n",
            "Iteration 221/283, MSE: 2903.8754, R2 Score: 0.4519\n",
            "Iteration 222/283, MSE: 2902.8213, R2 Score: 0.4521\n",
            "Iteration 223/283, MSE: 2898.9442, R2 Score: 0.4528\n",
            "Iteration 224/283, MSE: 2905.1918, R2 Score: 0.4517\n",
            "Iteration 225/283, MSE: 2915.6632, R2 Score: 0.4497\n",
            "Iteration 226/283, MSE: 2916.7809, R2 Score: 0.4495\n",
            "Iteration 227/283, MSE: 2916.8876, R2 Score: 0.4495\n",
            "Iteration 228/283, MSE: 2917.5748, R2 Score: 0.4493\n",
            "Iteration 229/283, MSE: 2916.7130, R2 Score: 0.4495\n",
            "Iteration 230/283, MSE: 2920.3741, R2 Score: 0.4488\n",
            "Iteration 231/283, MSE: 2929.8047, R2 Score: 0.4470\n",
            "Iteration 232/283, MSE: 2928.6071, R2 Score: 0.4472\n",
            "Iteration 233/283, MSE: 2932.0316, R2 Score: 0.4466\n",
            "Iteration 234/283, MSE: 2918.7631, R2 Score: 0.4491\n",
            "Iteration 235/283, MSE: 2916.9667, R2 Score: 0.4494\n",
            "Iteration 236/283, MSE: 2917.4879, R2 Score: 0.4493\n",
            "Iteration 237/283, MSE: 2915.8784, R2 Score: 0.4496\n",
            "Iteration 238/283, MSE: 2911.3373, R2 Score: 0.4505\n",
            "Iteration 239/283, MSE: 2907.5138, R2 Score: 0.4512\n",
            "Iteration 240/283, MSE: 2901.9460, R2 Score: 0.4523\n",
            "Iteration 241/283, MSE: 2898.3938, R2 Score: 0.4529\n",
            "Iteration 242/283, MSE: 2898.5421, R2 Score: 0.4529\n",
            "Iteration 243/283, MSE: 2897.7013, R2 Score: 0.4531\n",
            "Iteration 244/283, MSE: 2898.3891, R2 Score: 0.4529\n",
            "Iteration 245/283, MSE: 2903.4974, R2 Score: 0.4520\n",
            "Iteration 246/283, MSE: 2903.2621, R2 Score: 0.4520\n",
            "Iteration 247/283, MSE: 2904.4830, R2 Score: 0.4518\n",
            "Iteration 248/283, MSE: 2905.7003, R2 Score: 0.4516\n",
            "Iteration 249/283, MSE: 2909.4562, R2 Score: 0.4509\n",
            "Iteration 250/283, MSE: 2907.9994, R2 Score: 0.4511\n",
            "Iteration 251/283, MSE: 2907.7754, R2 Score: 0.4512\n",
            "Iteration 252/283, MSE: 2902.8989, R2 Score: 0.4521\n",
            "Iteration 253/283, MSE: 2908.5983, R2 Score: 0.4510\n",
            "Iteration 254/283, MSE: 2902.5711, R2 Score: 0.4522\n",
            "Iteration 255/283, MSE: 2899.3247, R2 Score: 0.4528\n",
            "Iteration 256/283, MSE: 2900.9183, R2 Score: 0.4525\n",
            "Iteration 257/283, MSE: 2901.5158, R2 Score: 0.4524\n",
            "Iteration 258/283, MSE: 2901.1850, R2 Score: 0.4524\n",
            "Iteration 259/283, MSE: 2902.6622, R2 Score: 0.4521\n",
            "Iteration 260/283, MSE: 2901.8098, R2 Score: 0.4523\n",
            "Iteration 261/283, MSE: 2896.3759, R2 Score: 0.4533\n",
            "Iteration 262/283, MSE: 2897.8463, R2 Score: 0.4530\n",
            "Iteration 263/283, MSE: 2901.2959, R2 Score: 0.4524\n",
            "Iteration 264/283, MSE: 2900.0251, R2 Score: 0.4526\n",
            "Iteration 265/283, MSE: 2896.4484, R2 Score: 0.4533\n",
            "Iteration 266/283, MSE: 2896.9142, R2 Score: 0.4532\n",
            "Iteration 267/283, MSE: 2898.1137, R2 Score: 0.4530\n",
            "Iteration 268/283, MSE: 2904.1974, R2 Score: 0.4518\n",
            "Iteration 269/283, MSE: 2898.7134, R2 Score: 0.4529\n",
            "Iteration 270/283, MSE: 2898.8720, R2 Score: 0.4529\n",
            "Iteration 271/283, MSE: 2898.7797, R2 Score: 0.4529\n",
            "Iteration 272/283, MSE: 2893.9340, R2 Score: 0.4538\n",
            "Iteration 273/283, MSE: 2893.0672, R2 Score: 0.4539\n",
            "Iteration 274/283, MSE: 2893.1102, R2 Score: 0.4539\n",
            "Iteration 275/283, MSE: 2893.3291, R2 Score: 0.4539\n",
            "Iteration 276/283, MSE: 2894.4312, R2 Score: 0.4537\n",
            "Iteration 277/283, MSE: 2894.1117, R2 Score: 0.4538\n",
            "Iteration 278/283, MSE: 2895.9076, R2 Score: 0.4534\n",
            "Iteration 279/283, MSE: 2896.2908, R2 Score: 0.4533\n",
            "Iteration 280/283, MSE: 2895.2564, R2 Score: 0.4535\n",
            "Iteration 281/283, MSE: 2894.6777, R2 Score: 0.4536\n",
            "Iteration 282/283, MSE: 2893.2379, R2 Score: 0.4539\n",
            "Iteration 283/283, MSE: 2895.0307, R2 Score: 0.4536\n"
          ]
        }
      ],
      "source": [
        "# Цикл онлайн обучения модели\n",
        "n_queries, _ = X_pool.shape\n",
        "mse_history, accuracy_history, posterior_history = [],[],[]\n",
        "\n",
        "for i in range(n_queries):\n",
        "    model.fit(X_train, y_train)\n",
        "    y_mean, y_std = model.predict(X_pool, return_std=True)\n",
        "    \n",
        "    bad_i = np.argmax(y_std)\n",
        "    \n",
        "    bad_line = X_pool[bad_i].reshape(-1, X_pool.shape[1])\n",
        "    bad_line_y = np.array([y_pool[bad_i]])\n",
        "    \n",
        "    y_train = np.hstack((y_train, bad_line_y))    \n",
        "    X_train = np.vstack((X_train, bad_line))\n",
        "    \n",
        "    X_pool = np.delete(X_pool, bad_i, axis=0)\n",
        "    y_pool = np.delete(y_pool, bad_i, axis=0)\n",
        "    \n",
        "    y_test_pred = model.predict(X_test)\n",
        "    mse         = mean_squared_error(y_test, y_test_pred)\n",
        "    accuracy    = r2_score(y_test, y_test_pred)  # R-squared as accuracy\n",
        "    mse_history     .append(mse     )\n",
        "    accuracy_history.append(accuracy)\n",
        "    \n",
        "    posterior_history.append(model.m_N)\n",
        "\n",
        "\n",
        "    print(f\"Iteration {i + 1}/{n_queries}, MSE: {mse:.4f}, R2 Score: {accuracy:.4f}\")"
      ]
    },
    {
      "cell_type": "code",
      "execution_count": 10,
      "id": "f2092fe2-6329-40f0-8cc8-551966f48800",
      "metadata": {
        "id": "f2092fe2-6329-40f0-8cc8-551966f48800"
      },
      "outputs": [
        {
          "data": {
            "application/vnd.plotly.v1+json": {
              "config": {
                "plotlyServerURL": "https://plot.ly"
              },
              "data": [
                {
                  "line": {
                    "color": "blue"
                  },
                  "mode": "lines+markers",
                  "name": "MSE",
                  "type": "scatter",
                  "x": [
                    1,
                    2,
                    3,
                    4,
                    5,
                    6,
                    7,
                    8,
                    9,
                    10,
                    11,
                    12,
                    13,
                    14,
                    15,
                    16,
                    17,
                    18,
                    19,
                    20,
                    21,
                    22,
                    23,
                    24,
                    25,
                    26,
                    27,
                    28,
                    29,
                    30,
                    31,
                    32,
                    33,
                    34,
                    35,
                    36,
                    37,
                    38,
                    39,
                    40,
                    41,
                    42,
                    43,
                    44,
                    45,
                    46,
                    47,
                    48,
                    49,
                    50,
                    51,
                    52,
                    53,
                    54,
                    55,
                    56,
                    57,
                    58,
                    59,
                    60,
                    61,
                    62,
                    63,
                    64,
                    65,
                    66,
                    67,
                    68,
                    69,
                    70,
                    71,
                    72,
                    73,
                    74,
                    75,
                    76,
                    77,
                    78,
                    79,
                    80,
                    81,
                    82,
                    83,
                    84,
                    85,
                    86,
                    87,
                    88,
                    89,
                    90,
                    91,
                    92,
                    93,
                    94,
                    95,
                    96,
                    97,
                    98,
                    99,
                    100,
                    101,
                    102,
                    103,
                    104,
                    105,
                    106,
                    107,
                    108,
                    109,
                    110,
                    111,
                    112,
                    113,
                    114,
                    115,
                    116,
                    117,
                    118,
                    119,
                    120,
                    121,
                    122,
                    123,
                    124,
                    125,
                    126,
                    127,
                    128,
                    129,
                    130,
                    131,
                    132,
                    133,
                    134,
                    135,
                    136,
                    137,
                    138,
                    139,
                    140,
                    141,
                    142,
                    143,
                    144,
                    145,
                    146,
                    147,
                    148,
                    149,
                    150,
                    151,
                    152,
                    153,
                    154,
                    155,
                    156,
                    157,
                    158,
                    159,
                    160,
                    161,
                    162,
                    163,
                    164,
                    165,
                    166,
                    167,
                    168,
                    169,
                    170,
                    171,
                    172,
                    173,
                    174,
                    175,
                    176,
                    177,
                    178,
                    179,
                    180,
                    181,
                    182,
                    183,
                    184,
                    185,
                    186,
                    187,
                    188,
                    189,
                    190,
                    191,
                    192,
                    193,
                    194,
                    195,
                    196,
                    197,
                    198,
                    199,
                    200,
                    201,
                    202,
                    203,
                    204,
                    205,
                    206,
                    207,
                    208,
                    209,
                    210,
                    211,
                    212,
                    213,
                    214,
                    215,
                    216,
                    217,
                    218,
                    219,
                    220,
                    221,
                    222,
                    223,
                    224,
                    225,
                    226,
                    227,
                    228,
                    229,
                    230,
                    231,
                    232,
                    233,
                    234,
                    235,
                    236,
                    237,
                    238,
                    239,
                    240,
                    241,
                    242,
                    243,
                    244,
                    245,
                    246,
                    247,
                    248,
                    249,
                    250,
                    251,
                    252,
                    253,
                    254,
                    255,
                    256,
                    257,
                    258,
                    259,
                    260,
                    261,
                    262,
                    263,
                    264,
                    265,
                    266,
                    267,
                    268,
                    269,
                    270,
                    271,
                    272,
                    273,
                    274,
                    275,
                    276,
                    277,
                    278,
                    279,
                    280,
                    281,
                    282,
                    283
                  ],
                  "y": [
                    3562.4282112584106,
                    3601.3140061944728,
                    3622.3014430981784,
                    3481.702422450092,
                    3475.3463406727087,
                    3456.355195742351,
                    3492.377852807221,
                    3494.768732825035,
                    3535.220722059582,
                    3357.6098367073605,
                    3415.2678369545374,
                    3378.904722195584,
                    3383.406398905757,
                    3373.305764054986,
                    3296.3307682409622,
                    3240.452231025671,
                    3253.1532645943225,
                    3266.34746963412,
                    3255.6913149463453,
                    3248.2490220471013,
                    3296.455975190221,
                    3292.0659590545574,
                    3280.3099831459604,
                    3164.474302474666,
                    3153.5096508177867,
                    3151.99894027368,
                    3134.1025319987316,
                    3138.6909565511746,
                    3113.3571397275336,
                    3118.763305127981,
                    3093.53185945766,
                    3086.507433540289,
                    3084.8933281198324,
                    3057.051177225536,
                    3051.4887028734856,
                    3093.3323358129915,
                    3080.8337450220556,
                    3076.85842843567,
                    3072.370497404032,
                    3066.3699111468145,
                    3069.003687925234,
                    3082.5411660029267,
                    3078.967751515241,
                    3089.549276201437,
                    3106.6064513327633,
                    3112.533914286246,
                    3104.501601710762,
                    3104.4265913742843,
                    3076.2509767485217,
                    3053.8955074040437,
                    3042.121313418866,
                    3058.937659483431,
                    3051.171810084381,
                    2966.5048820118777,
                    2959.16372664071,
                    2964.471993358236,
                    2964.931303657617,
                    2965.009734562404,
                    2950.5415133193646,
                    2947.2267396112047,
                    2939.919424828751,
                    2961.2403441022298,
                    2961.69610304579,
                    2964.3809389579164,
                    2994.430367022066,
                    2993.9498422304277,
                    3003.4663263739208,
                    3013.141162240649,
                    3006.562580690594,
                    3025.0793611544914,
                    3025.598069114088,
                    3029.568190860308,
                    3004.1632397055655,
                    3007.7679998417366,
                    3010.299299856952,
                    3007.3187867832644,
                    3006.673370675445,
                    2991.219209162691,
                    2991.218395801031,
                    2987.4455232994414,
                    2964.76697663414,
                    2964.959026225668,
                    2956.616605587359,
                    2948.9420776048314,
                    2917.464687180152,
                    2907.5576489269624,
                    2908.017976210138,
                    2873.849327754586,
                    2872.863909584004,
                    2873.0323895795045,
                    2894.80153716418,
                    2889.21268786078,
                    2913.2557243036254,
                    2913.1417845343985,
                    2909.315324092911,
                    2897.6935857830254,
                    2897.153106810049,
                    2916.3118142938224,
                    2909.029474411958,
                    2908.9110417798906,
                    2909.708683973419,
                    2908.482584756005,
                    2897.668191383923,
                    2891.9362884858183,
                    2887.7872434692345,
                    2887.8020977235747,
                    2895.159021860994,
                    2894.085099708424,
                    2890.3764985744488,
                    2885.4366793042846,
                    2890.9898159237387,
                    2901.3939297754964,
                    2901.7983292591166,
                    2903.360382484961,
                    2903.0165303739177,
                    2898.4612093329565,
                    2894.1008442074844,
                    2897.2363905506436,
                    2885.8804982930014,
                    2885.261373228232,
                    2882.16274313646,
                    2887.350114268227,
                    2887.5232219676063,
                    2889.7830233292334,
                    2889.4020752139954,
                    2893.875102649637,
                    2893.590966589149,
                    2913.5601203657343,
                    2908.639169662118,
                    2898.714062227153,
                    2897.9333582744453,
                    2897.4836315341063,
                    2892.0776945534044,
                    2893.4433058776754,
                    2895.4108569463156,
                    2909.050888498455,
                    2904.1246893840457,
                    2905.3780362871894,
                    2897.781717397788,
                    2906.275223506094,
                    2915.722628840858,
                    2918.3597647704887,
                    2919.4039499018268,
                    2934.3768987515305,
                    2928.3489503995384,
                    2930.5445038246207,
                    2937.5562145415884,
                    2935.621884565518,
                    2934.7000425133333,
                    2936.7799308366393,
                    2931.1557733837753,
                    2936.3291983363974,
                    2939.3009264370667,
                    2933.273830838661,
                    2918.583027109508,
                    2923.842680695421,
                    2924.116480599786,
                    2924.463660337036,
                    2915.0623559066266,
                    2911.1545596691194,
                    2912.6167658010377,
                    2888.1930444797486,
                    2880.2873789606447,
                    2880.2077134780297,
                    2873.128090346601,
                    2878.69501643893,
                    2865.001959038477,
                    2869.6481444625792,
                    2868.298268854594,
                    2882.0968163560774,
                    2882.0626194237666,
                    2888.93845180101,
                    2889.4668806550444,
                    2892.072443401057,
                    2888.146579781996,
                    2887.731262018447,
                    2887.9621776152826,
                    2888.2528064847133,
                    2884.9719338287564,
                    2879.4640434526937,
                    2877.997999754519,
                    2878.8203445404774,
                    2878.8366815299128,
                    2880.3308828754466,
                    2881.230062133308,
                    2884.555695287504,
                    2884.2301325849908,
                    2879.2109584112795,
                    2880.240246822481,
                    2887.5705934650005,
                    2895.2780464657144,
                    2890.126663210569,
                    2887.860226447908,
                    2882.629051837946,
                    2891.95493366637,
                    2892.559096000944,
                    2891.2172110902106,
                    2891.709905904369,
                    2897.0511761713497,
                    2892.3600678194966,
                    2903.5336053695178,
                    2906.589860864735,
                    2908.461897763675,
                    2912.7799123663426,
                    2912.5845257852325,
                    2922.1573520951506,
                    2915.185670609185,
                    2899.7697060307523,
                    2900.712194205613,
                    2905.371339439581,
                    2918.7662390778055,
                    2916.3422404995836,
                    2913.9683827417166,
                    2912.670765555702,
                    2913.953556071412,
                    2912.4381655898696,
                    2913.8275826273557,
                    2902.585418556324,
                    2902.641616955559,
                    2902.0013936823075,
                    2903.875438018095,
                    2902.821306625849,
                    2898.9441735840505,
                    2905.191836499081,
                    2915.6632166537547,
                    2916.7809340487183,
                    2916.8876058303736,
                    2917.5747752898565,
                    2916.7129520881717,
                    2920.3740661561455,
                    2929.8047128309486,
                    2928.607123264879,
                    2932.031611052836,
                    2918.7631434900495,
                    2916.9667073554947,
                    2917.4879430631913,
                    2915.8784407962144,
                    2911.3372713468866,
                    2907.5138297910244,
                    2901.946000167836,
                    2898.3937579790863,
                    2898.5420917132046,
                    2897.701263315184,
                    2898.389141079629,
                    2903.4974129792954,
                    2903.262140079501,
                    2904.4829543640694,
                    2905.70032014745,
                    2909.45621591945,
                    2907.9993619142165,
                    2907.7754388718395,
                    2902.898925091148,
                    2908.5983259226605,
                    2902.5711085247826,
                    2899.32473170818,
                    2900.9183020294,
                    2901.515787384803,
                    2901.184967123594,
                    2902.6621692261638,
                    2901.809813080359,
                    2896.37592649641,
                    2897.846319150669,
                    2901.29591528803,
                    2900.0251005384043,
                    2896.44844556259,
                    2896.914239465307,
                    2898.1137405840163,
                    2904.1974401514367,
                    2898.7134305364402,
                    2898.8719566868845,
                    2898.7797393240403,
                    2893.9339867654544,
                    2893.0672229828647,
                    2893.1102303110233,
                    2893.3290543140524,
                    2894.4312148345675,
                    2894.111706492956,
                    2895.9076347793566,
                    2896.2908037486536,
                    2895.2563953937456,
                    2894.6776857514037,
                    2893.2378691257572,
                    2895.0306585699154
                  ]
                }
              ],
              "layout": {
                "legend": {
                  "title": {
                    "text": "Metrics"
                  }
                },
                "template": {
                  "data": {
                    "bar": [
                      {
                        "error_x": {
                          "color": "#f2f5fa"
                        },
                        "error_y": {
                          "color": "#f2f5fa"
                        },
                        "marker": {
                          "line": {
                            "color": "rgb(17,17,17)",
                            "width": 0.5
                          },
                          "pattern": {
                            "fillmode": "overlay",
                            "size": 10,
                            "solidity": 0.2
                          }
                        },
                        "type": "bar"
                      }
                    ],
                    "barpolar": [
                      {
                        "marker": {
                          "line": {
                            "color": "rgb(17,17,17)",
                            "width": 0.5
                          },
                          "pattern": {
                            "fillmode": "overlay",
                            "size": 10,
                            "solidity": 0.2
                          }
                        },
                        "type": "barpolar"
                      }
                    ],
                    "carpet": [
                      {
                        "aaxis": {
                          "endlinecolor": "#A2B1C6",
                          "gridcolor": "#506784",
                          "linecolor": "#506784",
                          "minorgridcolor": "#506784",
                          "startlinecolor": "#A2B1C6"
                        },
                        "baxis": {
                          "endlinecolor": "#A2B1C6",
                          "gridcolor": "#506784",
                          "linecolor": "#506784",
                          "minorgridcolor": "#506784",
                          "startlinecolor": "#A2B1C6"
                        },
                        "type": "carpet"
                      }
                    ],
                    "choropleth": [
                      {
                        "colorbar": {
                          "outlinewidth": 0,
                          "ticks": ""
                        },
                        "type": "choropleth"
                      }
                    ],
                    "contour": [
                      {
                        "colorbar": {
                          "outlinewidth": 0,
                          "ticks": ""
                        },
                        "colorscale": [
                          [
                            0,
                            "#0d0887"
                          ],
                          [
                            0.1111111111111111,
                            "#46039f"
                          ],
                          [
                            0.2222222222222222,
                            "#7201a8"
                          ],
                          [
                            0.3333333333333333,
                            "#9c179e"
                          ],
                          [
                            0.4444444444444444,
                            "#bd3786"
                          ],
                          [
                            0.5555555555555556,
                            "#d8576b"
                          ],
                          [
                            0.6666666666666666,
                            "#ed7953"
                          ],
                          [
                            0.7777777777777778,
                            "#fb9f3a"
                          ],
                          [
                            0.8888888888888888,
                            "#fdca26"
                          ],
                          [
                            1,
                            "#f0f921"
                          ]
                        ],
                        "type": "contour"
                      }
                    ],
                    "contourcarpet": [
                      {
                        "colorbar": {
                          "outlinewidth": 0,
                          "ticks": ""
                        },
                        "type": "contourcarpet"
                      }
                    ],
                    "heatmap": [
                      {
                        "colorbar": {
                          "outlinewidth": 0,
                          "ticks": ""
                        },
                        "colorscale": [
                          [
                            0,
                            "#0d0887"
                          ],
                          [
                            0.1111111111111111,
                            "#46039f"
                          ],
                          [
                            0.2222222222222222,
                            "#7201a8"
                          ],
                          [
                            0.3333333333333333,
                            "#9c179e"
                          ],
                          [
                            0.4444444444444444,
                            "#bd3786"
                          ],
                          [
                            0.5555555555555556,
                            "#d8576b"
                          ],
                          [
                            0.6666666666666666,
                            "#ed7953"
                          ],
                          [
                            0.7777777777777778,
                            "#fb9f3a"
                          ],
                          [
                            0.8888888888888888,
                            "#fdca26"
                          ],
                          [
                            1,
                            "#f0f921"
                          ]
                        ],
                        "type": "heatmap"
                      }
                    ],
                    "heatmapgl": [
                      {
                        "colorbar": {
                          "outlinewidth": 0,
                          "ticks": ""
                        },
                        "colorscale": [
                          [
                            0,
                            "#0d0887"
                          ],
                          [
                            0.1111111111111111,
                            "#46039f"
                          ],
                          [
                            0.2222222222222222,
                            "#7201a8"
                          ],
                          [
                            0.3333333333333333,
                            "#9c179e"
                          ],
                          [
                            0.4444444444444444,
                            "#bd3786"
                          ],
                          [
                            0.5555555555555556,
                            "#d8576b"
                          ],
                          [
                            0.6666666666666666,
                            "#ed7953"
                          ],
                          [
                            0.7777777777777778,
                            "#fb9f3a"
                          ],
                          [
                            0.8888888888888888,
                            "#fdca26"
                          ],
                          [
                            1,
                            "#f0f921"
                          ]
                        ],
                        "type": "heatmapgl"
                      }
                    ],
                    "histogram": [
                      {
                        "marker": {
                          "pattern": {
                            "fillmode": "overlay",
                            "size": 10,
                            "solidity": 0.2
                          }
                        },
                        "type": "histogram"
                      }
                    ],
                    "histogram2d": [
                      {
                        "colorbar": {
                          "outlinewidth": 0,
                          "ticks": ""
                        },
                        "colorscale": [
                          [
                            0,
                            "#0d0887"
                          ],
                          [
                            0.1111111111111111,
                            "#46039f"
                          ],
                          [
                            0.2222222222222222,
                            "#7201a8"
                          ],
                          [
                            0.3333333333333333,
                            "#9c179e"
                          ],
                          [
                            0.4444444444444444,
                            "#bd3786"
                          ],
                          [
                            0.5555555555555556,
                            "#d8576b"
                          ],
                          [
                            0.6666666666666666,
                            "#ed7953"
                          ],
                          [
                            0.7777777777777778,
                            "#fb9f3a"
                          ],
                          [
                            0.8888888888888888,
                            "#fdca26"
                          ],
                          [
                            1,
                            "#f0f921"
                          ]
                        ],
                        "type": "histogram2d"
                      }
                    ],
                    "histogram2dcontour": [
                      {
                        "colorbar": {
                          "outlinewidth": 0,
                          "ticks": ""
                        },
                        "colorscale": [
                          [
                            0,
                            "#0d0887"
                          ],
                          [
                            0.1111111111111111,
                            "#46039f"
                          ],
                          [
                            0.2222222222222222,
                            "#7201a8"
                          ],
                          [
                            0.3333333333333333,
                            "#9c179e"
                          ],
                          [
                            0.4444444444444444,
                            "#bd3786"
                          ],
                          [
                            0.5555555555555556,
                            "#d8576b"
                          ],
                          [
                            0.6666666666666666,
                            "#ed7953"
                          ],
                          [
                            0.7777777777777778,
                            "#fb9f3a"
                          ],
                          [
                            0.8888888888888888,
                            "#fdca26"
                          ],
                          [
                            1,
                            "#f0f921"
                          ]
                        ],
                        "type": "histogram2dcontour"
                      }
                    ],
                    "mesh3d": [
                      {
                        "colorbar": {
                          "outlinewidth": 0,
                          "ticks": ""
                        },
                        "type": "mesh3d"
                      }
                    ],
                    "parcoords": [
                      {
                        "line": {
                          "colorbar": {
                            "outlinewidth": 0,
                            "ticks": ""
                          }
                        },
                        "type": "parcoords"
                      }
                    ],
                    "pie": [
                      {
                        "automargin": true,
                        "type": "pie"
                      }
                    ],
                    "scatter": [
                      {
                        "marker": {
                          "line": {
                            "color": "#283442"
                          }
                        },
                        "type": "scatter"
                      }
                    ],
                    "scatter3d": [
                      {
                        "line": {
                          "colorbar": {
                            "outlinewidth": 0,
                            "ticks": ""
                          }
                        },
                        "marker": {
                          "colorbar": {
                            "outlinewidth": 0,
                            "ticks": ""
                          }
                        },
                        "type": "scatter3d"
                      }
                    ],
                    "scattercarpet": [
                      {
                        "marker": {
                          "colorbar": {
                            "outlinewidth": 0,
                            "ticks": ""
                          }
                        },
                        "type": "scattercarpet"
                      }
                    ],
                    "scattergeo": [
                      {
                        "marker": {
                          "colorbar": {
                            "outlinewidth": 0,
                            "ticks": ""
                          }
                        },
                        "type": "scattergeo"
                      }
                    ],
                    "scattergl": [
                      {
                        "marker": {
                          "line": {
                            "color": "#283442"
                          }
                        },
                        "type": "scattergl"
                      }
                    ],
                    "scattermapbox": [
                      {
                        "marker": {
                          "colorbar": {
                            "outlinewidth": 0,
                            "ticks": ""
                          }
                        },
                        "type": "scattermapbox"
                      }
                    ],
                    "scatterpolar": [
                      {
                        "marker": {
                          "colorbar": {
                            "outlinewidth": 0,
                            "ticks": ""
                          }
                        },
                        "type": "scatterpolar"
                      }
                    ],
                    "scatterpolargl": [
                      {
                        "marker": {
                          "colorbar": {
                            "outlinewidth": 0,
                            "ticks": ""
                          }
                        },
                        "type": "scatterpolargl"
                      }
                    ],
                    "scatterternary": [
                      {
                        "marker": {
                          "colorbar": {
                            "outlinewidth": 0,
                            "ticks": ""
                          }
                        },
                        "type": "scatterternary"
                      }
                    ],
                    "surface": [
                      {
                        "colorbar": {
                          "outlinewidth": 0,
                          "ticks": ""
                        },
                        "colorscale": [
                          [
                            0,
                            "#0d0887"
                          ],
                          [
                            0.1111111111111111,
                            "#46039f"
                          ],
                          [
                            0.2222222222222222,
                            "#7201a8"
                          ],
                          [
                            0.3333333333333333,
                            "#9c179e"
                          ],
                          [
                            0.4444444444444444,
                            "#bd3786"
                          ],
                          [
                            0.5555555555555556,
                            "#d8576b"
                          ],
                          [
                            0.6666666666666666,
                            "#ed7953"
                          ],
                          [
                            0.7777777777777778,
                            "#fb9f3a"
                          ],
                          [
                            0.8888888888888888,
                            "#fdca26"
                          ],
                          [
                            1,
                            "#f0f921"
                          ]
                        ],
                        "type": "surface"
                      }
                    ],
                    "table": [
                      {
                        "cells": {
                          "fill": {
                            "color": "#506784"
                          },
                          "line": {
                            "color": "rgb(17,17,17)"
                          }
                        },
                        "header": {
                          "fill": {
                            "color": "#2a3f5f"
                          },
                          "line": {
                            "color": "rgb(17,17,17)"
                          }
                        },
                        "type": "table"
                      }
                    ]
                  },
                  "layout": {
                    "annotationdefaults": {
                      "arrowcolor": "#f2f5fa",
                      "arrowhead": 0,
                      "arrowwidth": 1
                    },
                    "autotypenumbers": "strict",
                    "coloraxis": {
                      "colorbar": {
                        "outlinewidth": 0,
                        "ticks": ""
                      }
                    },
                    "colorscale": {
                      "diverging": [
                        [
                          0,
                          "#8e0152"
                        ],
                        [
                          0.1,
                          "#c51b7d"
                        ],
                        [
                          0.2,
                          "#de77ae"
                        ],
                        [
                          0.3,
                          "#f1b6da"
                        ],
                        [
                          0.4,
                          "#fde0ef"
                        ],
                        [
                          0.5,
                          "#f7f7f7"
                        ],
                        [
                          0.6,
                          "#e6f5d0"
                        ],
                        [
                          0.7,
                          "#b8e186"
                        ],
                        [
                          0.8,
                          "#7fbc41"
                        ],
                        [
                          0.9,
                          "#4d9221"
                        ],
                        [
                          1,
                          "#276419"
                        ]
                      ],
                      "sequential": [
                        [
                          0,
                          "#0d0887"
                        ],
                        [
                          0.1111111111111111,
                          "#46039f"
                        ],
                        [
                          0.2222222222222222,
                          "#7201a8"
                        ],
                        [
                          0.3333333333333333,
                          "#9c179e"
                        ],
                        [
                          0.4444444444444444,
                          "#bd3786"
                        ],
                        [
                          0.5555555555555556,
                          "#d8576b"
                        ],
                        [
                          0.6666666666666666,
                          "#ed7953"
                        ],
                        [
                          0.7777777777777778,
                          "#fb9f3a"
                        ],
                        [
                          0.8888888888888888,
                          "#fdca26"
                        ],
                        [
                          1,
                          "#f0f921"
                        ]
                      ],
                      "sequentialminus": [
                        [
                          0,
                          "#0d0887"
                        ],
                        [
                          0.1111111111111111,
                          "#46039f"
                        ],
                        [
                          0.2222222222222222,
                          "#7201a8"
                        ],
                        [
                          0.3333333333333333,
                          "#9c179e"
                        ],
                        [
                          0.4444444444444444,
                          "#bd3786"
                        ],
                        [
                          0.5555555555555556,
                          "#d8576b"
                        ],
                        [
                          0.6666666666666666,
                          "#ed7953"
                        ],
                        [
                          0.7777777777777778,
                          "#fb9f3a"
                        ],
                        [
                          0.8888888888888888,
                          "#fdca26"
                        ],
                        [
                          1,
                          "#f0f921"
                        ]
                      ]
                    },
                    "colorway": [
                      "#636efa",
                      "#EF553B",
                      "#00cc96",
                      "#ab63fa",
                      "#FFA15A",
                      "#19d3f3",
                      "#FF6692",
                      "#B6E880",
                      "#FF97FF",
                      "#FECB52"
                    ],
                    "font": {
                      "color": "#f2f5fa"
                    },
                    "geo": {
                      "bgcolor": "rgb(17,17,17)",
                      "lakecolor": "rgb(17,17,17)",
                      "landcolor": "rgb(17,17,17)",
                      "showlakes": true,
                      "showland": true,
                      "subunitcolor": "#506784"
                    },
                    "hoverlabel": {
                      "align": "left"
                    },
                    "hovermode": "closest",
                    "mapbox": {
                      "style": "dark"
                    },
                    "paper_bgcolor": "rgb(17,17,17)",
                    "plot_bgcolor": "rgb(17,17,17)",
                    "polar": {
                      "angularaxis": {
                        "gridcolor": "#506784",
                        "linecolor": "#506784",
                        "ticks": ""
                      },
                      "bgcolor": "rgb(17,17,17)",
                      "radialaxis": {
                        "gridcolor": "#506784",
                        "linecolor": "#506784",
                        "ticks": ""
                      }
                    },
                    "scene": {
                      "xaxis": {
                        "backgroundcolor": "rgb(17,17,17)",
                        "gridcolor": "#506784",
                        "gridwidth": 2,
                        "linecolor": "#506784",
                        "showbackground": true,
                        "ticks": "",
                        "zerolinecolor": "#C8D4E3"
                      },
                      "yaxis": {
                        "backgroundcolor": "rgb(17,17,17)",
                        "gridcolor": "#506784",
                        "gridwidth": 2,
                        "linecolor": "#506784",
                        "showbackground": true,
                        "ticks": "",
                        "zerolinecolor": "#C8D4E3"
                      },
                      "zaxis": {
                        "backgroundcolor": "rgb(17,17,17)",
                        "gridcolor": "#506784",
                        "gridwidth": 2,
                        "linecolor": "#506784",
                        "showbackground": true,
                        "ticks": "",
                        "zerolinecolor": "#C8D4E3"
                      }
                    },
                    "shapedefaults": {
                      "line": {
                        "color": "#f2f5fa"
                      }
                    },
                    "sliderdefaults": {
                      "bgcolor": "#C8D4E3",
                      "bordercolor": "rgb(17,17,17)",
                      "borderwidth": 1,
                      "tickwidth": 0
                    },
                    "ternary": {
                      "aaxis": {
                        "gridcolor": "#506784",
                        "linecolor": "#506784",
                        "ticks": ""
                      },
                      "baxis": {
                        "gridcolor": "#506784",
                        "linecolor": "#506784",
                        "ticks": ""
                      },
                      "bgcolor": "rgb(17,17,17)",
                      "caxis": {
                        "gridcolor": "#506784",
                        "linecolor": "#506784",
                        "ticks": ""
                      }
                    },
                    "title": {
                      "x": 0.05
                    },
                    "updatemenudefaults": {
                      "bgcolor": "#506784",
                      "borderwidth": 0
                    },
                    "xaxis": {
                      "automargin": true,
                      "gridcolor": "#283442",
                      "linecolor": "#506784",
                      "ticks": "",
                      "title": {
                        "standoff": 15
                      },
                      "zerolinecolor": "#283442",
                      "zerolinewidth": 2
                    },
                    "yaxis": {
                      "automargin": true,
                      "gridcolor": "#283442",
                      "linecolor": "#506784",
                      "ticks": "",
                      "title": {
                        "standoff": 15
                      },
                      "zerolinecolor": "#283442",
                      "zerolinewidth": 2
                    }
                  }
                },
                "title": {
                  "text": "Active Learning Performance"
                },
                "xaxis": {
                  "title": {
                    "text": "Iteration"
                  }
                },
                "yaxis": {
                  "title": {
                    "text": "Metric Value"
                  }
                }
              }
            }
          },
          "metadata": {},
          "output_type": "display_data"
        }
      ],
      "source": [
        "# Plot MSE trends\n",
        "fig_mse = go.Figure()\n",
        "fig_mse.add_trace(\n",
        " go.Scatter(\n",
        "  x=list(range(1, n_queries + 1)), y=mse_history,\n",
        "  mode='lines+markers', name='MSE', line=dict(color='blue')\n",
        " )\n",
        ")\n",
        "fig_mse.update_layout(\n",
        "    title=\"Active Learning Performance\",\n",
        "    xaxis_title=\"Iteration\",\n",
        "    yaxis_title=\"Metric Value\",\n",
        "    legend_title=\"Metrics\",\n",
        "    template=\"plotly_dark\"\n",
        ")\n",
        "fig_mse.show()"
      ]
    },
    {
      "cell_type": "code",
      "execution_count": 11,
      "id": "5baf440a-00b5-44a5-8614-e6e5538aec51",
      "metadata": {
        "id": "5baf440a-00b5-44a5-8614-e6e5538aec51"
      },
      "outputs": [
        {
          "data": {
            "application/vnd.plotly.v1+json": {
              "config": {
                "plotlyServerURL": "https://plot.ly"
              },
              "data": [
                {
                  "line": {
                    "color": "green"
                  },
                  "mode": "lines+markers",
                  "name": "R2 Score",
                  "type": "scatter",
                  "x": [
                    1,
                    2,
                    3,
                    4,
                    5,
                    6,
                    7,
                    8,
                    9,
                    10,
                    11,
                    12,
                    13,
                    14,
                    15,
                    16,
                    17,
                    18,
                    19,
                    20,
                    21,
                    22,
                    23,
                    24,
                    25,
                    26,
                    27,
                    28,
                    29,
                    30,
                    31,
                    32,
                    33,
                    34,
                    35,
                    36,
                    37,
                    38,
                    39,
                    40,
                    41,
                    42,
                    43,
                    44,
                    45,
                    46,
                    47,
                    48,
                    49,
                    50,
                    51,
                    52,
                    53,
                    54,
                    55,
                    56,
                    57,
                    58,
                    59,
                    60,
                    61,
                    62,
                    63,
                    64,
                    65,
                    66,
                    67,
                    68,
                    69,
                    70,
                    71,
                    72,
                    73,
                    74,
                    75,
                    76,
                    77,
                    78,
                    79,
                    80,
                    81,
                    82,
                    83,
                    84,
                    85,
                    86,
                    87,
                    88,
                    89,
                    90,
                    91,
                    92,
                    93,
                    94,
                    95,
                    96,
                    97,
                    98,
                    99,
                    100,
                    101,
                    102,
                    103,
                    104,
                    105,
                    106,
                    107,
                    108,
                    109,
                    110,
                    111,
                    112,
                    113,
                    114,
                    115,
                    116,
                    117,
                    118,
                    119,
                    120,
                    121,
                    122,
                    123,
                    124,
                    125,
                    126,
                    127,
                    128,
                    129,
                    130,
                    131,
                    132,
                    133,
                    134,
                    135,
                    136,
                    137,
                    138,
                    139,
                    140,
                    141,
                    142,
                    143,
                    144,
                    145,
                    146,
                    147,
                    148,
                    149,
                    150,
                    151,
                    152,
                    153,
                    154,
                    155,
                    156,
                    157,
                    158,
                    159,
                    160,
                    161,
                    162,
                    163,
                    164,
                    165,
                    166,
                    167,
                    168,
                    169,
                    170,
                    171,
                    172,
                    173,
                    174,
                    175,
                    176,
                    177,
                    178,
                    179,
                    180,
                    181,
                    182,
                    183,
                    184,
                    185,
                    186,
                    187,
                    188,
                    189,
                    190,
                    191,
                    192,
                    193,
                    194,
                    195,
                    196,
                    197,
                    198,
                    199,
                    200,
                    201,
                    202,
                    203,
                    204,
                    205,
                    206,
                    207,
                    208,
                    209,
                    210,
                    211,
                    212,
                    213,
                    214,
                    215,
                    216,
                    217,
                    218,
                    219,
                    220,
                    221,
                    222,
                    223,
                    224,
                    225,
                    226,
                    227,
                    228,
                    229,
                    230,
                    231,
                    232,
                    233,
                    234,
                    235,
                    236,
                    237,
                    238,
                    239,
                    240,
                    241,
                    242,
                    243,
                    244,
                    245,
                    246,
                    247,
                    248,
                    249,
                    250,
                    251,
                    252,
                    253,
                    254,
                    255,
                    256,
                    257,
                    258,
                    259,
                    260,
                    261,
                    262,
                    263,
                    264,
                    265,
                    266,
                    267,
                    268,
                    269,
                    270,
                    271,
                    272,
                    273,
                    274,
                    275,
                    276,
                    277,
                    278,
                    279,
                    280,
                    281,
                    282,
                    283
                  ],
                  "y": [
                    0.3276092531219337,
                    0.3202697512009195,
                    0.31630847604310963,
                    0.3428458474363416,
                    0.3440455265091735,
                    0.34763001140726557,
                    0.3408309126319321,
                    0.3403796458258269,
                    0.3327445324590056,
                    0.36626771068846076,
                    0.3553850476421785,
                    0.36224840612735876,
                    0.3613987368608199,
                    0.3633051818496029,
                    0.3778338324937781,
                    0.38838063067315,
                    0.385983373257447,
                    0.3834930321600083,
                    0.38550432877693863,
                    0.3869090248393584,
                    0.37781020029991097,
                    0.37863879418397484,
                    0.3808576766295161,
                    0.40272108979123367,
                    0.4047906136888738,
                    0.4050757528498141,
                    0.4084536116059283,
                    0.40758756911219873,
                    0.4123692020336669,
                    0.4113488149898339,
                    0.4161111258612402,
                    0.41743695159270167,
                    0.41774160602637445,
                    0.4229966746268712,
                    0.42404656421404807,
                    0.4161487849646671,
                    0.41850783230498434,
                    0.41925815369536346,
                    0.42010522853290355,
                    0.42123780958041646,
                    0.4207406972092662,
                    0.4181855650197279,
                    0.41886002937207234,
                    0.4168628187996952,
                    0.41364336115843336,
                    0.4125245817736901,
                    0.41404064113868144,
                    0.41405479896957,
                    0.4193728072039795,
                    0.4235922917347382,
                    0.4258146127523411,
                    0.4226406104091138,
                    0.42410637616435565,
                    0.4400868410682174,
                    0.44147244792125306,
                    0.4404705387707626,
                    0.4403838462181173,
                    0.4403690427718384,
                    0.4430998481412939,
                    0.44372549532270733,
                    0.445104714931602,
                    0.4410804966219909,
                    0.4409944743702333,
                    0.4404877248395356,
                    0.4348160435645394,
                    0.4349067402479201,
                    0.4331105508227763,
                    0.43128447329122266,
                    0.4325261480982714,
                    0.42903119715257954,
                    0.42893329358465293,
                    0.42818395269472254,
                    0.4329790118701897,
                    0.4322986311813617,
                    0.4318208607936177,
                    0.432383417929608,
                    0.432505237035299,
                    0.43542213376576366,
                    0.43542228728376364,
                    0.4361343983520519,
                    0.4404148621329641,
                    0.4403786137201885,
                    0.4419532044518798,
                    0.44340173374035796,
                    0.44934293586494656,
                    0.4512128404511947,
                    0.4511259559478762,
                    0.4575751197463874,
                    0.4577611125637615,
                    0.4577293127959371,
                    0.45362049360426904,
                    0.4546753613333717,
                    0.4501373568397148,
                    0.4501588624089463,
                    0.45088108793647275,
                    0.45307463369762224,
                    0.45317664643690025,
                    0.44956053493365056,
                    0.45093504065329193,
                    0.45095739422821557,
                    0.45080684319997233,
                    0.45103826337734965,
                    0.45307942676515,
                    0.45416129515438763,
                    0.45494440692874283,
                    0.4549416032615311,
                    0.45355302013167276,
                    0.4537557176389442,
                    0.45445569780372774,
                    0.45538806431654943,
                    0.45433993718032517,
                    0.4523762120275546,
                    0.45229988362043916,
                    0.45200505378165956,
                    0.4520699541709585,
                    0.4529297485402377,
                    0.4537527459424342,
                    0.45316092704180777,
                    0.45530429567235364,
                    0.4554211524733961,
                    0.4560060036137281,
                    0.4550269129085177,
                    0.45499423968442065,
                    0.4545677133278927,
                    0.45463961540494147,
                    0.45379535354760714,
                    0.45384898282701913,
                    0.4500799035849653,
                    0.4510087087489536,
                    0.4528820238041035,
                    0.4530293778229699,
                    0.453114261526134,
                    0.454134605456867,
                    0.4538768530577114,
                    0.45350548750194164,
                    0.45093099885012855,
                    0.451860794625757,
                    0.4516242315821457,
                    0.4530579992902014,
                    0.4514548919215451,
                    0.44967174078069505,
                    0.44917399438632855,
                    0.4489769095950841,
                    0.44615083938033495,
                    0.44728858488822454,
                    0.4468741850127024,
                    0.4455507592125768,
                    0.44591585445104587,
                    0.44608984758977455,
                    0.44569727893148936,
                    0.44675881089958347,
                    0.44578235246687237,
                    0.4452214534511918,
                    0.4463590380060497,
                    0.4491318547214762,
                    0.4481391210597071,
                    0.448087442678762,
                    0.4480219142164361,
                    0.44979636403906365,
                    0.4505339412967557,
                    0.45025795710428185,
                    0.4548678139903416,
                    0.45635996934835255,
                    0.4563750058151048,
                    0.4577112497483615,
                    0.45666051991717316,
                    0.45924501693621134,
                    0.45836807236296406,
                    0.4586228547233152,
                    0.4560184469682246,
                    0.45602490147046115,
                    0.45472712203649757,
                    0.4546273836977113,
                    0.4541355965859619,
                    0.45487658397277286,
                    0.45495497315135114,
                    0.45491138897184924,
                    0.4548565342067866,
                    0.45547578273187384,
                    0.4565153698629153,
                    0.45679207837708447,
                    0.4566368648564093,
                    0.45663378133026455,
                    0.4563517581990939,
                    0.4561820425509695,
                    0.45555434570270026,
                    0.45561579405638397,
                    0.4565631384156913,
                    0.45636886530686815,
                    0.4549852985480315,
                    0.45353055482483184,
                    0.454502852995904,
                    0.45493063175163617,
                    0.45591799014721757,
                    0.4541577759685589,
                    0.45404374330901054,
                    0.45429701746468365,
                    0.45420402374960245,
                    0.45319588534200106,
                    0.45408130889619924,
                    0.45197235881692865,
                    0.45139550567260855,
                    0.4510421679450767,
                    0.45022716399509033,
                    0.45026404224818395,
                    0.44845721851713505,
                    0.4497730889974243,
                    0.45268277624500997,
                    0.45250488625249996,
                    0.4516254955790878,
                    0.44909727436647806,
                    0.4495547921374443,
                    0.45000284607597707,
                    0.45024776491703855,
                    0.4500056445368382,
                    0.4502916670128774,
                    0.4500294214028163,
                    0.4521513243993055,
                    0.45214071722874816,
                    0.4522615562125373,
                    0.45190783959120573,
                    0.45210680169011896,
                    0.45283859142092164,
                    0.45165937587339033,
                    0.4496829545378548,
                    0.4494719908946794,
                    0.4494518571222397,
                    0.44932215727744473,
                    0.44948482215429086,
                    0.44879380493890086,
                    0.4470138169124266,
                    0.44723985603378713,
                    0.44659350086117144,
                    0.4490978586433926,
                    0.44943692709968164,
                    0.44933854643177373,
                    0.44964233204294035,
                    0.4504994553691266,
                    0.45122111109688734,
                    0.4522720114650671,
                    0.4529424796504572,
                    0.4529144823900617,
                    0.4530731846013104,
                    0.45294335106744876,
                    0.45197918995200004,
                    0.45202359655093527,
                    0.4517931738785551,
                    0.45156340209375845,
                    0.45085449529941235,
                    0.45112946930438325,
                    0.4511717336737343,
                    0.4520921515877846,
                    0.4510164178032421,
                    0.4521540253471493,
                    0.4527667629527702,
                    0.45246598441775265,
                    0.4523532120050767,
                    0.4524156526970221,
                    0.4521368380890821,
                    0.4522977161058439,
                    0.4533233353862789,
                    0.45304580602810773,
                    0.4523947117784335,
                    0.45263457179187716,
                    0.4533096477703664,
                    0.4532217314695832,
                    0.45299533155209415,
                    0.4518470632773842,
                    0.45288214303260865,
                    0.45285222200392383,
                    0.4528696275761349,
                    0.453784239461297,
                    0.4539478368484109,
                    0.45393971942743083,
                    0.45389841747659676,
                    0.45369039011671153,
                    0.453750695739649,
                    0.45341172313719313,
                    0.45333940188489896,
                    0.4535346413578336,
                    0.45364386994731365,
                    0.45391562823095466,
                    0.4535772480694842
                  ]
                }
              ],
              "layout": {
                "legend": {
                  "title": {
                    "text": "Metrics"
                  }
                },
                "template": {
                  "data": {
                    "bar": [
                      {
                        "error_x": {
                          "color": "#f2f5fa"
                        },
                        "error_y": {
                          "color": "#f2f5fa"
                        },
                        "marker": {
                          "line": {
                            "color": "rgb(17,17,17)",
                            "width": 0.5
                          },
                          "pattern": {
                            "fillmode": "overlay",
                            "size": 10,
                            "solidity": 0.2
                          }
                        },
                        "type": "bar"
                      }
                    ],
                    "barpolar": [
                      {
                        "marker": {
                          "line": {
                            "color": "rgb(17,17,17)",
                            "width": 0.5
                          },
                          "pattern": {
                            "fillmode": "overlay",
                            "size": 10,
                            "solidity": 0.2
                          }
                        },
                        "type": "barpolar"
                      }
                    ],
                    "carpet": [
                      {
                        "aaxis": {
                          "endlinecolor": "#A2B1C6",
                          "gridcolor": "#506784",
                          "linecolor": "#506784",
                          "minorgridcolor": "#506784",
                          "startlinecolor": "#A2B1C6"
                        },
                        "baxis": {
                          "endlinecolor": "#A2B1C6",
                          "gridcolor": "#506784",
                          "linecolor": "#506784",
                          "minorgridcolor": "#506784",
                          "startlinecolor": "#A2B1C6"
                        },
                        "type": "carpet"
                      }
                    ],
                    "choropleth": [
                      {
                        "colorbar": {
                          "outlinewidth": 0,
                          "ticks": ""
                        },
                        "type": "choropleth"
                      }
                    ],
                    "contour": [
                      {
                        "colorbar": {
                          "outlinewidth": 0,
                          "ticks": ""
                        },
                        "colorscale": [
                          [
                            0,
                            "#0d0887"
                          ],
                          [
                            0.1111111111111111,
                            "#46039f"
                          ],
                          [
                            0.2222222222222222,
                            "#7201a8"
                          ],
                          [
                            0.3333333333333333,
                            "#9c179e"
                          ],
                          [
                            0.4444444444444444,
                            "#bd3786"
                          ],
                          [
                            0.5555555555555556,
                            "#d8576b"
                          ],
                          [
                            0.6666666666666666,
                            "#ed7953"
                          ],
                          [
                            0.7777777777777778,
                            "#fb9f3a"
                          ],
                          [
                            0.8888888888888888,
                            "#fdca26"
                          ],
                          [
                            1,
                            "#f0f921"
                          ]
                        ],
                        "type": "contour"
                      }
                    ],
                    "contourcarpet": [
                      {
                        "colorbar": {
                          "outlinewidth": 0,
                          "ticks": ""
                        },
                        "type": "contourcarpet"
                      }
                    ],
                    "heatmap": [
                      {
                        "colorbar": {
                          "outlinewidth": 0,
                          "ticks": ""
                        },
                        "colorscale": [
                          [
                            0,
                            "#0d0887"
                          ],
                          [
                            0.1111111111111111,
                            "#46039f"
                          ],
                          [
                            0.2222222222222222,
                            "#7201a8"
                          ],
                          [
                            0.3333333333333333,
                            "#9c179e"
                          ],
                          [
                            0.4444444444444444,
                            "#bd3786"
                          ],
                          [
                            0.5555555555555556,
                            "#d8576b"
                          ],
                          [
                            0.6666666666666666,
                            "#ed7953"
                          ],
                          [
                            0.7777777777777778,
                            "#fb9f3a"
                          ],
                          [
                            0.8888888888888888,
                            "#fdca26"
                          ],
                          [
                            1,
                            "#f0f921"
                          ]
                        ],
                        "type": "heatmap"
                      }
                    ],
                    "heatmapgl": [
                      {
                        "colorbar": {
                          "outlinewidth": 0,
                          "ticks": ""
                        },
                        "colorscale": [
                          [
                            0,
                            "#0d0887"
                          ],
                          [
                            0.1111111111111111,
                            "#46039f"
                          ],
                          [
                            0.2222222222222222,
                            "#7201a8"
                          ],
                          [
                            0.3333333333333333,
                            "#9c179e"
                          ],
                          [
                            0.4444444444444444,
                            "#bd3786"
                          ],
                          [
                            0.5555555555555556,
                            "#d8576b"
                          ],
                          [
                            0.6666666666666666,
                            "#ed7953"
                          ],
                          [
                            0.7777777777777778,
                            "#fb9f3a"
                          ],
                          [
                            0.8888888888888888,
                            "#fdca26"
                          ],
                          [
                            1,
                            "#f0f921"
                          ]
                        ],
                        "type": "heatmapgl"
                      }
                    ],
                    "histogram": [
                      {
                        "marker": {
                          "pattern": {
                            "fillmode": "overlay",
                            "size": 10,
                            "solidity": 0.2
                          }
                        },
                        "type": "histogram"
                      }
                    ],
                    "histogram2d": [
                      {
                        "colorbar": {
                          "outlinewidth": 0,
                          "ticks": ""
                        },
                        "colorscale": [
                          [
                            0,
                            "#0d0887"
                          ],
                          [
                            0.1111111111111111,
                            "#46039f"
                          ],
                          [
                            0.2222222222222222,
                            "#7201a8"
                          ],
                          [
                            0.3333333333333333,
                            "#9c179e"
                          ],
                          [
                            0.4444444444444444,
                            "#bd3786"
                          ],
                          [
                            0.5555555555555556,
                            "#d8576b"
                          ],
                          [
                            0.6666666666666666,
                            "#ed7953"
                          ],
                          [
                            0.7777777777777778,
                            "#fb9f3a"
                          ],
                          [
                            0.8888888888888888,
                            "#fdca26"
                          ],
                          [
                            1,
                            "#f0f921"
                          ]
                        ],
                        "type": "histogram2d"
                      }
                    ],
                    "histogram2dcontour": [
                      {
                        "colorbar": {
                          "outlinewidth": 0,
                          "ticks": ""
                        },
                        "colorscale": [
                          [
                            0,
                            "#0d0887"
                          ],
                          [
                            0.1111111111111111,
                            "#46039f"
                          ],
                          [
                            0.2222222222222222,
                            "#7201a8"
                          ],
                          [
                            0.3333333333333333,
                            "#9c179e"
                          ],
                          [
                            0.4444444444444444,
                            "#bd3786"
                          ],
                          [
                            0.5555555555555556,
                            "#d8576b"
                          ],
                          [
                            0.6666666666666666,
                            "#ed7953"
                          ],
                          [
                            0.7777777777777778,
                            "#fb9f3a"
                          ],
                          [
                            0.8888888888888888,
                            "#fdca26"
                          ],
                          [
                            1,
                            "#f0f921"
                          ]
                        ],
                        "type": "histogram2dcontour"
                      }
                    ],
                    "mesh3d": [
                      {
                        "colorbar": {
                          "outlinewidth": 0,
                          "ticks": ""
                        },
                        "type": "mesh3d"
                      }
                    ],
                    "parcoords": [
                      {
                        "line": {
                          "colorbar": {
                            "outlinewidth": 0,
                            "ticks": ""
                          }
                        },
                        "type": "parcoords"
                      }
                    ],
                    "pie": [
                      {
                        "automargin": true,
                        "type": "pie"
                      }
                    ],
                    "scatter": [
                      {
                        "marker": {
                          "line": {
                            "color": "#283442"
                          }
                        },
                        "type": "scatter"
                      }
                    ],
                    "scatter3d": [
                      {
                        "line": {
                          "colorbar": {
                            "outlinewidth": 0,
                            "ticks": ""
                          }
                        },
                        "marker": {
                          "colorbar": {
                            "outlinewidth": 0,
                            "ticks": ""
                          }
                        },
                        "type": "scatter3d"
                      }
                    ],
                    "scattercarpet": [
                      {
                        "marker": {
                          "colorbar": {
                            "outlinewidth": 0,
                            "ticks": ""
                          }
                        },
                        "type": "scattercarpet"
                      }
                    ],
                    "scattergeo": [
                      {
                        "marker": {
                          "colorbar": {
                            "outlinewidth": 0,
                            "ticks": ""
                          }
                        },
                        "type": "scattergeo"
                      }
                    ],
                    "scattergl": [
                      {
                        "marker": {
                          "line": {
                            "color": "#283442"
                          }
                        },
                        "type": "scattergl"
                      }
                    ],
                    "scattermapbox": [
                      {
                        "marker": {
                          "colorbar": {
                            "outlinewidth": 0,
                            "ticks": ""
                          }
                        },
                        "type": "scattermapbox"
                      }
                    ],
                    "scatterpolar": [
                      {
                        "marker": {
                          "colorbar": {
                            "outlinewidth": 0,
                            "ticks": ""
                          }
                        },
                        "type": "scatterpolar"
                      }
                    ],
                    "scatterpolargl": [
                      {
                        "marker": {
                          "colorbar": {
                            "outlinewidth": 0,
                            "ticks": ""
                          }
                        },
                        "type": "scatterpolargl"
                      }
                    ],
                    "scatterternary": [
                      {
                        "marker": {
                          "colorbar": {
                            "outlinewidth": 0,
                            "ticks": ""
                          }
                        },
                        "type": "scatterternary"
                      }
                    ],
                    "surface": [
                      {
                        "colorbar": {
                          "outlinewidth": 0,
                          "ticks": ""
                        },
                        "colorscale": [
                          [
                            0,
                            "#0d0887"
                          ],
                          [
                            0.1111111111111111,
                            "#46039f"
                          ],
                          [
                            0.2222222222222222,
                            "#7201a8"
                          ],
                          [
                            0.3333333333333333,
                            "#9c179e"
                          ],
                          [
                            0.4444444444444444,
                            "#bd3786"
                          ],
                          [
                            0.5555555555555556,
                            "#d8576b"
                          ],
                          [
                            0.6666666666666666,
                            "#ed7953"
                          ],
                          [
                            0.7777777777777778,
                            "#fb9f3a"
                          ],
                          [
                            0.8888888888888888,
                            "#fdca26"
                          ],
                          [
                            1,
                            "#f0f921"
                          ]
                        ],
                        "type": "surface"
                      }
                    ],
                    "table": [
                      {
                        "cells": {
                          "fill": {
                            "color": "#506784"
                          },
                          "line": {
                            "color": "rgb(17,17,17)"
                          }
                        },
                        "header": {
                          "fill": {
                            "color": "#2a3f5f"
                          },
                          "line": {
                            "color": "rgb(17,17,17)"
                          }
                        },
                        "type": "table"
                      }
                    ]
                  },
                  "layout": {
                    "annotationdefaults": {
                      "arrowcolor": "#f2f5fa",
                      "arrowhead": 0,
                      "arrowwidth": 1
                    },
                    "autotypenumbers": "strict",
                    "coloraxis": {
                      "colorbar": {
                        "outlinewidth": 0,
                        "ticks": ""
                      }
                    },
                    "colorscale": {
                      "diverging": [
                        [
                          0,
                          "#8e0152"
                        ],
                        [
                          0.1,
                          "#c51b7d"
                        ],
                        [
                          0.2,
                          "#de77ae"
                        ],
                        [
                          0.3,
                          "#f1b6da"
                        ],
                        [
                          0.4,
                          "#fde0ef"
                        ],
                        [
                          0.5,
                          "#f7f7f7"
                        ],
                        [
                          0.6,
                          "#e6f5d0"
                        ],
                        [
                          0.7,
                          "#b8e186"
                        ],
                        [
                          0.8,
                          "#7fbc41"
                        ],
                        [
                          0.9,
                          "#4d9221"
                        ],
                        [
                          1,
                          "#276419"
                        ]
                      ],
                      "sequential": [
                        [
                          0,
                          "#0d0887"
                        ],
                        [
                          0.1111111111111111,
                          "#46039f"
                        ],
                        [
                          0.2222222222222222,
                          "#7201a8"
                        ],
                        [
                          0.3333333333333333,
                          "#9c179e"
                        ],
                        [
                          0.4444444444444444,
                          "#bd3786"
                        ],
                        [
                          0.5555555555555556,
                          "#d8576b"
                        ],
                        [
                          0.6666666666666666,
                          "#ed7953"
                        ],
                        [
                          0.7777777777777778,
                          "#fb9f3a"
                        ],
                        [
                          0.8888888888888888,
                          "#fdca26"
                        ],
                        [
                          1,
                          "#f0f921"
                        ]
                      ],
                      "sequentialminus": [
                        [
                          0,
                          "#0d0887"
                        ],
                        [
                          0.1111111111111111,
                          "#46039f"
                        ],
                        [
                          0.2222222222222222,
                          "#7201a8"
                        ],
                        [
                          0.3333333333333333,
                          "#9c179e"
                        ],
                        [
                          0.4444444444444444,
                          "#bd3786"
                        ],
                        [
                          0.5555555555555556,
                          "#d8576b"
                        ],
                        [
                          0.6666666666666666,
                          "#ed7953"
                        ],
                        [
                          0.7777777777777778,
                          "#fb9f3a"
                        ],
                        [
                          0.8888888888888888,
                          "#fdca26"
                        ],
                        [
                          1,
                          "#f0f921"
                        ]
                      ]
                    },
                    "colorway": [
                      "#636efa",
                      "#EF553B",
                      "#00cc96",
                      "#ab63fa",
                      "#FFA15A",
                      "#19d3f3",
                      "#FF6692",
                      "#B6E880",
                      "#FF97FF",
                      "#FECB52"
                    ],
                    "font": {
                      "color": "#f2f5fa"
                    },
                    "geo": {
                      "bgcolor": "rgb(17,17,17)",
                      "lakecolor": "rgb(17,17,17)",
                      "landcolor": "rgb(17,17,17)",
                      "showlakes": true,
                      "showland": true,
                      "subunitcolor": "#506784"
                    },
                    "hoverlabel": {
                      "align": "left"
                    },
                    "hovermode": "closest",
                    "mapbox": {
                      "style": "dark"
                    },
                    "paper_bgcolor": "rgb(17,17,17)",
                    "plot_bgcolor": "rgb(17,17,17)",
                    "polar": {
                      "angularaxis": {
                        "gridcolor": "#506784",
                        "linecolor": "#506784",
                        "ticks": ""
                      },
                      "bgcolor": "rgb(17,17,17)",
                      "radialaxis": {
                        "gridcolor": "#506784",
                        "linecolor": "#506784",
                        "ticks": ""
                      }
                    },
                    "scene": {
                      "xaxis": {
                        "backgroundcolor": "rgb(17,17,17)",
                        "gridcolor": "#506784",
                        "gridwidth": 2,
                        "linecolor": "#506784",
                        "showbackground": true,
                        "ticks": "",
                        "zerolinecolor": "#C8D4E3"
                      },
                      "yaxis": {
                        "backgroundcolor": "rgb(17,17,17)",
                        "gridcolor": "#506784",
                        "gridwidth": 2,
                        "linecolor": "#506784",
                        "showbackground": true,
                        "ticks": "",
                        "zerolinecolor": "#C8D4E3"
                      },
                      "zaxis": {
                        "backgroundcolor": "rgb(17,17,17)",
                        "gridcolor": "#506784",
                        "gridwidth": 2,
                        "linecolor": "#506784",
                        "showbackground": true,
                        "ticks": "",
                        "zerolinecolor": "#C8D4E3"
                      }
                    },
                    "shapedefaults": {
                      "line": {
                        "color": "#f2f5fa"
                      }
                    },
                    "sliderdefaults": {
                      "bgcolor": "#C8D4E3",
                      "bordercolor": "rgb(17,17,17)",
                      "borderwidth": 1,
                      "tickwidth": 0
                    },
                    "ternary": {
                      "aaxis": {
                        "gridcolor": "#506784",
                        "linecolor": "#506784",
                        "ticks": ""
                      },
                      "baxis": {
                        "gridcolor": "#506784",
                        "linecolor": "#506784",
                        "ticks": ""
                      },
                      "bgcolor": "rgb(17,17,17)",
                      "caxis": {
                        "gridcolor": "#506784",
                        "linecolor": "#506784",
                        "ticks": ""
                      }
                    },
                    "title": {
                      "x": 0.05
                    },
                    "updatemenudefaults": {
                      "bgcolor": "#506784",
                      "borderwidth": 0
                    },
                    "xaxis": {
                      "automargin": true,
                      "gridcolor": "#283442",
                      "linecolor": "#506784",
                      "ticks": "",
                      "title": {
                        "standoff": 15
                      },
                      "zerolinecolor": "#283442",
                      "zerolinewidth": 2
                    },
                    "yaxis": {
                      "automargin": true,
                      "gridcolor": "#283442",
                      "linecolor": "#506784",
                      "ticks": "",
                      "title": {
                        "standoff": 15
                      },
                      "zerolinecolor": "#283442",
                      "zerolinewidth": 2
                    }
                  }
                },
                "title": {
                  "text": "Active Learning Performance"
                },
                "xaxis": {
                  "title": {
                    "text": "Iteration"
                  }
                },
                "yaxis": {
                  "title": {
                    "text": "Metric Value"
                  }
                }
              }
            }
          },
          "metadata": {},
          "output_type": "display_data"
        }
      ],
      "source": [
        "# Plot accuracy trends\n",
        "fig_r2 = go.Figure()\n",
        "fig_r2.add_trace(go.Scatter(x=list(range(1, n_queries + 1)), y=accuracy_history,\n",
        "                             mode='lines+markers', name='R2 Score', line=dict(color='green')))\n",
        "fig_r2.update_layout(\n",
        "    title=\"Active Learning Performance\",\n",
        "    xaxis_title=\"Iteration\",\n",
        "    yaxis_title=\"Metric Value\",\n",
        "    legend_title=\"Metrics\",\n",
        "    template=\"plotly_dark\"\n",
        ")\n",
        "fig_r2.show()"
      ]
    },
    {
      "cell_type": "code",
      "execution_count": 12,
      "id": "3262494b-59c5-483e-8ac6-9b5484eb888b",
      "metadata": {
        "id": "3262494b-59c5-483e-8ac6-9b5484eb888b"
      },
      "outputs": [
        {
          "name": "stdout",
          "output_type": "stream",
          "text": [
            "[array([-19.39965876,   0.84031779,  34.18673231,  13.09744236,\n",
            "       -35.29004066,  11.95279377,  15.33903167,  23.63083575,\n",
            "        26.70079503,  19.77954692, 141.61713797]), array([-18.83757222,   0.77472044,  34.96105455,  12.41308384,\n",
            "       -50.515129  ,  29.97494753,  17.61624621,  16.79500323,\n",
            "        31.11471392,  20.02083215, 140.54129079]), array([-18.77474213,   0.82990235,  35.15821401,  12.4831943 ,\n",
            "       -51.82090864,  31.04422157,  18.21080253,  17.0270205 ,\n",
            "        31.11510104,  20.15893072, 140.39342667]), array([-17.30818375,  -0.16588847,  33.91040557,  14.17676304,\n",
            "       -57.50951983,  31.32317269,  29.25485001,  25.60789048,\n",
            "        32.9211824 ,  18.88317175, 141.41662049]), array([-17.47357097,  -0.26238297,  33.72147279,  14.29182269,\n",
            "       -60.08356139,  33.76901341,  30.17117939,  25.87867571,\n",
            "        33.50456958,  18.45303978, 141.39546588]), array([-16.59889763,  -1.75594005,  34.87417182,  13.66277785,\n",
            "       -56.40498507,  29.60583629,  25.1388701 ,  17.52266752,\n",
            "        36.65982316,  17.74710697, 140.51162586]), array([-16.65706648,  -1.51504485,  35.34877828,  13.45629787,\n",
            "       -58.43091445,  31.33490637,  26.19465773,  17.61871165,\n",
            "        36.91162556,  18.05531799, 140.2463555 ]), array([-16.90359852,  -1.34340708,  35.50390213,  12.8200528 ,\n",
            "       -58.18057246,  31.56171893,  24.76636853,  16.64779768,\n",
            "        37.21648805,  17.74497454, 140.16298229]), array([-16.21114889,  -0.81336729,  35.45255398,  13.13670372,\n",
            "       -50.0448564 ,  24.040503  ,  22.1884159 ,  17.67720157,\n",
            "        30.43638292,  18.76017106, 141.02554977]), array([-13.36896528,   0.90889693,  34.72969155,  13.3825739 ,\n",
            "       -44.71107265,  23.9551989 ,  18.6082615 ,  12.79447015,\n",
            "        32.14288284,  15.89079501, 142.3034157 ]), array([-14.17194886,   0.50880286,  37.32456055,  12.13430846,\n",
            "       -46.36476619,  24.21264324,  19.99360239,  13.54182795,\n",
            "        32.8516953 ,  15.87385517, 142.46998762]), array([-14.23060702,   0.62336556,  36.55690497,  12.24857706,\n",
            "       -46.44321303,  23.80243892,  19.32269882,  14.32860983,\n",
            "        32.30629759,  15.0921861 , 143.25284965]), array([-14.06229648,   0.61142187,  36.60833616,  12.42499752,\n",
            "       -46.03093956,  23.63186507,  18.5791014 ,  13.81659295,\n",
            "        32.14703713,  15.01796876, 143.19206256]), array([-14.59087315,   0.48485029,  36.16556593,  12.71451422,\n",
            "       -45.82861329,  23.37470123,  18.01052414,  13.53721849,\n",
            "        31.92358264,  15.03748259, 143.62826728]), array([-13.80652909,  -0.64038882,  35.67043777,  13.03125731,\n",
            "       -40.68675621,  17.97454034,  15.62602156,  14.1166523 ,\n",
            "        31.22291126,  14.03402166, 144.16377578]), array([-12.69164307,  -1.53435275,  35.31050361,  12.22853593,\n",
            "       -40.70934385,  17.84617692,  15.69087403,  15.48447624,\n",
            "        30.78511616,  12.49418468, 143.88032761]), array([-13.23585339,  -2.82311531,  35.10318252,  11.42433237,\n",
            "       -44.45198544,  19.45849221,  17.95126309,  18.76882828,\n",
            "        31.07521406,  14.41742381, 143.9555453 ]), array([-10.78542072,  -4.31265461,  35.01931961,  11.33833485,\n",
            "       -41.37759975,  17.54832303,  15.88418842,  16.00056304,\n",
            "        29.53280133,  16.33096707, 142.94323855]), array([-10.37222536,  -4.67716374,  35.04272257,  11.12040868,\n",
            "       -42.30667081,  18.54774838,  15.68453741,  15.57464491,\n",
            "        30.37339055,  16.17701062, 142.76841066]), array([-10.8029895 ,  -4.44964854,  34.56431553,  11.44274814,\n",
            "       -43.62694209,  20.09092642,  15.21907376,  14.858263  ,\n",
            "        31.49572386,  16.07322755, 142.6815972 ]), array([-12.46389953,  -3.39540207,  33.4184754 ,  13.34542105,\n",
            "       -47.03144296,  23.05673363,  18.29245709,  18.49660584,\n",
            "        29.91578706,  15.83339766, 141.91483074]), array([-11.6121987 ,  -3.87280855,  33.38467759,  13.21261815,\n",
            "       -47.91263236,  24.0737527 ,  18.76571555,  18.38435645,\n",
            "        30.61368938,  16.21152711, 141.40988928]), array([-11.31809579,  -4.06027682,  33.16976415,  13.02438194,\n",
            "       -47.79525447,  23.96432446,  18.67607738,  18.52920128,\n",
            "        30.58530105,  16.06652356, 141.34542497]), array([ -9.65780742,  -3.10352949,  29.90523308,  15.82954372,\n",
            "       -45.37094214,  26.14416537,  15.34629435,  17.77084078,\n",
            "        27.98205902,  14.32202698, 144.13220037]), array([ -9.11396618,  -2.75489899,  29.26506785,  16.07293741,\n",
            "       -41.89730811,  22.5815996 ,  14.49283924,  18.8657581 ,\n",
            "        27.17459622,  14.14913646, 144.37236844]), array([ -9.49757344,  -4.00308363,  30.49559725,  15.44575553,\n",
            "       -33.91177819,  15.28229527,  10.89803083,  20.1971697 ,\n",
            "        20.92364377,  12.86849448, 145.71355441]), array([ -9.19225943,  -4.39050791,  29.89073001,  15.91878001,\n",
            "       -34.43765351,  15.89307321,  10.72605305,  20.01332741,\n",
            "        21.23105709,  12.92891667, 146.02552289]), array([ -9.34904061,  -4.47729387,  30.47545426,  16.12674831,\n",
            "       -34.24848064,  15.70748666,  10.69580509,  19.85238741,\n",
            "        21.09750192,  12.62917131, 146.19215243]), array([ -9.9685474 ,  -3.99821112,  29.72078293,  15.83064078,\n",
            "       -35.64039675,  16.84251913,  10.78078904,  19.7521737 ,\n",
            "        22.12659549,  12.19444898, 146.89281926]), array([-10.68075432,  -4.53178208,  29.80068194,  15.17657345,\n",
            "       -38.01010955,  17.15084781,  12.14778889,  21.04903064,\n",
            "        23.50813733,  12.40431291, 146.26734431]), array([-10.42867117,  -4.05093873,  29.65748589,  15.24808089,\n",
            "       -35.83375816,  15.52266024,  11.21606133,  20.45112145,\n",
            "        23.68754209,  11.7004921 , 146.62429172]), array([-10.27408771,  -3.72280909,  29.73014168,  14.94176919,\n",
            "       -36.30729868,  15.92526594,  11.83872661,  20.39878027,\n",
            "        24.1690289 ,  11.75540362, 146.77363836]), array([-10.15151924,  -3.79587118,  29.84942578,  14.90998733,\n",
            "       -36.70664373,  16.25649366,  12.08539411,  20.38130321,\n",
            "        24.48544069,  11.75144475, 146.65371971]), array([-10.37645253,  -4.06417142,  29.44943996,  14.69877616,\n",
            "       -37.03273827,  16.26170044,  12.3079667 ,  20.9662069 ,\n",
            "        24.71545138,  10.72055852, 147.27215246]), array([-10.62209752,  -4.65423013,  28.94814952,  16.34772462,\n",
            "       -36.52652473,  16.17919548,  11.63919526,  20.55176969,\n",
            "        23.97145728,  10.3942857 , 147.96435595]), array([ -8.20620437,  -6.73857746,  27.76802884,  17.3636452 ,\n",
            "       -34.7404671 ,  13.81211799,  10.53496955,  20.46396369,\n",
            "        21.00006212,  12.5772127 , 146.83077403]), array([ -7.30264855,  -5.51375633,  27.57996634,  17.54521929,\n",
            "       -37.02574837,  15.30613673,  10.92126735,  17.65357831,\n",
            "        23.77850539,  13.39700586, 147.98504276]), array([ -7.872429  ,  -5.70107046,  27.18413612,  17.60635165,\n",
            "       -37.54754153,  15.39734204,  11.00409747,  17.65840072,\n",
            "        23.96450166,  13.67451254, 148.30356235]), array([ -7.82432319,  -5.72309556,  27.16884858,  17.55668672,\n",
            "       -37.57800447,  15.49716682,  10.99060638,  17.57234492,\n",
            "        24.06223462,  13.61535759, 148.35236273]), array([ -8.41461384,  -5.73098944,  27.48684391,  17.76469051,\n",
            "       -37.31412314,  15.31550527,  11.10311616,  17.10330911,\n",
            "        24.59786553,  13.26702645, 148.01336028]), array([ -7.97296023,  -6.02505744,  27.4277772 ,  17.5566398 ,\n",
            "       -37.8230712 ,  15.2624703 ,  11.24574168,  17.25894439,\n",
            "        24.67362216,  13.09735884, 147.8971351 ]), array([ -7.49804986,  -6.43665983,  27.674988  ,  17.77299904,\n",
            "       -35.58200357,  14.10232221,  10.15679826,  16.11827026,\n",
            "        23.32765887,  13.72801328, 147.50237306]), array([ -7.146044  ,  -6.82517485,  26.97154562,  18.06585868,\n",
            "       -35.70342594,  14.24349194,   9.9597653 ,  16.10950419,\n",
            "        23.18250342,  13.7006189 , 147.39652671]), array([ -7.22436704,  -6.99325633,  27.03679617,  18.08739404,\n",
            "       -35.80240272,  13.9139542 ,  10.17675237,  16.5987968 ,\n",
            "        22.98682132,  13.86158833, 147.23301206]), array([ -8.11154456,  -6.6976157 ,  26.12464452,  19.12068706,\n",
            "       -38.81815935,  15.82336151,  11.95340016,  18.94391947,\n",
            "        23.36922744,  14.34794783, 147.64212593]), array([ -7.66767559,  -6.47954221,  26.39774059,  19.46350343,\n",
            "       -38.38360803,  15.87589381,  11.73196564,  18.62257095,\n",
            "        23.30963006,  14.07285298, 147.3308106 ]), array([ -7.68284305,  -6.62237114,  26.21070013,  19.34920071,\n",
            "       -38.19712809,  15.68349557,  11.90507077,  19.08254751,\n",
            "        23.23156151,  13.7757883 , 147.17267619]), array([ -7.67856098,  -6.62445981,  26.21596212,  19.34855416,\n",
            "       -38.18862631,  15.67932355,  11.89894555,  19.07673461,\n",
            "        23.2270272 ,  13.77153471, 147.17629106]), array([ -8.09479592,  -6.95949072,  25.58056994,  19.25809737,\n",
            "       -39.84724544,  16.8598388 ,  11.79038705,  18.78786987,\n",
            "        24.34145205,  13.25305765, 147.8768393 ]), array([ -7.40377636,  -7.54726935,  25.46709784,  19.06573576,\n",
            "       -42.01691783,  19.10865613,  12.22449902,  18.29560914,\n",
            "        26.02107551,  13.25390318, 147.54707427]), array([ -7.7640822 ,  -6.37129593,  25.69154976,  18.4227477 ,\n",
            "       -41.33831754,  18.35122097,  12.49445119,  18.36803557,\n",
            "        26.87021422,  11.62093705, 146.91258458]), array([ -7.40460732,  -6.19209384,  25.08511605,  19.25428533,\n",
            "       -44.75378623,  20.08821497,  14.02057867,  20.56230794,\n",
            "        27.63663998,  10.80255651, 147.50872762]), array([ -6.73033318,  -6.54548715,  24.71322731,  18.77315986,\n",
            "       -44.79263817,  20.45663821,  13.41370263,  19.56723993,\n",
            "        27.63332549,  11.05851222, 147.4356946 ]), array([ -6.76247426,  -7.03740385,  24.88094189,  19.53631323,\n",
            "       -42.88331408,  21.66421539,  12.39337397,  16.77495175,\n",
            "        28.66864901,   9.87498432, 148.50370004]), array([ -6.62352325,  -6.8676786 ,  24.66742812,  19.14201693,\n",
            "       -42.71044769,  21.94241932,  11.76413281,  16.08338681,\n",
            "        28.97713367,   9.9580987 , 148.39057363]), array([ -6.46875829,  -6.69755784,  24.67669014,  19.21926305,\n",
            "       -41.55217827,  20.98785473,  11.25622272,  16.0301752 ,\n",
            "        28.19755015,   9.79845149, 148.58737408]), array([ -5.93316976,  -7.29873283,  24.8435701 ,  19.79135062,\n",
            "       -41.35646823,  20.90200658,  11.02645246,  16.46222643,\n",
            "        28.2045675 ,   8.74085742, 148.16116835]), array([ -6.05909496,  -7.36692774,  25.05698451,  19.80992283,\n",
            "       -40.85749735,  20.6073142 ,  10.81009977,  16.34679594,\n",
            "        27.85451403,   8.75958951, 148.23545451]), array([ -5.59977328,  -7.61119601,  25.02448415,  19.42948015,\n",
            "       -41.36970022,  21.21181882,  10.45513032,  15.68446726,\n",
            "        28.36251608,   8.55713344, 148.68006894]), array([ -5.864794  ,  -7.30340069,  25.19623363,  19.46067964,\n",
            "       -41.86141249,  21.61438143,  10.60105964,  15.48722826,\n",
            "        28.90784522,   8.20079061, 148.8621823 ]), array([ -5.65542546,  -7.44621407,  25.28388754,  19.20437159,\n",
            "       -41.31537168,  21.11659125,  10.45208485,  15.5940219 ,\n",
            "        28.60883812,   7.74954149, 149.15534447]), array([ -4.91793432,  -6.87170708,  26.33354881,  18.69003413,\n",
            "       -39.61095227,  19.55925243,  10.83385268,  16.60046984,\n",
            "        27.53785415,   7.23273566, 148.40197676]), array([ -4.91763008,  -6.89310166,  26.3696429 ,  18.69314309,\n",
            "       -39.43685744,  19.43866791,  10.76562823,  16.51960874,\n",
            "        27.4613444 ,   7.29021397, 148.36645085]), array([ -4.90911276,  -6.57557963,  26.52354953,  18.86980831,\n",
            "       -36.30596289,  16.43161715,   9.87675853,  16.66171196,\n",
            "        26.63674086,   7.53891377, 148.48722508]), array([ -3.26364695,  -6.41694271,  26.19566673,  18.83021872,\n",
            "       -38.66549401,  17.92425429,  10.23262386,  16.9669264 ,\n",
            "        26.76645567,   8.38864501, 149.35889348]), array([ -3.26993557,  -6.40136095,  26.19336197,  18.82202406,\n",
            "       -38.65687252,  17.94834379,  10.21826748,  16.92225288,\n",
            "        26.77684277,   8.40604232, 149.37045037]), array([ -3.44522787,  -6.08936823,  26.70610158,  19.10824811,\n",
            "       -39.17144634,  18.28248216,  10.63162297,  17.08028815,\n",
            "        26.93992056,   8.12916752, 149.51561795]), array([ -3.24926677,  -6.02814034,  26.88108178,  19.06961832,\n",
            "       -38.68845221,  17.96312046,  10.24690503,  16.8296977 ,\n",
            "        26.63950991,   8.32103478, 149.36830635]), array([ -2.98419702,  -6.21019063,  26.88569671,  19.28041299,\n",
            "       -38.49627735,  18.00541319,  10.04330858,  16.48703911,\n",
            "        26.85006354,   8.06612879, 149.57956481]), array([ -2.49891986,  -7.02852673,  26.35825407,  19.89141801,\n",
            "       -38.32819347,  17.11299357,  10.62330208,  18.47747045,\n",
            "        25.93427244,   7.97701663, 149.06690652]), array([ -2.53257506,  -6.96597257,  26.33225451,  19.91054901,\n",
            "       -38.20500864,  16.97759157,  10.54490935,  18.48339236,\n",
            "        25.84778788,   7.9021071 , 149.12497694]), array([ -2.75829684,  -7.07659512,  26.40636153,  19.98951395,\n",
            "       -38.14281252,  16.63061269,  10.59894208,  18.55821716,\n",
            "        25.71810794,   8.02755811, 148.96246198]), array([ -3.09176437,  -7.48993054,  25.8936033 ,  19.60787747,\n",
            "       -39.3982681 ,  17.79659343,  10.2958885 ,  18.04338856,\n",
            "        26.57749035,   8.25389573, 149.49567092]), array([ -2.85451535,  -7.70405056,  26.09097325,  19.63293973,\n",
            "       -39.55873423,  17.91366938,  10.36190525,  17.97871728,\n",
            "        26.46645189,   8.47645949, 149.66326687]), array([ -2.90977264,  -7.55558865,  25.84320678,  19.62678634,\n",
            "       -40.11629109,  18.47450961,  10.62531031,  18.13000798,\n",
            "        26.47635202,   8.54884703, 149.56533002]), array([ -2.99633504,  -7.79497419,  25.70141564,  20.03603369,\n",
            "       -40.27911788,  18.919771  ,  10.31018993,  17.60933612,\n",
            "        26.56589087,   8.71844917, 149.80415644]), array([ -3.20847364,  -7.63433452,  25.65139557,  20.05678859,\n",
            "       -39.72404193,  19.03343111,   9.46942125,  16.87709921,\n",
            "        26.52601561,   8.86047314, 149.59282502]), array([ -3.59151979,  -7.80978585,  26.10166535,  20.17533789,\n",
            "       -39.57338254,  18.66649338,  10.00701948,  17.01193146,\n",
            "        27.32780972,   7.71262189, 148.97748458]), array([ -3.59084996,  -7.80839138,  26.09840447,  20.17591429,\n",
            "       -39.58368337,  18.67414564,  10.01361323,  17.01532793,\n",
            "        27.3342007 ,   7.71371061, 148.97541209]), array([ -3.53073387,  -8.18262913,  26.2469252 ,  19.82990974,\n",
            "       -40.74406877,  19.25752933,  10.20797197,  17.14872334,\n",
            "        27.91248786,   7.97169293, 149.23899128]), array([ -2.44418544,  -9.07664472,  25.90281104,  19.57919263,\n",
            "       -40.02298426,  20.15069177,   9.37803369,  16.39459399,\n",
            "        27.25136103,   8.22748318, 150.09791655]), array([ -2.14879538,  -9.21217416,  26.25728526,  19.23518068,\n",
            "       -38.81637158,  19.3860959 ,   8.78834912,  15.75525805,\n",
            "        26.78140294,   8.32545074, 149.90625151]), array([ -2.06458297,  -8.7627717 ,  25.96147485,  18.89979069,\n",
            "       -40.16759971,  20.59120094,   8.39883907,  14.53473779,\n",
            "        27.94199928,   8.36713981, 150.47820982]), array([ -1.64597742,  -8.50815948,  25.46592053,  19.0064666 ,\n",
            "       -38.17186909,  19.19014271,   7.38031938,  14.16782898,\n",
            "        27.80552441,   8.22287014, 150.80480318]), array([ -2.49013325,  -8.84843439,  25.22752961,  18.91250591,\n",
            "       -38.77868072,  20.34356112,   7.38022335,  14.01409909,\n",
            "        28.33238779,   8.03450817, 151.25085563]), array([ -2.65003448,  -8.06027407,  25.75600293,  18.44574165,\n",
            "       -37.97191932,  20.99791877,   7.21524991,  13.71325521,\n",
            "        28.73326805,   7.22401027, 150.47258443]), array([ -3.16838088,  -7.84573175,  25.3515925 ,  18.79541479,\n",
            "       -37.61308865,  20.97648625,   6.79867182,  13.458156  ,\n",
            "        28.72972361,   7.40172077, 150.1693843 ]), array([ -2.78251103,  -8.215516  ,  25.47816414,  18.29652253,\n",
            "       -37.93791252,  22.49321405,   5.770617  ,  11.50699719,\n",
            "        30.15560783,   6.45774635, 150.95855965]), array([ -2.61712813,  -8.36455324,  25.53172465,  18.51722719,\n",
            "       -36.36917545,  21.69388121,   5.03424265,  10.75679913,\n",
            "        29.5183817 ,   6.44534706, 150.75831112]), array([ -2.61724607,  -8.3720553 ,  25.53398794,  18.52782969,\n",
            "       -36.38286707,  21.68572491,   5.05285568,  10.77978297,\n",
            "        29.52318909,   6.4368322 , 150.74929445]), array([ -2.46723388,  -7.85588848,  26.36050987,  18.6642251 ,\n",
            "       -37.51042869,  22.35352833,   5.40510192,  10.29585253,\n",
            "        29.89244304,   6.77174471, 151.10962578]), array([ -2.83932814,  -8.15559085,  26.23686113,  18.99820464,\n",
            "       -35.56538628,  20.1414355 ,   4.96543291,  10.864846  ,\n",
            "        28.52153833,   6.2001595 , 151.66066139]), array([ -1.71510362,  -7.84449248,  26.06385687,  18.6568965 ,\n",
            "       -36.05754811,  20.14306542,   4.54664326,  10.87049825,\n",
            "        28.15947076,   6.17050403, 152.35604183]), array([ -1.72922054,  -7.82848397,  26.04408637,  18.66606601,\n",
            "       -36.09741398,  20.17372405,   4.54825869,  10.8574952 ,\n",
            "        28.1857358 ,   6.16076523, 152.3723888 ]), array([ -1.57384671,  -7.54138397,  26.02489498,  18.02974258,\n",
            "       -37.44039806,  21.02029352,   5.16058836,  11.15514148,\n",
            "        29.27149567,   6.04508184, 152.0315408 ]), array([ -1.10964015,  -7.99494794,  25.48386379,  17.96245459,\n",
            "       -36.9357283 ,  21.20328071,   4.81103788,  10.62437201,\n",
            "        28.88464048,   6.57346163, 152.54431764]), array([ -0.81562943,  -8.23764293,  25.63206184,  17.74183036,\n",
            "       -37.56827831,  21.62421978,   4.62836918,  10.34780377,\n",
            "        29.28198233,   6.14582418, 152.90564407]), array([ -0.80341204,  -7.73250895,  25.2529552 ,  17.96827851,\n",
            "       -37.54609204,  20.63792885,   4.70606941,  10.34447921,\n",
            "        29.10269307,   6.54645095, 152.44799794]), array([ -0.9830644 ,  -7.94157084,  25.34071526,  17.89211713,\n",
            "       -38.83533127,  21.34193619,   5.67505969,  10.85553945,\n",
            "        29.9036112 ,   6.6523277 , 152.16960578]), array([ -0.96308588,  -8.07512478,  25.32399974,  17.9728133 ,\n",
            "       -39.08378229,  21.26681637,   5.97060499,  11.33662434,\n",
            "        29.88072028,   6.26358177, 152.35519495]), array([ -0.6236008 ,  -8.39890865,  25.36932666,  18.10071824,\n",
            "       -39.04749185,  21.25758429,   5.4386402 ,  10.68566696,\n",
            "        30.24010669,   6.27709406, 152.63066439]), array([ -0.57913868,  -8.56367983,  25.25941427,  18.15189067,\n",
            "       -39.63354352,  21.77558129,   5.47674271,  10.61259837,\n",
            "        30.6405905 ,   6.26734222, 152.54571494]), array([ -1.02549413,  -8.79881581,  25.02197593,  18.28581712,\n",
            "       -38.94900479,  21.27687384,   5.41630875,  10.80013148,\n",
            "        30.34496931,   6.50194246, 152.28850754]), array([ -1.20216275,  -9.19871479,  25.55714762,  17.84837993,\n",
            "       -39.09299792,  21.63701317,   5.21860883,  10.47819833,\n",
            "        30.1658672 ,   7.10003038, 152.60748359]), array([ -1.04381444,  -9.64725173,  25.29160379,  17.91746216,\n",
            "       -39.84949183,  22.09451706,   5.76632697,  11.4801575 ,\n",
            "        30.4072205 ,   6.96902853, 152.82994047]), array([ -1.02889973,  -9.62935613,  25.28799958,  17.92045176,\n",
            "       -39.82911989,  22.1048399 ,   5.74276223,  11.439443  ,\n",
            "        30.40636447,   6.95342383, 152.84658125]), array([ -0.70947851,  -9.94510351,  25.31637584,  18.06665321,\n",
            "       -38.33666813,  20.84373699,   5.03738869,  11.01878892,\n",
            "        29.32089163,   7.32798631, 153.1780962 ]), array([ -0.7568047 ,  -9.81215784,  25.40096522,  18.06285617,\n",
            "       -37.62055979,  20.27869628,   4.63600571,  10.69389394,\n",
            "        29.26633702,   7.40056327, 153.25691739]), array([ -0.74565377, -10.23631267,  25.21173622,  17.91737615,\n",
            "       -38.49598591,  20.91100132,   4.8253911 ,  10.72256173,\n",
            "        29.58871473,   8.06833278, 153.53732755]), array([ -0.93929213, -10.3250486 ,  25.07206351,  17.8800494 ,\n",
            "       -38.17285852,  20.59918528,   4.68433142,  10.63144617,\n",
            "        29.42477149,   8.19287373, 153.68583761]), array([ -0.81383363, -10.92012241,  25.18385565,  17.6856835 ,\n",
            "       -38.14859482,  19.78140514,   5.01351523,  12.20529653,\n",
            "        29.12785708,   7.61158889, 153.21627368]), array([ -0.6347923 , -10.65060048,  25.08155272,  17.98573152,\n",
            "       -39.68205544,  21.04762178,   5.52767797,  12.94170914,\n",
            "        29.56307831,   6.8318148 , 153.62798688]), array([ -0.60783002, -10.67201219,  25.08598442,  17.98286905,\n",
            "       -39.68270455,  21.04351962,   5.52327111,  12.95004658,\n",
            "        29.55899817,   6.83884116, 153.61415303]), array([ -0.63532047, -10.65785206,  25.08612565,  17.98678823,\n",
            "       -39.60661704,  20.9627593 ,   5.44048851,  12.96187183,\n",
            "        29.47069037,   6.87471299, 153.57732536]), array([ -0.63399894, -10.6670494 ,  25.07754246,  17.96961366,\n",
            "       -39.60713485,  20.96687509,   5.42545701,  12.94425845,\n",
            "        29.47540678,   6.8834455 , 153.58967855]), array([ -0.84675746, -10.4850528 ,  24.93792894,  17.95691123,\n",
            "       -39.84188803,  20.9371921 ,   5.9138536 ,  13.75068225,\n",
            "        29.74419817,   6.69230526, 153.74665874]), array([ -0.90842613, -10.58038555,  25.19535344,  17.79018785,\n",
            "       -39.8743129 ,  21.00659539,   5.77078782,  13.3873558 ,\n",
            "        29.98113831,   6.76563494, 153.87054358]), array([ -0.82402803, -10.50888944,  25.27194486,  17.73344431,\n",
            "       -39.57313342,  20.82831727,   5.49209477,  13.21219688,\n",
            "        29.77905368,   6.74515084, 153.95441199]), array([ -0.93002049, -10.1392183 ,  24.92801196,  17.7962423 ,\n",
            "       -39.68795775,  21.5118284 ,   5.04211868,  12.41422334,\n",
            "        30.57978149,   6.29354039, 154.32115956]), array([ -0.80038172, -10.24601935,  24.88661227,  17.69522131,\n",
            "       -40.05556023,  21.77607137,   5.04056727,  12.2602747 ,\n",
            "        30.84680351,   6.34759618, 154.43704221]), array([ -1.21733239,  -9.85278992,  24.54503065,  17.6511917 ,\n",
            "       -38.70111223,  20.87170152,   4.18439851,  11.70016523,\n",
            "        30.13462938,   6.56421631, 154.80942541]), array([ -0.96563345,  -9.65754277,  24.68724234,  17.6387412 ,\n",
            "       -38.5441945 ,  21.18515321,   3.78614207,  11.24508384,\n",
            "        30.0330058 ,   6.33210995, 155.03619615]), array([ -0.9478118 ,  -9.69252904,  24.67690642,  17.65595947,\n",
            "       -38.47288795,  21.07270362,   3.8541509 ,  11.38108967,\n",
            "        29.94310416,   6.2784666 , 155.07683152]), array([ -0.91665052,  -9.84592344,  24.74321362,  17.71953159,\n",
            "       -38.42552008,  21.06216251,   4.01404603,  11.69446349,\n",
            "        29.58410342,   6.30282178, 154.94873602]), array([ -0.86457229,  -9.8804978 ,  24.70948778,  17.6830759 ,\n",
            "       -38.36637028,  21.03092812,   3.98045008,  11.67200635,\n",
            "        29.54489763,   6.32782391, 154.98842671]), array([ -0.77019387, -10.15127938,  25.02867203,  17.66758011,\n",
            "       -38.24524204,  20.15950785,   4.46708016,  12.59442476,\n",
            "        29.43636581,   5.77319215, 154.6233285 ]), array([ -1.03727797,  -9.83678611,  24.94258406,  17.75716177,\n",
            "       -38.44602184,  20.40112452,   4.70473351,  12.73583103,\n",
            "        29.40875375,   5.45084372, 154.43652162]), array([ -1.00380327,  -9.38978638,  25.68072383,  17.9841415 ,\n",
            "       -39.42391983,  20.97129663,   5.07395323,  12.58012031,\n",
            "        29.51163594,   5.50773349, 154.75987004]), array([ -0.71844695,  -9.61599313,  25.56594571,  18.12305135,\n",
            "       -41.23457929,  21.98512586,   6.8556848 ,  13.54072237,\n",
            "        30.32298247,   5.36420304, 155.12836524]), array([ -0.93220071,  -8.80751898,  26.34051467,  17.35262263,\n",
            "       -41.65482751,  22.04954452,   7.90642966,  13.65130907,\n",
            "        31.23006288,   5.22395357, 154.51343513]), array([ -0.52555239,  -9.12637793,  26.31058012,  17.20824454,\n",
            "       -42.73102185,  22.86114194,   8.34317135,  13.8876731 ,\n",
            "        31.90673278,   5.1501413 , 154.28455074]), array([ -0.51396254,  -9.14053545,  26.30408642,  17.18212858,\n",
            "       -42.72032226,  22.84034457,   8.35403857,  13.87609147,\n",
            "        31.89566351,   5.1879371 , 154.30661713]), array([ -0.83050952,  -9.31402832,  26.11769068,  17.24578365,\n",
            "       -43.81523935,  23.4937583 ,   8.76339369,  14.0176133 ,\n",
            "        32.47295479,   5.16916028, 154.53295133]), array([ -0.42520145,  -9.72879378,  25.94431638,  17.80448074,\n",
            "       -44.26030593,  24.3588657 ,   8.54115098,  13.32493684,\n",
            "        32.75246993,   5.22617762, 154.94476626]), array([ -0.31251331,  -9.68848958,  25.9111155 ,  17.75523338,\n",
            "       -44.2089671 ,  24.37711125,   8.33906465,  13.1341099 ,\n",
            "        32.77215587,   5.34696668, 154.8639447 ]), array([ -0.41982108,  -9.56287514,  25.95248508,  18.07564017,\n",
            "       -44.26751238,  23.92996763,   8.55185254,  13.79155357,\n",
            "        32.38942165,   5.28868702, 154.63218478]), array([ -0.68081475,  -9.89280746,  25.50339108,  18.48710361,\n",
            "       -44.39851946,  23.73023206,   8.98195881,  14.534024  ,\n",
            "        32.43153486,   5.26671088, 154.35933389]), array([ -0.71301549, -10.02728112,  25.95400259,  18.32030991,\n",
            "       -43.78865821,  22.93200773,   8.94314874,  14.66388344,\n",
            "        32.1600337 ,   4.98582005, 154.10297869]), array([ -0.74600719, -10.19887484,  25.84257843,  18.21687219,\n",
            "       -43.44040714,  23.10164523,   8.35880047,  14.13671623,\n",
            "        32.12902288,   4.80208853, 154.33586127]), array([ -0.59557447, -10.10349435,  25.99005491,  18.19307507,\n",
            "       -44.23906414,  23.55455906,   8.70100673,  14.52217359,\n",
            "        32.36618322,   4.6057049 , 154.47684693]), array([ -0.55541856,  -9.9188952 ,  25.87252524,  18.424406  ,\n",
            "       -44.34080411,  23.37623545,   8.87249381,  14.95658486,\n",
            "        32.22623294,   4.22650173, 154.3056168 ]), array([ -0.50516795,  -9.75640288,  25.74634055,  18.712856  ,\n",
            "       -44.80171439,  23.840611  ,   9.10323676,  14.88749282,\n",
            "        32.46204843,   4.16915605, 154.46232813]), array([ -0.43363508,  -9.73073506,  25.75722127,  18.68474608,\n",
            "       -44.74569976,  23.82620636,   9.08544338,  14.90387278,\n",
            "        32.41761372,   4.22717847, 154.40458614]), array([ 1.44192840e-01, -9.35353617e+00,  2.49225246e+01,  1.91359291e+01,\n",
            "       -4.39613393e+01,  2.29135262e+01,  9.00652048e+00,  1.53103837e+01,\n",
            "        3.19989171e+01,  3.92928567e+00,  1.54007635e+02]), array([  0.29581589,  -8.9137538 ,  24.87843641,  19.19268946,\n",
            "       -43.83303736,  23.66452792,   8.39932946,  13.89600391,\n",
            "        32.5916523 ,   3.70837061, 154.35954508]), array([  0.22934636,  -8.85689025,  24.81697594,  19.30839604,\n",
            "       -43.81216413,  23.5462535 ,   8.4400502 ,  13.99631086,\n",
            "        32.53027997,   3.70794291, 154.2969995 ]), array([  0.44800191,  -8.83025815,  24.52860506,  19.40245354,\n",
            "       -43.8601617 ,  23.55997905,   8.19490526,  13.95734232,\n",
            "        32.55966813,   3.79720474, 154.16185205]), array([  0.55551264,  -8.4409156 ,  24.83528739,  18.89064527,\n",
            "       -43.83557954,  23.50325982,   8.18765056,  13.70821474,\n",
            "        33.03683715,   3.49383017, 153.86406159]), array([  0.50984401,  -8.4770784 ,  24.84817827,  18.88032503,\n",
            "       -43.95987601,  23.57683623,   8.24142035,  13.7515258 ,\n",
            "        33.11499392,   3.50145849, 153.82877792]), array([  0.5702776 ,  -8.41106443,  24.81287572,  18.82209367,\n",
            "       -44.07567377,  23.65013899,   8.14606111,  13.60766291,\n",
            "        33.17741286,   3.51489146, 153.91430378]), array([  0.44951535,  -8.52043782,  24.9489642 ,  18.59743293,\n",
            "       -43.57995085,  23.0058485 ,   8.04327963,  13.47694775,\n",
            "        33.07340036,   3.72787053, 153.70842791]), array([  0.62006237,  -8.85646719,  24.67516303,  18.67756625,\n",
            "       -43.4548507 ,  22.74355443,   7.60650806,  13.35360039,\n",
            "        32.75131139,   3.96388779, 153.98018688]), array([  0.61220838,  -8.94324589,  24.70931591,  18.81964747,\n",
            "       -43.31019706,  22.4779607 ,   7.60188572,  13.42081251,\n",
            "        32.60718571,   3.95777165, 153.88984371]), array([  0.729865  ,  -9.15426212,  25.1186398 ,  18.34415851,\n",
            "       -43.77528544,  22.89739785,   7.57042957,  12.9419262 ,\n",
            "        33.07417445,   4.15891432, 154.14162035]), array([  0.77186561,  -9.54339902,  24.65041962,  17.99926828,\n",
            "       -43.80719838,  22.89546684,   7.54728901,  13.13632206,\n",
            "        33.61878094,   3.85313657, 153.84170099]), array([  0.76793433,  -9.74842569,  24.69375142,  18.34754396,\n",
            "       -44.55957078,  23.39509867,   7.81007731,  13.29428585,\n",
            "        33.85680538,   3.68430144, 154.02024594]), array([  0.85466319,  -9.79439674,  24.69884621,  18.35248676,\n",
            "       -44.63007061,  23.41282005,   7.97659319,  13.43405711,\n",
            "        33.84908979,   3.58875661, 154.09160232]), array([  0.82783577,  -9.72764074,  24.7259753 ,  18.43927572,\n",
            "       -44.69711778,  23.47949738,   8.12131643,  13.51191575,\n",
            "        33.88678445,   3.59029488, 154.01449126]), array([  0.49284206,  -9.93634465,  24.57112593,  18.39757391,\n",
            "       -45.43332811,  24.21418091,   8.21158326,  13.5160531 ,\n",
            "        34.32586683,   3.5770725 , 154.23182026]), array([  0.6418214 ,  -9.72056104,  24.4328602 ,  18.34942806,\n",
            "       -45.59549496,  24.68546988,   8.18594318,  13.03935671,\n",
            "        34.6719501 ,   3.57517946, 154.41416802]), array([  0.79519393, -10.0267001 ,  24.63701321,  18.15519735,\n",
            "       -44.73856943,  24.02676373,   7.6196218 ,  12.96928278,\n",
            "        34.1665399 ,   3.76792735, 154.17996043]), array([  0.84724928, -10.22085302,  24.74321013,  17.74427445,\n",
            "       -44.3559363 ,  24.02807102,   8.01149405,  12.6133625 ,\n",
            "        34.6858376 ,   4.06196446, 154.49658901]), array([  0.67538274, -10.37201584,  25.12268959,  17.35133173,\n",
            "       -44.45812934,  23.85419348,   8.43433525,  12.94186557,\n",
            "        34.95453648,   4.03119312, 154.19457185]), array([  0.80556465, -10.48734383,  25.13925903,  17.34953   ,\n",
            "       -44.51891731,  23.97676905,   8.47846858,  12.94974405,\n",
            "        35.02364882,   4.03656795, 154.09950398]), array([  0.87830268, -10.62914224,  25.37476   ,  17.46696522,\n",
            "       -43.5550611 ,  23.77983955,   8.14962236,  12.39976961,\n",
            "        34.62061882,   3.68086073, 154.39600031]), array([  0.9876974 , -10.55879799,  25.22939036,  17.3847034 ,\n",
            "       -43.04714873,  23.50938324,   7.55952255,  12.35852736,\n",
            "        34.17458392,   3.62572811, 154.23294349]), array([  0.61435556, -10.98029764,  24.87771179,  17.43543047,\n",
            "       -42.8803409 ,  24.22024257,   6.43074482,  11.29944325,\n",
            "        34.35082411,   3.2795301 , 154.72877679]), array([  0.73452982, -10.75288107,  24.21117421,  17.95567642,\n",
            "       -42.46439502,  24.05259722,   6.33638011,  11.75183467,\n",
            "        34.31604295,   2.7659557 , 154.35947141]), array([  0.65234612, -10.70556144,  24.15980954,  17.98113013,\n",
            "       -42.59076964,  24.23068518,   6.31763444,  11.66468943,\n",
            "        34.39259797,   2.81954991, 154.41161825]), array([  0.6822    , -10.6235116 ,  24.1873459 ,  18.21963695,\n",
            "       -43.23830797,  24.54671499,   6.66051428,  12.44761173,\n",
            "        34.09572746,   2.76724799, 154.64222777]), array([  0.32900314, -10.31932899,  24.22302188,  18.33264536,\n",
            "       -42.97820856,  24.07059817,   6.82401274,  12.71066818,\n",
            "        33.98396625,   2.56552586, 154.41703232]), array([  0.55547001, -10.02529522,  23.4398817 ,  19.0296143 ,\n",
            "       -41.66620189,  23.36269723,   6.15012471,  12.42917335,\n",
            "        33.61944653,   2.29439301, 154.01562952]), array([  0.53076218, -10.24689595,  23.38608991,  19.07143566,\n",
            "       -41.53129632,  23.02806776,   6.32414819,  12.94431332,\n",
            "        33.35244255,   2.49822727, 153.85496528]), array([  0.58611369, -10.36393202,  23.44783029,  19.15131125,\n",
            "       -41.88775996,  23.21505737,   6.35562752,  12.90585902,\n",
            "        33.59707304,   2.40455371, 153.95777401]), array([  0.40582114, -10.42988052,  23.43553591,  19.08234649,\n",
            "       -42.28790312,  23.44854285,   6.51715173,  12.95086986,\n",
            "        33.81898831,   2.37044138, 154.08063846]), array([  0.32964513, -10.51757205,  23.44689454,  19.19511184,\n",
            "       -41.98609932,  23.22984503,   6.3671177 ,  12.91809376,\n",
            "        33.65172845,   2.40797909, 154.00394495]), array([  0.32684829, -10.50536165,  23.45068946,  19.20742517,\n",
            "       -42.02136539,  23.25442189,   6.38105764,  12.90820044,\n",
            "        33.66862092,   2.40771786, 154.01284987]), array([  0.36936222, -10.53430218,  23.42788968,  19.19732078,\n",
            "       -42.02981048,  23.27088834,   6.34310963,  12.86564232,\n",
            "        33.66837828,   2.41803545, 154.04116693]), array([  0.41985092, -10.9324702 ,  22.95743056,  19.11220114,\n",
            "       -42.6738732 ,  24.05839875,   6.24427914,  12.97198691,\n",
            "        33.88027102,   2.38084621, 154.37334472]), array([  0.35682982, -11.01419902,  22.97253876,  19.03410678,\n",
            "       -42.21343019,  23.83793133,   6.18809966,  12.93080293,\n",
            "        33.57656713,   2.48666043, 154.25538039]), array([  0.32363521, -10.81303572,  23.09888753,  19.09626382,\n",
            "       -42.80064961,  24.55026662,   6.41127275,  12.71691407,\n",
            "        34.11585069,   2.31989887, 154.07088063]), array([-3.66206636e-02, -1.06432171e+01,  2.31134850e+01,  1.91006860e+01,\n",
            "       -4.24101757e+01,  2.41269252e+01,  6.16954814e+00,  1.29327506e+01,\n",
            "        3.39126472e+01,  2.21582908e+00,  1.53856834e+02]), array([-3.59790075e-02, -1.06479136e+01,  2.31125293e+01,  1.90982462e+01,\n",
            "       -4.24267044e+01,  2.41381912e+01,  6.17787268e+00,  1.29442415e+01,\n",
            "        3.39165091e+01,  2.21521235e+00,  1.53860167e+02]), array([ 1.58870686e-03, -1.05925663e+01,  2.29806106e+01,  1.91831484e+01,\n",
            "       -4.27259066e+01,  2.44179216e+01,  6.20876547e+00,  1.28421836e+01,\n",
            "        3.40575606e+01,  2.28935567e+00,  1.53948116e+02]), array([ 8.53097288e-02, -1.05452280e+01,  2.29827569e+01,  1.91316920e+01,\n",
            "       -4.28053625e+01,  2.45292040e+01,  6.23683049e+00,  1.28403451e+01,\n",
            "        3.40777555e+01,  2.26902621e+00,  1.53998681e+02]), array([  0.19912321, -10.7209467 ,  23.0804221 ,  19.14897095,\n",
            "       -43.18139883,  24.75247992,   6.35056845,  13.00803486,\n",
            "        34.30686873,   2.08298542, 153.86463133]), array([  0.17370924, -10.69780008,  23.06143321,  19.15940621,\n",
            "       -43.23415629,  24.87859564,   6.27845341,  12.90778999,\n",
            "        34.38437578,   2.0853934 , 153.82849406]), array([  0.35615528, -10.85231638,  23.10993118,  19.13834717,\n",
            "       -41.86002292,  24.0179989 ,   5.67338508,  12.28159998,\n",
            "        33.83290805,   2.2630346 , 153.61159469]), array([  0.38294957, -10.83086924,  23.11398401,  19.16095395,\n",
            "       -41.82011744,  24.0315591 ,   5.58995581,  12.19199343,\n",
            "        33.79917086,   2.26641884, 153.64121793]), array([  0.68100019, -10.47922316,  22.77135367,  19.07973262,\n",
            "       -40.29781216,  23.47438535,   4.66562069,  11.71973158,\n",
            "        32.44845145,   2.78275056, 153.19799996]), array([  0.83151545, -10.29165437,  23.06425812,  19.15895793,\n",
            "       -39.77297112,  22.97885739,   4.78959295,  12.09592583,\n",
            "        32.0892002 ,   2.55828085, 152.97483947]), array([  0.85208173, -10.43623017,  23.08146381,  19.35308331,\n",
            "       -40.13741275,  23.37075675,   4.83296559,  11.61722327,\n",
            "        32.72232009,   2.30622314, 153.20371379]), array([  1.29383181, -10.74820054,  23.59128623,  19.21639139,\n",
            "       -37.53258197,  21.51354909,   4.31738715,  11.44756875,\n",
            "        31.49501179,   2.22204989, 152.73693362]), array([  1.08317557, -10.86535909,  23.67632905,  19.07257955,\n",
            "       -37.22867603,  20.96229485,   4.54233854,  11.81732916,\n",
            "        31.27603558,   2.39162578, 152.54527229]), array([  1.21519952, -11.47559949,  23.18914338,  19.4591202 ,\n",
            "       -39.31223907,  22.3610869 ,   5.03531734,  12.49270196,\n",
            "        32.01650522,   2.20873757, 152.93188617]), array([  1.19728607, -11.42996116,  23.17400287,  19.45146588,\n",
            "       -39.1975011 ,  22.21381201,   4.99239973,  12.51619311,\n",
            "        31.91995234,   2.21879256, 152.97540145]), array([  1.12104991, -11.3524696 ,  23.23188947,  19.47357558,\n",
            "       -39.30931277,  22.35072689,   5.08676269,  12.48852628,\n",
            "        32.01716854,   2.26804733, 152.90070846]), array([  0.96737115, -11.23881603,  23.25151355,  19.39910312,\n",
            "       -39.07385404,  22.03184432,   4.89678912,  12.48826875,\n",
            "        31.87780753,   2.35821396, 152.77329573]), array([  1.0818152 , -11.03115079,  23.48325888,  19.3748811 ,\n",
            "       -38.67197861,  21.43486982,   5.22434001,  12.91575491,\n",
            "        31.52737664,   2.46253406, 152.56484396]), array([  1.14563139, -11.20907262,  23.17854181,  19.36932826,\n",
            "       -39.65433106,  22.12350388,   5.59962964,  12.84162995,\n",
            "        32.15205311,   2.63676534, 152.76550719]), array([  1.35802937, -11.54586347,  23.58407923,  19.48288223,\n",
            "       -39.84689547,  22.24979402,   5.28303191,  12.69930581,\n",
            "        31.89591026,   2.49063078, 153.0367187 ]), array([  1.31926741, -11.46040664,  23.68297642,  19.57857834,\n",
            "       -40.01610988,  22.23213512,   5.58247091,  13.00838824,\n",
            "        31.8919589 ,   2.51443631, 152.92439454]), array([  1.38152315, -11.52672749,  23.66730607,  19.58759451,\n",
            "       -39.9358416 ,  22.02086067,   5.61473551,  13.1328466 ,\n",
            "        31.78590188,   2.43076055, 153.01094886]), array([  1.05177775, -11.31798979,  23.68866349,  19.48335216,\n",
            "       -39.84993345,  21.55495227,   5.49261247,  13.61591203,\n",
            "        31.70220149,   2.34009462, 152.71739145]), array([  1.09111154, -11.37111559,  23.70247181,  19.47098033,\n",
            "       -39.95555645,  21.65462233,   5.56279136,  13.64720823,\n",
            "        31.76935388,   2.36054521, 152.66984497]), array([  1.29170749, -11.64997236,  23.82190292,  19.59105578,\n",
            "       -39.4016108 ,  21.00870002,   5.43944524,  14.085476  ,\n",
            "        31.30570199,   2.13622627, 152.47057405]), array([  1.09046374, -11.73328858,  23.98556629,  19.63510253,\n",
            "       -38.80130732,  20.73109339,   5.26211347,  13.83776049,\n",
            "        30.93637211,   2.24095675, 152.62967744]), array([  1.02626715, -11.89414809,  24.37263065,  19.03433706,\n",
            "       -36.97789885,  19.46501529,   4.60049241,  13.19244196,\n",
            "        30.48964136,   2.4194305 , 152.26278771]), array([  1.05957633, -11.83062337,  24.44208231,  19.04249075,\n",
            "       -36.97440145,  19.58017156,   4.46888758,  12.98596816,\n",
            "        30.58352953,   2.36679665, 152.19277979]), array([  1.26058094, -11.77063659,  24.27740895,  19.11521341,\n",
            "       -37.13937442,  19.92859145,   4.35875395,  12.95934971,\n",
            "        30.73498094,   2.32656448, 152.01969412]), array([  1.67467263, -11.39182236,  24.81550845,  18.91698626,\n",
            "       -37.96578567,  20.80229302,   4.14478652,  12.33896809,\n",
            "        31.07313712,   2.39052268, 152.39426226]), array([  1.59818077, -11.4713242 ,  24.96181644,  18.75126688,\n",
            "       -38.04670536,  20.80751404,   4.23449942,  12.46377118,\n",
            "        30.99553673,   2.45207001, 152.50027743]), array([  1.42812433, -11.18879718,  24.87063604,  18.80532731,\n",
            "       -36.98059553,  20.18667667,   3.49691975,  11.88267869,\n",
            "        30.4972329 ,   2.41519819, 152.74220138]), array([  1.4418417 , -11.23958664,  24.80925403,  18.77281045,\n",
            "       -36.96415687,  20.23627211,   3.41727559,  11.82841587,\n",
            "        30.50265583,   2.38931328, 152.79521031]), array([  1.90759525, -11.53612   ,  24.8475821 ,  18.57045809,\n",
            "       -36.49513062,  20.01196971,   3.11721164,  11.5658192 ,\n",
            "        30.59774148,   2.224431  , 152.52286557]), array([  1.87623368, -11.55810162,  24.81670551,  18.57285729,\n",
            "       -36.57642649,  20.05499295,   3.21284006,  11.62299857,\n",
            "        30.61496781,   2.26412265, 152.55436127]), array([  2.08679118, -11.34495522,  24.91653062,  18.43271763,\n",
            "       -36.72493822,  20.42852942,   3.09153892,  11.17267324,\n",
            "        30.79130699,   2.21005338, 152.72259529]), array([  1.90736646, -11.43597742,  25.14973797,  18.10267286,\n",
            "       -35.73806453,  19.59457145,   3.05692145,  11.19887285,\n",
            "        30.53587644,   2.17181833, 152.4616535 ]), array([  1.82441838, -11.39227977,  25.10878004,  18.13575263,\n",
            "       -35.96592353,  19.75539291,   3.05092639,  11.1675943 ,\n",
            "        30.70367317,   2.19476603, 152.39050364]), array([  1.86045663, -11.44751467,  25.11256668,  18.14733692,\n",
            "       -35.98324766,  19.7576972 ,   3.02108923,  11.07199051,\n",
            "        30.79192486,   2.23895646, 152.44029489]), array([  1.98326236, -11.68111495,  25.28838716,  17.88509179,\n",
            "       -35.72023743,  19.45125201,   2.65826153,  10.91992072,\n",
            "        30.89935317,   2.06020593, 152.21636601]), array([  1.96259554, -11.70443485,  25.26020789,  17.90690773,\n",
            "       -35.6118201 ,  19.36780457,   2.60665031,  10.85568678,\n",
            "        30.88969548,   2.07534288, 152.18626277]), array([  1.86343984, -11.82813742,  25.05756885,  17.97753774,\n",
            "       -35.32457598,  19.04660044,   2.51895152,  10.80102008,\n",
            "        30.86275964,   2.06039343, 152.05050913]), array([  1.83289788, -11.66023988,  25.3545955 ,  17.98295234,\n",
            "       -35.32227743,  18.80577249,   2.78843763,  11.21603237,\n",
            "        30.77805151,   1.92205136, 151.87174886]), array([  1.96265867, -11.4081724 ,  25.24870194,  18.28431071,\n",
            "       -36.08871553,  19.12913991,   3.06661029,  11.26047346,\n",
            "        30.94558745,   1.84078044, 152.13160908]), array([  1.98048609, -11.34628338,  25.29755123,  18.27462155,\n",
            "       -35.98005872,  18.97077953,   3.12076791,  11.3115484 ,\n",
            "        30.88033164,   1.85578841, 152.08358735]), array([  1.97489547, -11.53282707,  25.32338944,  18.26019279,\n",
            "       -35.82512248,  18.785123  ,   2.95412836,  11.2063532 ,\n",
            "        30.82910452,   2.10720542, 151.92797163]), array([  1.97390828, -11.52765567,  25.33242333,  18.27949858,\n",
            "       -35.82328125,  18.78261831,   2.95434487,  11.22829628,\n",
            "        30.8157548 ,   2.10527056, 151.91220555]), array([  1.94119514, -11.58874277,  25.3405911 ,  18.23209401,\n",
            "       -35.69577392,  18.60159641,   3.03835831,  11.4344455 ,\n",
            "        30.68727726,   2.13850274, 151.8494991 ]), array([  1.8454597 , -11.32249671,  25.29880822,  18.1851726 ,\n",
            "       -36.99581801,  19.24184429,   3.89120691,  12.18724298,\n",
            "        31.48501125,   1.79501724, 151.58003541]), array([  2.07227094, -11.18292442,  25.34652074,  18.24168342,\n",
            "       -37.65276572,  19.66039972,   4.03407983,  12.19426795,\n",
            "        31.70392498,   1.63286424, 151.74552592]), array([  1.9534407 , -11.27281699,  25.33608593,  18.29315236,\n",
            "       -37.65896713,  19.60973288,   3.95775741,  12.1638954 ,\n",
            "        31.63041096,   1.69822223, 151.83387934]), array([  2.04831686, -11.48918395,  25.49105243,  18.32795392,\n",
            "       -36.87559997,  18.92421252,   3.84949134,  12.48410843,\n",
            "        31.23778906,   1.3361519 , 151.63129703]), array([  2.08374396, -11.63994177,  25.7693574 ,  17.68365418,\n",
            "       -38.71918907,  20.21249982,   4.70613342,  12.21404122,\n",
            "        32.50165265,   1.41455692, 152.0311615 ]), array([  2.15847766, -11.41948772,  25.74529938,  17.61281726,\n",
            "       -38.35484905,  20.17582065,   4.4544089 ,  11.82263636,\n",
            "        32.20740377,   1.71584024, 152.21956698]), array([  2.1312894 , -11.24101346,  25.99372088,  17.4905656 ,\n",
            "       -37.92533526,  19.87612714,   4.26108661,  11.56157781,\n",
            "        32.11760499,   1.75884461, 152.08147166]), array([  2.24213797, -11.46922614,  26.00626642,  17.29126725,\n",
            "       -38.56959048,  20.44367688,   4.07032713,  11.1051408 ,\n",
            "        32.63319947,   1.89671241, 152.28397945]), array([  2.08497186, -11.66762375,  25.85571666,  17.2265293 ,\n",
            "       -38.15311815,  20.18626545,   3.71842135,  10.92069534,\n",
            "        32.3418303 ,   2.11799865, 152.11279708]), array([  2.0142661 , -11.73079052,  25.75741445,  17.2649204 ,\n",
            "       -38.13579475,  20.28686561,   3.62721927,  10.78565825,\n",
            "        32.39682146,   2.02399786, 152.20841757]), array([  1.86531225, -11.94343372,  25.99440545,  16.99854204,\n",
            "       -37.52093997,  19.68079589,   3.56692635,  10.85043739,\n",
            "        32.15082017,   2.39143902, 151.93577906]), array([  1.94177076, -11.57106509,  25.59242372,  16.79287518,\n",
            "       -37.63453129,  19.5577117 ,   3.93557724,  11.14603948,\n",
            "        32.62296974,   2.21136391, 151.63904842]), array([  1.94745892, -11.59352563,  25.57503406,  16.81462157,\n",
            "       -37.64449285,  19.56903245,   3.93557367,  11.16613444,\n",
            "        32.61043922,   2.19479851, 151.65601793]), array([  1.95235626, -11.51125611,  25.55937581,  16.75932374,\n",
            "       -37.69609679,  19.52428656,   3.98685385,  11.20089261,\n",
            "        32.75867671,   2.22028666, 151.72391017]), array([  1.97073925, -11.49839203,  25.55345674,  16.76555116,\n",
            "       -37.6522271 ,  19.4928741 ,   3.94232823,  11.17705778,\n",
            "        32.7162857 ,   2.23019616, 151.74181791]), array([  2.07479036, -11.43231443,  25.38038174,  16.73327855,\n",
            "       -37.89045908,  19.69217529,   3.6366004 ,  10.93483985,\n",
            "        32.96938848,   2.343505  , 151.56406028]), array([  2.06747778, -11.36552811,  25.33895904,  16.79063026,\n",
            "       -37.77744634,  19.59940636,   3.67404352,  10.95619267,\n",
            "        32.95985793,   2.29995483, 151.51030004]), array([  2.06034297, -11.35732965,  25.33930726,  16.82034981,\n",
            "       -37.78276355,  19.56513757,   3.67996594,  11.01025595,\n",
            "        32.94209679,   2.28975989, 151.48802807]), array([  1.95132677, -10.83509254,  25.88862179,  16.42943572,\n",
            "       -36.38515475,  18.28966917,   3.69579309,  11.27811624,\n",
            "        32.25498571,   2.21025634, 151.13156801]), array([  2.05538394, -10.60667362,  25.84684053,  16.3784264 ,\n",
            "       -37.46929298,  19.27228975,   3.82858755,  11.20896177,\n",
            "        32.88782217,   1.83480384, 151.39989366]), array([  1.99684394, -10.72987343,  25.97795659,  16.23629097,\n",
            "       -37.82128726,  19.5782137 ,   3.64400505,  10.83251522,\n",
            "        33.15036604,   1.72552011, 151.58400095]), array([  2.01401067, -10.75770417,  25.95988425,  16.25328472,\n",
            "       -37.77261833,  19.52017029,   3.67997664,  10.90049391,\n",
            "        33.09423744,   1.69589237, 151.61864011]), array([  1.84008609, -10.88113729,  26.1001258 ,  16.15556747,\n",
            "       -37.22733535,  19.24509739,   3.55346513,  10.83056985,\n",
            "        32.68874062,   1.71951055, 151.43589514]), array([  1.81737281, -10.82669864,  26.06399655,  16.25679172,\n",
            "       -37.1739094 ,  18.98980398,   3.57135352,  11.07972485,\n",
            "        32.48213465,   1.75260479, 151.33141028]), array([  1.71046828, -10.96524541,  26.22824279,  16.10699941,\n",
            "       -37.06272242,  19.0468303 ,   3.48920202,  10.76919031,\n",
            "        32.67389533,   1.9128854 , 151.13568343]), array([  1.59101159, -11.02371065,  26.20244189,  16.16052498,\n",
            "       -36.9161725 ,  19.02392453,   3.32483604,  10.59924941,\n",
            "        32.61770798,   1.90725896, 151.21566246]), array([  1.48603534, -11.19505943,  26.21039418,  16.30037895,\n",
            "       -36.97798162,  18.97613178,   3.30768808,  10.8093984 ,\n",
            "        32.42879289,   1.87596396, 151.34509882]), array([  1.75353243, -11.38383218,  26.31466823,  16.07889843,\n",
            "       -35.80771907,  18.03393625,   2.95391157,  10.64695034,\n",
            "        31.94145122,   1.9763128 , 151.11277183]), array([  1.73677421, -11.36384491,  26.32142793,  16.0717264 ,\n",
            "       -35.79516632,  18.02102305,   2.98138229,  10.67930767,\n",
            "        31.94128134,   1.96981854, 151.09769683]), array([  1.81659743, -11.68884082,  26.10563636,  16.10666694,\n",
            "       -34.51296721,  16.7878821 ,   2.40711714,  10.85993165,\n",
            "        30.98934689,   2.03916714, 151.38879534]), array([  1.68219032, -11.90267715,  26.22885718,  16.32888925,\n",
            "       -33.74136126,  16.28540918,   2.11063296,  10.78726878,\n",
            "        30.71058354,   1.88360452, 151.18928656]), array([  1.58023085, -11.99141029,  26.23347328,  16.22665553,\n",
            "       -33.53003539,  16.11141326,   2.24281573,  10.94115904,\n",
            "        30.7215597 ,   1.89513949, 151.06565019]), array([  1.79674346, -11.64879579,  26.18006715,  16.20500276,\n",
            "       -33.8857073 ,  16.54104309,   2.18924676,  10.38368225,\n",
            "        31.02358629,   1.75077682, 151.31943228]), array([  1.88455238, -11.81839153,  26.19321719,  16.23298943,\n",
            "       -33.51594574,  16.23634158,   1.85490345,  10.24530566,\n",
            "        30.86764166,   1.79390027, 151.20241125]), array([  1.87435304, -11.72186332,  26.18332352,  16.22049917,\n",
            "       -33.80650334,  16.4752622 ,   1.97006677,  10.18510959,\n",
            "        31.10368147,   1.74239165, 151.27219287]), array([  1.77757912, -11.81691261,  26.2177048 ,  16.12125249,\n",
            "       -33.98876675,  16.63422505,   2.11860839,  10.36394468,\n",
            "        31.12846141,   1.63814781, 151.41380139]), array([  1.81139232, -11.7761382 ,  26.19443628,  16.1259539 ,\n",
            "       -34.22645152,  16.80387642,   2.25829756,  10.51688778,\n",
            "        31.23438717,   1.60066466, 151.47801798]), array([  1.80905217, -11.88116653,  26.22414005,  16.15677445,\n",
            "       -34.16155301,  16.68998489,   2.32075834,  10.73702073,\n",
            "        31.15940305,   1.5575178 , 151.40426212]), array([  1.99668748, -11.61309719,  25.99608433,  16.27156563,\n",
            "       -36.23493133,  18.09988952,   3.39593167,  11.4768426 ,\n",
            "        31.63612773,   2.01601518, 151.80018857]), array([  1.9882855 , -11.35101175,  25.84178279,  16.0748835 ,\n",
            "       -37.16945559,  19.19796679,   3.63763209,  11.5087689 ,\n",
            "        32.06381753,   2.13307453, 152.1138091 ]), array([  1.98677763, -11.33676407,  25.85794726,  16.06574079,\n",
            "       -37.12734923,  19.15970302,   3.6280304 ,  11.50833881,\n",
            "        32.04464095,   2.13024584, 152.10330575]), array([  1.93841521, -11.12887638,  25.92380805,  16.11097094,\n",
            "       -37.35173347,  19.22222729,   3.98140992,  11.59501145,\n",
            "        32.25422524,   2.21882842, 151.92732058]), array([  1.79181202, -11.25623074,  25.92726013,  16.18188815,\n",
            "       -37.03624928,  19.10165467,   3.82372329,  11.44251111,\n",
            "        32.26337011,   2.20699564, 151.79579452]), array([  1.80061348, -11.42655145,  25.92596692,  16.33550667,\n",
            "       -36.06284217,  18.42059045,   3.48120276,  11.29175987,\n",
            "        31.83002828,   2.14872828, 151.61964291]), array([  1.76141011, -11.5535466 ,  25.88500157,  16.35717801,\n",
            "       -35.93799001,  18.05807208,   3.65562442,  11.58108912,\n",
            "        31.78270491,   2.13902791, 151.48158832]), array([  1.69594858, -11.74574712,  25.99795377,  16.50391609,\n",
            "       -35.15929706,  17.44072016,   3.22314155,  11.20771813,\n",
            "        31.58478582,   2.1561634 , 151.26891838]), array([  1.75938646, -11.57051072,  26.04323212,  16.54779424,\n",
            "       -34.78838811,  17.14663924,   3.29198596,  11.22787033,\n",
            "        31.47442465,   2.16025746, 151.11959067]), array([  1.68169009, -11.65550024,  26.05975997,  16.60638763,\n",
            "       -34.71420443,  17.00778824,   3.35485452,  11.37417701,\n",
            "        31.43486082,   2.15473063, 151.04229833]), array([  1.76201517, -11.97312224,  26.03227233,  16.69605856,\n",
            "       -35.8471409 ,  17.77239195,   3.73134062,  11.50798335,\n",
            "        31.80216809,   2.37120924, 151.27406235]), array([  1.76223537, -11.95138875,  26.0298113 ,  16.68617334,\n",
            "       -35.80838564,  17.7183967 ,   3.73430517,  11.53569307,\n",
            "        31.77491262,   2.36720048, 151.25505628]), array([  1.73912511, -11.82155464,  26.10944357,  16.62170459,\n",
            "       -36.12073434,  18.04698282,   3.89084314,  11.56755226,\n",
            "        31.89233416,   2.32954597, 151.36282298]), array([  1.87215926, -11.97848725,  26.04674253,  16.66777345,\n",
            "       -36.18651479,  18.11281476,   3.99897348,  11.60793805,\n",
            "        31.8611185 ,   2.19193603, 151.55336422]), array([  1.86373796, -11.86762801,  25.92002938,  16.62814353,\n",
            "       -35.80606367,  17.91207481,   3.81668757,  11.5934873 ,\n",
            "        31.76496407,   2.22081647, 151.41412067]), array([  1.83684701, -11.76658559,  25.88906062,  16.62983708,\n",
            "       -35.17608594,  17.54036805,   3.31225795,  11.38390825,\n",
            "        31.52624598,   2.23579949, 151.25494569])]\n"
          ]
        },
        {
          "data": {
            "application/vnd.plotly.v1+json": {
              "config": {
                "plotlyServerURL": "https://plot.ly"
              },
              "data": [
                {
                  "line": {
                    "width": 2
                  },
                  "mode": "lines+markers",
                  "name": "Iteration 1",
                  "type": "scatter",
                  "x": [
                    0,
                    1,
                    2,
                    3,
                    4,
                    5,
                    6,
                    7,
                    8,
                    9,
                    10
                  ],
                  "y": [
                    -19.399658761011217,
                    0.840317787034536,
                    34.18673231073298,
                    13.097442359451975,
                    -35.29004065608001,
                    11.95279377068374,
                    15.339031667319617,
                    23.63083574633535,
                    26.700795030443714,
                    19.779546919141733,
                    141.6171379678874
                  ]
                },
                {
                  "line": {
                    "width": 2
                  },
                  "mode": "lines+markers",
                  "name": "Iteration 2",
                  "type": "scatter",
                  "x": [
                    0,
                    1,
                    2,
                    3,
                    4,
                    5,
                    6,
                    7,
                    8,
                    9,
                    10
                  ],
                  "y": [
                    -18.8375722223524,
                    0.7747204440000139,
                    34.96105455263391,
                    12.41308384099019,
                    -50.5151290020309,
                    29.974947526301435,
                    17.616246208057163,
                    16.795003229735073,
                    31.114713919533074,
                    20.020832148215625,
                    140.54129078885572
                  ]
                },
                {
                  "line": {
                    "width": 2
                  },
                  "mode": "lines+markers",
                  "name": "Iteration 3",
                  "type": "scatter",
                  "x": [
                    0,
                    1,
                    2,
                    3,
                    4,
                    5,
                    6,
                    7,
                    8,
                    9,
                    10
                  ],
                  "y": [
                    -18.774742125385366,
                    0.8299023507736418,
                    35.15821400930082,
                    12.483194301966591,
                    -51.820908643985035,
                    31.044221574404844,
                    18.210802529107383,
                    17.02702049905433,
                    31.115101043973596,
                    20.158930719607845,
                    140.39342667316228
                  ]
                },
                {
                  "line": {
                    "width": 2
                  },
                  "mode": "lines+markers",
                  "name": "Iteration 4",
                  "type": "scatter",
                  "x": [
                    0,
                    1,
                    2,
                    3,
                    4,
                    5,
                    6,
                    7,
                    8,
                    9,
                    10
                  ],
                  "y": [
                    -17.30818374761308,
                    -0.1658884650182504,
                    33.910405565405625,
                    14.176763042700198,
                    -57.50951982834397,
                    31.323172685151462,
                    29.25485001038649,
                    25.607890483370426,
                    32.92118240431563,
                    18.883171754931908,
                    141.41662049390436
                  ]
                },
                {
                  "line": {
                    "width": 2
                  },
                  "mode": "lines+markers",
                  "name": "Iteration 5",
                  "type": "scatter",
                  "x": [
                    0,
                    1,
                    2,
                    3,
                    4,
                    5,
                    6,
                    7,
                    8,
                    9,
                    10
                  ],
                  "y": [
                    -17.473570968690233,
                    -0.26238297042006664,
                    33.72147278847439,
                    14.291822685622105,
                    -60.083561392877755,
                    33.769013410236994,
                    30.171179390652497,
                    25.878675708481026,
                    33.504569579851704,
                    18.453039782067446,
                    141.39546587737567
                  ]
                },
                {
                  "line": {
                    "width": 2
                  },
                  "mode": "lines+markers",
                  "name": "Iteration 6",
                  "type": "scatter",
                  "x": [
                    0,
                    1,
                    2,
                    3,
                    4,
                    5,
                    6,
                    7,
                    8,
                    9,
                    10
                  ],
                  "y": [
                    -16.59889762564294,
                    -1.755940051132308,
                    34.87417181564827,
                    13.662777852881433,
                    -56.40498506953338,
                    29.60583629203643,
                    25.13887010431651,
                    17.52266751956924,
                    36.659823163543024,
                    17.74710697354802,
                    140.51162585694462
                  ]
                },
                {
                  "line": {
                    "width": 2
                  },
                  "mode": "lines+markers",
                  "name": "Iteration 7",
                  "type": "scatter",
                  "x": [
                    0,
                    1,
                    2,
                    3,
                    4,
                    5,
                    6,
                    7,
                    8,
                    9,
                    10
                  ],
                  "y": [
                    -16.657066479813963,
                    -1.5150448540828698,
                    35.34877828479716,
                    13.456297867268638,
                    -58.430914454141316,
                    31.334906367691133,
                    26.194657729779806,
                    17.61871165470697,
                    36.911625563987684,
                    18.05531799011038,
                    140.24635549787928
                  ]
                },
                {
                  "line": {
                    "width": 2
                  },
                  "mode": "lines+markers",
                  "name": "Iteration 8",
                  "type": "scatter",
                  "x": [
                    0,
                    1,
                    2,
                    3,
                    4,
                    5,
                    6,
                    7,
                    8,
                    9,
                    10
                  ],
                  "y": [
                    -16.903598521898502,
                    -1.3434070752332978,
                    35.5039021314024,
                    12.820052796035462,
                    -58.1805724625508,
                    31.561718929820586,
                    24.766368525631464,
                    16.64779767847493,
                    37.216488046917505,
                    17.744974535527767,
                    140.16298228773576
                  ]
                },
                {
                  "line": {
                    "width": 2
                  },
                  "mode": "lines+markers",
                  "name": "Iteration 9",
                  "type": "scatter",
                  "x": [
                    0,
                    1,
                    2,
                    3,
                    4,
                    5,
                    6,
                    7,
                    8,
                    9,
                    10
                  ],
                  "y": [
                    -16.211148890841358,
                    -0.8133672924593736,
                    35.45255398336053,
                    13.13670371986478,
                    -50.044856402706046,
                    24.040503002719618,
                    22.188415895667248,
                    17.677201574589702,
                    30.43638292167617,
                    18.76017105839727,
                    141.02554977238879
                  ]
                },
                {
                  "line": {
                    "width": 2
                  },
                  "mode": "lines+markers",
                  "name": "Iteration 10",
                  "type": "scatter",
                  "x": [
                    0,
                    1,
                    2,
                    3,
                    4,
                    5,
                    6,
                    7,
                    8,
                    9,
                    10
                  ],
                  "y": [
                    -13.368965275657317,
                    0.9088969275658485,
                    34.72969155317941,
                    13.382573904843209,
                    -44.711072652912435,
                    23.95519890423168,
                    18.608261503369846,
                    12.794470146288944,
                    32.14288284346043,
                    15.890795006353372,
                    142.30341569981317
                  ]
                },
                {
                  "line": {
                    "width": 2
                  },
                  "mode": "lines+markers",
                  "name": "Iteration 11",
                  "type": "scatter",
                  "x": [
                    0,
                    1,
                    2,
                    3,
                    4,
                    5,
                    6,
                    7,
                    8,
                    9,
                    10
                  ],
                  "y": [
                    -14.171948861116427,
                    0.5088028625275314,
                    37.32456054917711,
                    12.134308464566704,
                    -46.36476619066411,
                    24.21264324364381,
                    19.99360238700916,
                    13.54182794505185,
                    32.85169529616314,
                    15.873855169034343,
                    142.46998762493195
                  ]
                },
                {
                  "line": {
                    "width": 2
                  },
                  "mode": "lines+markers",
                  "name": "Iteration 12",
                  "type": "scatter",
                  "x": [
                    0,
                    1,
                    2,
                    3,
                    4,
                    5,
                    6,
                    7,
                    8,
                    9,
                    10
                  ],
                  "y": [
                    -14.23060702096,
                    0.6233655638103528,
                    36.55690497033763,
                    12.248577055652838,
                    -46.44321302762876,
                    23.80243891748978,
                    19.322698818972867,
                    14.328609828715472,
                    32.30629758839444,
                    15.092186096388907,
                    143.2528496491392
                  ]
                },
                {
                  "line": {
                    "width": 2
                  },
                  "mode": "lines+markers",
                  "name": "Iteration 13",
                  "type": "scatter",
                  "x": [
                    0,
                    1,
                    2,
                    3,
                    4,
                    5,
                    6,
                    7,
                    8,
                    9,
                    10
                  ],
                  "y": [
                    -14.06229648195054,
                    0.6114218725820706,
                    36.60833615926279,
                    12.4249975166904,
                    -46.03093956311352,
                    23.63186506506338,
                    18.579101400946314,
                    13.816592951783576,
                    32.14703712861541,
                    15.017968759576988,
                    143.19206256142198
                  ]
                },
                {
                  "line": {
                    "width": 2
                  },
                  "mode": "lines+markers",
                  "name": "Iteration 14",
                  "type": "scatter",
                  "x": [
                    0,
                    1,
                    2,
                    3,
                    4,
                    5,
                    6,
                    7,
                    8,
                    9,
                    10
                  ],
                  "y": [
                    -14.590873145559485,
                    0.4848502919499289,
                    36.16556593077313,
                    12.71451422448975,
                    -45.828613293828425,
                    23.374701231457948,
                    18.010524137134496,
                    13.537218486067005,
                    31.923582638431583,
                    15.03748259084496,
                    143.62826727680635
                  ]
                },
                {
                  "line": {
                    "width": 2
                  },
                  "mode": "lines+markers",
                  "name": "Iteration 15",
                  "type": "scatter",
                  "x": [
                    0,
                    1,
                    2,
                    3,
                    4,
                    5,
                    6,
                    7,
                    8,
                    9,
                    10
                  ],
                  "y": [
                    -13.806529085958314,
                    -0.6403888187047801,
                    35.670437765569034,
                    13.03125731417192,
                    -40.68675620831925,
                    17.97454034023349,
                    15.626021563059794,
                    14.116652299459787,
                    31.222911263255696,
                    14.034021657917172,
                    144.16377578455823
                  ]
                },
                {
                  "line": {
                    "width": 2
                  },
                  "mode": "lines+markers",
                  "name": "Iteration 16",
                  "type": "scatter",
                  "x": [
                    0,
                    1,
                    2,
                    3,
                    4,
                    5,
                    6,
                    7,
                    8,
                    9,
                    10
                  ],
                  "y": [
                    -12.691643074180739,
                    -1.5343527485670396,
                    35.31050361174644,
                    12.228535926375727,
                    -40.70934384581619,
                    17.84617692292727,
                    15.690874025954457,
                    15.48447624341216,
                    30.785116159317568,
                    12.494184684307463,
                    143.88032760645268
                  ]
                },
                {
                  "line": {
                    "width": 2
                  },
                  "mode": "lines+markers",
                  "name": "Iteration 17",
                  "type": "scatter",
                  "x": [
                    0,
                    1,
                    2,
                    3,
                    4,
                    5,
                    6,
                    7,
                    8,
                    9,
                    10
                  ],
                  "y": [
                    -13.235853392382307,
                    -2.8231153112355045,
                    35.10318251653655,
                    11.424332369808198,
                    -44.451985437280086,
                    19.458492208190364,
                    17.95126309119442,
                    18.76882827912104,
                    31.075214055945708,
                    14.41742381173922,
                    143.95554529992953
                  ]
                },
                {
                  "line": {
                    "width": 2
                  },
                  "mode": "lines+markers",
                  "name": "Iteration 18",
                  "type": "scatter",
                  "x": [
                    0,
                    1,
                    2,
                    3,
                    4,
                    5,
                    6,
                    7,
                    8,
                    9,
                    10
                  ],
                  "y": [
                    -10.785420722915658,
                    -4.312654614234891,
                    35.019319612951946,
                    11.338334848099556,
                    -41.377599745190196,
                    17.548323028568575,
                    15.88418842319004,
                    16.000563036412387,
                    29.532801329532504,
                    16.330967074537753,
                    142.94323855096738
                  ]
                },
                {
                  "line": {
                    "width": 2
                  },
                  "mode": "lines+markers",
                  "name": "Iteration 19",
                  "type": "scatter",
                  "x": [
                    0,
                    1,
                    2,
                    3,
                    4,
                    5,
                    6,
                    7,
                    8,
                    9,
                    10
                  ],
                  "y": [
                    -10.372225356905528,
                    -4.677163740648773,
                    35.042722567127115,
                    11.120408684436761,
                    -42.30667081019692,
                    18.547748380651228,
                    15.684537410119333,
                    15.574644908965155,
                    30.373390546415862,
                    16.177010621308057,
                    142.76841065611114
                  ]
                },
                {
                  "line": {
                    "width": 2
                  },
                  "mode": "lines+markers",
                  "name": "Iteration 20",
                  "type": "scatter",
                  "x": [
                    0,
                    1,
                    2,
                    3,
                    4,
                    5,
                    6,
                    7,
                    8,
                    9,
                    10
                  ],
                  "y": [
                    -10.802989500887554,
                    -4.449648542706804,
                    34.56431553346496,
                    11.442748141639683,
                    -43.62694209233746,
                    20.090926415076524,
                    15.219073763772002,
                    14.858262996777142,
                    31.495723857598307,
                    16.07322755082474,
                    142.68159720311945
                  ]
                },
                {
                  "line": {
                    "width": 2
                  },
                  "mode": "lines+markers",
                  "name": "Iteration 21",
                  "type": "scatter",
                  "x": [
                    0,
                    1,
                    2,
                    3,
                    4,
                    5,
                    6,
                    7,
                    8,
                    9,
                    10
                  ],
                  "y": [
                    -12.46389953473614,
                    -3.3954020678377432,
                    33.41847540205369,
                    13.345421051263898,
                    -47.0314429613984,
                    23.056733629646715,
                    18.29245709062195,
                    18.496605837686758,
                    29.9157870579283,
                    15.833397662043822,
                    141.91483074120015
                  ]
                },
                {
                  "line": {
                    "width": 2
                  },
                  "mode": "lines+markers",
                  "name": "Iteration 22",
                  "type": "scatter",
                  "x": [
                    0,
                    1,
                    2,
                    3,
                    4,
                    5,
                    6,
                    7,
                    8,
                    9,
                    10
                  ],
                  "y": [
                    -11.612198696763414,
                    -3.872808546157625,
                    33.3846775916452,
                    13.212618149935508,
                    -47.91263236457473,
                    24.07375270409102,
                    18.765715547267035,
                    18.38435644752815,
                    30.613689380897426,
                    16.211527110617098,
                    141.4098892805984
                  ]
                },
                {
                  "line": {
                    "width": 2
                  },
                  "mode": "lines+markers",
                  "name": "Iteration 23",
                  "type": "scatter",
                  "x": [
                    0,
                    1,
                    2,
                    3,
                    4,
                    5,
                    6,
                    7,
                    8,
                    9,
                    10
                  ],
                  "y": [
                    -11.318095792536331,
                    -4.060276816645793,
                    33.16976414904207,
                    13.024381944796971,
                    -47.795254473280124,
                    23.964324457388102,
                    18.676077379424555,
                    18.52920127748692,
                    30.585301052436876,
                    16.066523560948802,
                    141.34542497444139
                  ]
                },
                {
                  "line": {
                    "width": 2
                  },
                  "mode": "lines+markers",
                  "name": "Iteration 24",
                  "type": "scatter",
                  "x": [
                    0,
                    1,
                    2,
                    3,
                    4,
                    5,
                    6,
                    7,
                    8,
                    9,
                    10
                  ],
                  "y": [
                    -9.657807420749103,
                    -3.103529490657145,
                    29.905233077482606,
                    15.829543720462901,
                    -45.37094213799878,
                    26.144165366814377,
                    15.346294352792398,
                    17.770840780269154,
                    27.982059017160168,
                    14.322026976188383,
                    144.1322003686707
                  ]
                },
                {
                  "line": {
                    "width": 2
                  },
                  "mode": "lines+markers",
                  "name": "Iteration 25",
                  "type": "scatter",
                  "x": [
                    0,
                    1,
                    2,
                    3,
                    4,
                    5,
                    6,
                    7,
                    8,
                    9,
                    10
                  ],
                  "y": [
                    -9.113966179734625,
                    -2.754898990977111,
                    29.26506784666219,
                    16.07293740787639,
                    -41.89730811346635,
                    22.58159959599425,
                    14.492839242671806,
                    18.865758099008886,
                    27.17459622193644,
                    14.149136464779659,
                    144.3723684397425
                  ]
                },
                {
                  "line": {
                    "width": 2
                  },
                  "mode": "lines+markers",
                  "name": "Iteration 26",
                  "type": "scatter",
                  "x": [
                    0,
                    1,
                    2,
                    3,
                    4,
                    5,
                    6,
                    7,
                    8,
                    9,
                    10
                  ],
                  "y": [
                    -9.497573437758819,
                    -4.003083633973481,
                    30.49559724782746,
                    15.44575553043746,
                    -33.91177819087579,
                    15.282295265791731,
                    10.898030825995193,
                    20.197169696657028,
                    20.923643774943855,
                    12.868494479889385,
                    145.71355441380706
                  ]
                },
                {
                  "line": {
                    "width": 2
                  },
                  "mode": "lines+markers",
                  "name": "Iteration 27",
                  "type": "scatter",
                  "x": [
                    0,
                    1,
                    2,
                    3,
                    4,
                    5,
                    6,
                    7,
                    8,
                    9,
                    10
                  ],
                  "y": [
                    -9.192259432383018,
                    -4.390507907683359,
                    29.890730008478315,
                    15.918780012082557,
                    -34.4376535144105,
                    15.893073211356295,
                    10.726053046404644,
                    20.01332741429475,
                    21.2310570890225,
                    12.928916674620382,
                    146.0255228930705
                  ]
                },
                {
                  "line": {
                    "width": 2
                  },
                  "mode": "lines+markers",
                  "name": "Iteration 28",
                  "type": "scatter",
                  "x": [
                    0,
                    1,
                    2,
                    3,
                    4,
                    5,
                    6,
                    7,
                    8,
                    9,
                    10
                  ],
                  "y": [
                    -9.349040607672222,
                    -4.4772938729672,
                    30.475454257900495,
                    16.126748313821636,
                    -34.248480637591,
                    15.70748666197619,
                    10.695805088996195,
                    19.852387406194197,
                    21.097501920859145,
                    12.62917131214105,
                    146.19215243361998
                  ]
                },
                {
                  "line": {
                    "width": 2
                  },
                  "mode": "lines+markers",
                  "name": "Iteration 29",
                  "type": "scatter",
                  "x": [
                    0,
                    1,
                    2,
                    3,
                    4,
                    5,
                    6,
                    7,
                    8,
                    9,
                    10
                  ],
                  "y": [
                    -9.968547395214964,
                    -3.998211115904451,
                    29.720782933054267,
                    15.83064078274645,
                    -35.64039675048332,
                    16.842519131070617,
                    10.780789038001899,
                    19.752173701456854,
                    22.126595488406565,
                    12.194448979396341,
                    146.8928192550672
                  ]
                },
                {
                  "line": {
                    "width": 2
                  },
                  "mode": "lines+markers",
                  "name": "Iteration 30",
                  "type": "scatter",
                  "x": [
                    0,
                    1,
                    2,
                    3,
                    4,
                    5,
                    6,
                    7,
                    8,
                    9,
                    10
                  ],
                  "y": [
                    -10.680754318503698,
                    -4.531782078165959,
                    29.800681941034753,
                    15.176573454306407,
                    -38.010109553042184,
                    17.150847813358837,
                    12.147788885119695,
                    21.04903063762167,
                    23.508137330228635,
                    12.404312910252322,
                    146.267344306545
                  ]
                },
                {
                  "line": {
                    "width": 2
                  },
                  "mode": "lines+markers",
                  "name": "Iteration 31",
                  "type": "scatter",
                  "x": [
                    0,
                    1,
                    2,
                    3,
                    4,
                    5,
                    6,
                    7,
                    8,
                    9,
                    10
                  ],
                  "y": [
                    -10.42867117224692,
                    -4.050938731246388,
                    29.657485885619778,
                    15.248080892765401,
                    -35.833758159333684,
                    15.522660239562356,
                    11.216061333205488,
                    20.45112144592359,
                    23.687542086266376,
                    11.700492099973328,
                    146.6242917227334
                  ]
                },
                {
                  "line": {
                    "width": 2
                  },
                  "mode": "lines+markers",
                  "name": "Iteration 32",
                  "type": "scatter",
                  "x": [
                    0,
                    1,
                    2,
                    3,
                    4,
                    5,
                    6,
                    7,
                    8,
                    9,
                    10
                  ],
                  "y": [
                    -10.274087710230377,
                    -3.7228090933697375,
                    29.730141683419347,
                    14.941769192815656,
                    -36.30729868017602,
                    15.92526594488595,
                    11.838726609404745,
                    20.398780270452562,
                    24.169028895573604,
                    11.755403622008672,
                    146.7736383624128
                  ]
                },
                {
                  "line": {
                    "width": 2
                  },
                  "mode": "lines+markers",
                  "name": "Iteration 33",
                  "type": "scatter",
                  "x": [
                    0,
                    1,
                    2,
                    3,
                    4,
                    5,
                    6,
                    7,
                    8,
                    9,
                    10
                  ],
                  "y": [
                    -10.151519238003072,
                    -3.795871176430798,
                    29.84942577715114,
                    14.909987325190762,
                    -36.706643731505665,
                    16.256493658183558,
                    12.08539411447424,
                    20.381303211426825,
                    24.485440693384078,
                    11.75144474753301,
                    146.65371970502798
                  ]
                },
                {
                  "line": {
                    "width": 2
                  },
                  "mode": "lines+markers",
                  "name": "Iteration 34",
                  "type": "scatter",
                  "x": [
                    0,
                    1,
                    2,
                    3,
                    4,
                    5,
                    6,
                    7,
                    8,
                    9,
                    10
                  ],
                  "y": [
                    -10.376452526809597,
                    -4.064171420717782,
                    29.44943995728015,
                    14.698776155675482,
                    -37.03273827373221,
                    16.261700442341635,
                    12.307966701132955,
                    20.966206900104424,
                    24.71545137916212,
                    10.720558524417552,
                    147.27215245924873
                  ]
                },
                {
                  "line": {
                    "width": 2
                  },
                  "mode": "lines+markers",
                  "name": "Iteration 35",
                  "type": "scatter",
                  "x": [
                    0,
                    1,
                    2,
                    3,
                    4,
                    5,
                    6,
                    7,
                    8,
                    9,
                    10
                  ],
                  "y": [
                    -10.622097517006104,
                    -4.6542301280543725,
                    28.94814951578978,
                    16.347724616591314,
                    -36.52652473433318,
                    16.17919548300779,
                    11.639195259232622,
                    20.551769687400167,
                    23.971457283240454,
                    10.394285698139996,
                    147.9643559533768
                  ]
                },
                {
                  "line": {
                    "width": 2
                  },
                  "mode": "lines+markers",
                  "name": "Iteration 36",
                  "type": "scatter",
                  "x": [
                    0,
                    1,
                    2,
                    3,
                    4,
                    5,
                    6,
                    7,
                    8,
                    9,
                    10
                  ],
                  "y": [
                    -8.2062043739001,
                    -6.738577459377254,
                    27.76802883799607,
                    17.363645201825847,
                    -34.7404670988974,
                    13.812117990996626,
                    10.534969547931723,
                    20.46396368805695,
                    21.000062122659585,
                    12.577212695048615,
                    146.83077402987308
                  ]
                },
                {
                  "line": {
                    "width": 2
                  },
                  "mode": "lines+markers",
                  "name": "Iteration 37",
                  "type": "scatter",
                  "x": [
                    0,
                    1,
                    2,
                    3,
                    4,
                    5,
                    6,
                    7,
                    8,
                    9,
                    10
                  ],
                  "y": [
                    -7.30264854821179,
                    -5.51375633442268,
                    27.579966343314666,
                    17.545219289551845,
                    -37.02574837023133,
                    15.306136734468055,
                    10.921267351980418,
                    17.6535783123728,
                    23.77850539379898,
                    13.3970058635893,
                    147.98504276377997
                  ]
                },
                {
                  "line": {
                    "width": 2
                  },
                  "mode": "lines+markers",
                  "name": "Iteration 38",
                  "type": "scatter",
                  "x": [
                    0,
                    1,
                    2,
                    3,
                    4,
                    5,
                    6,
                    7,
                    8,
                    9,
                    10
                  ],
                  "y": [
                    -7.872428996151902,
                    -5.701070461218862,
                    27.184136123153195,
                    17.60635164765121,
                    -37.54754153470026,
                    15.39734204205729,
                    11.00409746999918,
                    17.6584007218829,
                    23.964501659680934,
                    13.674512539759405,
                    148.30356235249766
                  ]
                },
                {
                  "line": {
                    "width": 2
                  },
                  "mode": "lines+markers",
                  "name": "Iteration 39",
                  "type": "scatter",
                  "x": [
                    0,
                    1,
                    2,
                    3,
                    4,
                    5,
                    6,
                    7,
                    8,
                    9,
                    10
                  ],
                  "y": [
                    -7.824323187515748,
                    -5.723095560365055,
                    27.16884858038324,
                    17.556686718810994,
                    -37.57800446997669,
                    15.49716681705354,
                    10.990606376116574,
                    17.572344915432964,
                    24.062234623451445,
                    13.615357594058558,
                    148.35236273085474
                  ]
                },
                {
                  "line": {
                    "width": 2
                  },
                  "mode": "lines+markers",
                  "name": "Iteration 40",
                  "type": "scatter",
                  "x": [
                    0,
                    1,
                    2,
                    3,
                    4,
                    5,
                    6,
                    7,
                    8,
                    9,
                    10
                  ],
                  "y": [
                    -8.414613837132856,
                    -5.730989440735752,
                    27.48684390546336,
                    17.764690512704796,
                    -37.314123135425916,
                    15.31550526909814,
                    11.103116158989593,
                    17.103309114347994,
                    24.597865527770352,
                    13.267026446579564,
                    148.01336028153918
                  ]
                },
                {
                  "line": {
                    "width": 2
                  },
                  "mode": "lines+markers",
                  "name": "Iteration 41",
                  "type": "scatter",
                  "x": [
                    0,
                    1,
                    2,
                    3,
                    4,
                    5,
                    6,
                    7,
                    8,
                    9,
                    10
                  ],
                  "y": [
                    -7.972960231153381,
                    -6.025057443567432,
                    27.427777202683444,
                    17.55663979873676,
                    -37.823071199704486,
                    15.26247030489003,
                    11.245741677819865,
                    17.25894439090648,
                    24.67362216273193,
                    13.097358836077753,
                    147.89713510428106
                  ]
                },
                {
                  "line": {
                    "width": 2
                  },
                  "mode": "lines+markers",
                  "name": "Iteration 42",
                  "type": "scatter",
                  "x": [
                    0,
                    1,
                    2,
                    3,
                    4,
                    5,
                    6,
                    7,
                    8,
                    9,
                    10
                  ],
                  "y": [
                    -7.498049863210113,
                    -6.43665982992776,
                    27.67498799915026,
                    17.772999036182654,
                    -35.58200356949783,
                    14.10232220508692,
                    10.15679826245642,
                    16.1182702554527,
                    23.327658874662006,
                    13.72801327959096,
                    147.50237305677769
                  ]
                },
                {
                  "line": {
                    "width": 2
                  },
                  "mode": "lines+markers",
                  "name": "Iteration 43",
                  "type": "scatter",
                  "x": [
                    0,
                    1,
                    2,
                    3,
                    4,
                    5,
                    6,
                    7,
                    8,
                    9,
                    10
                  ],
                  "y": [
                    -7.14604399559089,
                    -6.825174846302634,
                    26.971545616285013,
                    18.06585867724698,
                    -35.703425942236436,
                    14.243491944897528,
                    9.959765303270956,
                    16.109504186822278,
                    23.18250342416468,
                    13.700618900237707,
                    147.3965267099145
                  ]
                },
                {
                  "line": {
                    "width": 2
                  },
                  "mode": "lines+markers",
                  "name": "Iteration 44",
                  "type": "scatter",
                  "x": [
                    0,
                    1,
                    2,
                    3,
                    4,
                    5,
                    6,
                    7,
                    8,
                    9,
                    10
                  ],
                  "y": [
                    -7.22436703931834,
                    -6.993256334945086,
                    27.036796166874453,
                    18.087394039525385,
                    -35.8024027199931,
                    13.913954203885623,
                    10.176752365240446,
                    16.598796801469476,
                    22.986821318735508,
                    13.86158833018547,
                    147.23301206071605
                  ]
                },
                {
                  "line": {
                    "width": 2
                  },
                  "mode": "lines+markers",
                  "name": "Iteration 45",
                  "type": "scatter",
                  "x": [
                    0,
                    1,
                    2,
                    3,
                    4,
                    5,
                    6,
                    7,
                    8,
                    9,
                    10
                  ],
                  "y": [
                    -8.111544557745072,
                    -6.6976156963777225,
                    26.124644516227463,
                    19.120687062638773,
                    -38.81815935335669,
                    15.82336150689298,
                    11.953400157822927,
                    18.943919471607217,
                    23.369227444385956,
                    14.347947830859233,
                    147.64212593127417
                  ]
                },
                {
                  "line": {
                    "width": 2
                  },
                  "mode": "lines+markers",
                  "name": "Iteration 46",
                  "type": "scatter",
                  "x": [
                    0,
                    1,
                    2,
                    3,
                    4,
                    5,
                    6,
                    7,
                    8,
                    9,
                    10
                  ],
                  "y": [
                    -7.667675590095909,
                    -6.479542205497891,
                    26.39774059036546,
                    19.463503427864325,
                    -38.38360803185287,
                    15.875893813151038,
                    11.731965639342405,
                    18.622570954420766,
                    23.30963005918369,
                    14.072852975712244,
                    147.33081059758658
                  ]
                },
                {
                  "line": {
                    "width": 2
                  },
                  "mode": "lines+markers",
                  "name": "Iteration 47",
                  "type": "scatter",
                  "x": [
                    0,
                    1,
                    2,
                    3,
                    4,
                    5,
                    6,
                    7,
                    8,
                    9,
                    10
                  ],
                  "y": [
                    -7.682843049191269,
                    -6.622371144924944,
                    26.21070012739409,
                    19.349200714160823,
                    -38.19712809432281,
                    15.683495566706938,
                    11.905070767548438,
                    19.08254751302789,
                    23.231561508390712,
                    13.775788299898686,
                    147.1726761866859
                  ]
                },
                {
                  "line": {
                    "width": 2
                  },
                  "mode": "lines+markers",
                  "name": "Iteration 48",
                  "type": "scatter",
                  "x": [
                    0,
                    1,
                    2,
                    3,
                    4,
                    5,
                    6,
                    7,
                    8,
                    9,
                    10
                  ],
                  "y": [
                    -7.678560975497835,
                    -6.624459811824666,
                    26.215962116462975,
                    19.348554159680226,
                    -38.188626307413415,
                    15.679323548520301,
                    11.89894555409441,
                    19.076734605594282,
                    23.22702720262339,
                    13.771534713175,
                    147.17629106332373
                  ]
                },
                {
                  "line": {
                    "width": 2
                  },
                  "mode": "lines+markers",
                  "name": "Iteration 49",
                  "type": "scatter",
                  "x": [
                    0,
                    1,
                    2,
                    3,
                    4,
                    5,
                    6,
                    7,
                    8,
                    9,
                    10
                  ],
                  "y": [
                    -8.09479591905006,
                    -6.959490720640487,
                    25.58056994005716,
                    19.25809736705437,
                    -39.84724544420715,
                    16.859838803321622,
                    11.79038704625711,
                    18.787869865616344,
                    24.341452046038796,
                    13.253057652124426,
                    147.87683930486605
                  ]
                },
                {
                  "line": {
                    "width": 2
                  },
                  "mode": "lines+markers",
                  "name": "Iteration 50",
                  "type": "scatter",
                  "x": [
                    0,
                    1,
                    2,
                    3,
                    4,
                    5,
                    6,
                    7,
                    8,
                    9,
                    10
                  ],
                  "y": [
                    -7.403776364477478,
                    -7.5472693450143415,
                    25.467097841302603,
                    19.065735755438183,
                    -42.01691783074568,
                    19.10865613313001,
                    12.224499020651791,
                    18.2956091416858,
                    26.021075513120536,
                    13.25390317548085,
                    147.5470742679774
                  ]
                },
                {
                  "line": {
                    "width": 2
                  },
                  "mode": "lines+markers",
                  "name": "Iteration 51",
                  "type": "scatter",
                  "x": [
                    0,
                    1,
                    2,
                    3,
                    4,
                    5,
                    6,
                    7,
                    8,
                    9,
                    10
                  ],
                  "y": [
                    -7.764082198112694,
                    -6.371295926969652,
                    25.69154975791737,
                    18.422747704709174,
                    -41.33831753545326,
                    18.3512209714753,
                    12.494451192427533,
                    18.368035573237393,
                    26.870214215720182,
                    11.620937050232236,
                    146.912584575156
                  ]
                },
                {
                  "line": {
                    "width": 2
                  },
                  "mode": "lines+markers",
                  "name": "Iteration 52",
                  "type": "scatter",
                  "x": [
                    0,
                    1,
                    2,
                    3,
                    4,
                    5,
                    6,
                    7,
                    8,
                    9,
                    10
                  ],
                  "y": [
                    -7.404607320060385,
                    -6.192093841855825,
                    25.085116050082945,
                    19.25428533151667,
                    -44.75378622936557,
                    20.08821497447161,
                    14.020578667666598,
                    20.562307936986514,
                    27.636639979553422,
                    10.802556512242475,
                    147.50872761790004
                  ]
                },
                {
                  "line": {
                    "width": 2
                  },
                  "mode": "lines+markers",
                  "name": "Iteration 53",
                  "type": "scatter",
                  "x": [
                    0,
                    1,
                    2,
                    3,
                    4,
                    5,
                    6,
                    7,
                    8,
                    9,
                    10
                  ],
                  "y": [
                    -6.7303331809791205,
                    -6.545487147433917,
                    24.713227306350092,
                    18.773159862175035,
                    -44.792638174109584,
                    20.456638214175655,
                    13.413702627691862,
                    19.567239927037846,
                    27.63332549482982,
                    11.058512223177054,
                    147.43569459756372
                  ]
                },
                {
                  "line": {
                    "width": 2
                  },
                  "mode": "lines+markers",
                  "name": "Iteration 54",
                  "type": "scatter",
                  "x": [
                    0,
                    1,
                    2,
                    3,
                    4,
                    5,
                    6,
                    7,
                    8,
                    9,
                    10
                  ],
                  "y": [
                    -6.762474262172985,
                    -7.037403850547708,
                    24.880941890249346,
                    19.536313234048137,
                    -42.883314081194726,
                    21.664215388811044,
                    12.393373965761441,
                    16.774951751941032,
                    28.668649014503558,
                    9.874984324861401,
                    148.50370004072408
                  ]
                },
                {
                  "line": {
                    "width": 2
                  },
                  "mode": "lines+markers",
                  "name": "Iteration 55",
                  "type": "scatter",
                  "x": [
                    0,
                    1,
                    2,
                    3,
                    4,
                    5,
                    6,
                    7,
                    8,
                    9,
                    10
                  ],
                  "y": [
                    -6.623523246646427,
                    -6.867678601192256,
                    24.667428124070284,
                    19.142016930229417,
                    -42.71044769358673,
                    21.942419322625938,
                    11.764132808956731,
                    16.083386814116608,
                    28.977133666458712,
                    9.958098696174218,
                    148.3905736301574
                  ]
                },
                {
                  "line": {
                    "width": 2
                  },
                  "mode": "lines+markers",
                  "name": "Iteration 56",
                  "type": "scatter",
                  "x": [
                    0,
                    1,
                    2,
                    3,
                    4,
                    5,
                    6,
                    7,
                    8,
                    9,
                    10
                  ],
                  "y": [
                    -6.468758287493719,
                    -6.697557837129402,
                    24.67669013603016,
                    19.21926304954811,
                    -41.5521782697723,
                    20.987854732504843,
                    11.256222723104344,
                    16.030175198285633,
                    28.197550145601042,
                    9.798451487586426,
                    148.58737407760628
                  ]
                },
                {
                  "line": {
                    "width": 2
                  },
                  "mode": "lines+markers",
                  "name": "Iteration 57",
                  "type": "scatter",
                  "x": [
                    0,
                    1,
                    2,
                    3,
                    4,
                    5,
                    6,
                    7,
                    8,
                    9,
                    10
                  ],
                  "y": [
                    -5.933169762298094,
                    -7.298732828329397,
                    24.843570098248378,
                    19.791350618202934,
                    -41.35646823117122,
                    20.902006580144644,
                    11.026452455895651,
                    16.462226429096916,
                    28.20456749558565,
                    8.740857421418731,
                    148.1611683539106
                  ]
                },
                {
                  "line": {
                    "width": 2
                  },
                  "mode": "lines+markers",
                  "name": "Iteration 58",
                  "type": "scatter",
                  "x": [
                    0,
                    1,
                    2,
                    3,
                    4,
                    5,
                    6,
                    7,
                    8,
                    9,
                    10
                  ],
                  "y": [
                    -6.059094964373175,
                    -7.366927740057966,
                    25.0569845055334,
                    19.80992282786265,
                    -40.85749734609726,
                    20.60731419618196,
                    10.810099772425332,
                    16.346795936341465,
                    27.854514027153357,
                    8.759589509810262,
                    148.23545450754494
                  ]
                },
                {
                  "line": {
                    "width": 2
                  },
                  "mode": "lines+markers",
                  "name": "Iteration 59",
                  "type": "scatter",
                  "x": [
                    0,
                    1,
                    2,
                    3,
                    4,
                    5,
                    6,
                    7,
                    8,
                    9,
                    10
                  ],
                  "y": [
                    -5.599773281531683,
                    -7.6111960095455,
                    25.0244841462508,
                    19.42948015365789,
                    -41.36970021783611,
                    21.21181882459723,
                    10.455130324519445,
                    15.684467264055996,
                    28.362516080826026,
                    8.55713343857014,
                    148.6800689435691
                  ]
                },
                {
                  "line": {
                    "width": 2
                  },
                  "mode": "lines+markers",
                  "name": "Iteration 60",
                  "type": "scatter",
                  "x": [
                    0,
                    1,
                    2,
                    3,
                    4,
                    5,
                    6,
                    7,
                    8,
                    9,
                    10
                  ],
                  "y": [
                    -5.8647939998013,
                    -7.3034006914041925,
                    25.196233634303155,
                    19.460679635267113,
                    -41.86141249076093,
                    21.614381429113905,
                    10.601059639468843,
                    15.48722826490625,
                    28.90784522139512,
                    8.200790610336824,
                    148.86218229564759
                  ]
                },
                {
                  "line": {
                    "width": 2
                  },
                  "mode": "lines+markers",
                  "name": "Iteration 61",
                  "type": "scatter",
                  "x": [
                    0,
                    1,
                    2,
                    3,
                    4,
                    5,
                    6,
                    7,
                    8,
                    9,
                    10
                  ],
                  "y": [
                    -5.655425463562947,
                    -7.446214070411293,
                    25.283887536313202,
                    19.204371589453864,
                    -41.31537167735269,
                    21.116591249342605,
                    10.452084850213339,
                    15.594021902696653,
                    28.608838124718773,
                    7.749541492237746,
                    149.15534446996932
                  ]
                },
                {
                  "line": {
                    "width": 2
                  },
                  "mode": "lines+markers",
                  "name": "Iteration 62",
                  "type": "scatter",
                  "x": [
                    0,
                    1,
                    2,
                    3,
                    4,
                    5,
                    6,
                    7,
                    8,
                    9,
                    10
                  ],
                  "y": [
                    -4.917934322387783,
                    -6.871707078477705,
                    26.333548810658108,
                    18.690034126590007,
                    -39.61095227331202,
                    19.559252427852243,
                    10.83385268322317,
                    16.600469842651975,
                    27.53785414625139,
                    7.23273566220665,
                    148.40197676276676
                  ]
                },
                {
                  "line": {
                    "width": 2
                  },
                  "mode": "lines+markers",
                  "name": "Iteration 63",
                  "type": "scatter",
                  "x": [
                    0,
                    1,
                    2,
                    3,
                    4,
                    5,
                    6,
                    7,
                    8,
                    9,
                    10
                  ],
                  "y": [
                    -4.917630083167892,
                    -6.8931016550262925,
                    26.369642897994595,
                    18.693143092217667,
                    -39.43685743974822,
                    19.438667905731222,
                    10.765628229597354,
                    16.519608742706666,
                    27.461344401710903,
                    7.290213970064173,
                    148.36645084633193
                  ]
                },
                {
                  "line": {
                    "width": 2
                  },
                  "mode": "lines+markers",
                  "name": "Iteration 64",
                  "type": "scatter",
                  "x": [
                    0,
                    1,
                    2,
                    3,
                    4,
                    5,
                    6,
                    7,
                    8,
                    9,
                    10
                  ],
                  "y": [
                    -4.909112763220294,
                    -6.575579630413564,
                    26.523549526779668,
                    18.869808306840625,
                    -36.305962893856304,
                    16.43161714742223,
                    9.876758529490075,
                    16.661711958611107,
                    26.636740862574186,
                    7.538913772143495,
                    148.48722507889173
                  ]
                },
                {
                  "line": {
                    "width": 2
                  },
                  "mode": "lines+markers",
                  "name": "Iteration 65",
                  "type": "scatter",
                  "x": [
                    0,
                    1,
                    2,
                    3,
                    4,
                    5,
                    6,
                    7,
                    8,
                    9,
                    10
                  ],
                  "y": [
                    -3.263646948328936,
                    -6.416942714657251,
                    26.195666729502612,
                    18.830218720478463,
                    -38.665494007496704,
                    17.92425428953834,
                    10.232623863482644,
                    16.966926404774412,
                    26.766455674793065,
                    8.388645012879984,
                    149.35889347885816
                  ]
                },
                {
                  "line": {
                    "width": 2
                  },
                  "mode": "lines+markers",
                  "name": "Iteration 66",
                  "type": "scatter",
                  "x": [
                    0,
                    1,
                    2,
                    3,
                    4,
                    5,
                    6,
                    7,
                    8,
                    9,
                    10
                  ],
                  "y": [
                    -3.269935573421678,
                    -6.401360948923793,
                    26.193361973245835,
                    18.82202405562817,
                    -38.656872518906994,
                    17.948343792131595,
                    10.218267476111635,
                    16.922252884116006,
                    26.776842771169413,
                    8.406042319675997,
                    149.37045037172444
                  ]
                },
                {
                  "line": {
                    "width": 2
                  },
                  "mode": "lines+markers",
                  "name": "Iteration 67",
                  "type": "scatter",
                  "x": [
                    0,
                    1,
                    2,
                    3,
                    4,
                    5,
                    6,
                    7,
                    8,
                    9,
                    10
                  ],
                  "y": [
                    -3.4452278655177233,
                    -6.089368225337331,
                    26.70610158404577,
                    19.108248108846105,
                    -39.17144634407646,
                    18.282482162902284,
                    10.631622973011076,
                    17.080288152144945,
                    26.939920558378446,
                    8.129167521872546,
                    149.51561795048775
                  ]
                },
                {
                  "line": {
                    "width": 2
                  },
                  "mode": "lines+markers",
                  "name": "Iteration 68",
                  "type": "scatter",
                  "x": [
                    0,
                    1,
                    2,
                    3,
                    4,
                    5,
                    6,
                    7,
                    8,
                    9,
                    10
                  ],
                  "y": [
                    -3.24926676834893,
                    -6.028140337968932,
                    26.88108177843707,
                    19.069618316645126,
                    -38.68845221428455,
                    17.963120455377975,
                    10.246905031888986,
                    16.82969770146738,
                    26.639509905908028,
                    8.32103478383501,
                    149.36830635200255
                  ]
                },
                {
                  "line": {
                    "width": 2
                  },
                  "mode": "lines+markers",
                  "name": "Iteration 69",
                  "type": "scatter",
                  "x": [
                    0,
                    1,
                    2,
                    3,
                    4,
                    5,
                    6,
                    7,
                    8,
                    9,
                    10
                  ],
                  "y": [
                    -2.984197023798924,
                    -6.210190626635993,
                    26.885696706660518,
                    19.280412987343524,
                    -38.49627735471222,
                    18.005413191203502,
                    10.043308576304412,
                    16.48703911172683,
                    26.850063541840598,
                    8.06612878860453,
                    149.57956480661016
                  ]
                },
                {
                  "line": {
                    "width": 2
                  },
                  "mode": "lines+markers",
                  "name": "Iteration 70",
                  "type": "scatter",
                  "x": [
                    0,
                    1,
                    2,
                    3,
                    4,
                    5,
                    6,
                    7,
                    8,
                    9,
                    10
                  ],
                  "y": [
                    -2.498919856652274,
                    -7.028526733064098,
                    26.358254068592302,
                    19.8914180062079,
                    -38.32819347037207,
                    17.11299357162943,
                    10.623302078800606,
                    18.477470445768247,
                    25.934272435113087,
                    7.9770166287051865,
                    149.06690651512744
                  ]
                },
                {
                  "line": {
                    "width": 2
                  },
                  "mode": "lines+markers",
                  "name": "Iteration 71",
                  "type": "scatter",
                  "x": [
                    0,
                    1,
                    2,
                    3,
                    4,
                    5,
                    6,
                    7,
                    8,
                    9,
                    10
                  ],
                  "y": [
                    -2.5325750646549934,
                    -6.965972573690797,
                    26.33225450976321,
                    19.91054901377767,
                    -38.205008640715164,
                    16.97759156518964,
                    10.544909349618223,
                    18.483392364932413,
                    25.8477878833732,
                    7.902107101823219,
                    149.12497693818392
                  ]
                },
                {
                  "line": {
                    "width": 2
                  },
                  "mode": "lines+markers",
                  "name": "Iteration 72",
                  "type": "scatter",
                  "x": [
                    0,
                    1,
                    2,
                    3,
                    4,
                    5,
                    6,
                    7,
                    8,
                    9,
                    10
                  ],
                  "y": [
                    -2.7582968432727,
                    -7.07659511825479,
                    26.406361527366187,
                    19.98951394630066,
                    -38.142812524628994,
                    16.630612692817408,
                    10.59894207877457,
                    18.55821715892378,
                    25.718107935349508,
                    8.027558114224988,
                    148.96246197767442
                  ]
                },
                {
                  "line": {
                    "width": 2
                  },
                  "mode": "lines+markers",
                  "name": "Iteration 73",
                  "type": "scatter",
                  "x": [
                    0,
                    1,
                    2,
                    3,
                    4,
                    5,
                    6,
                    7,
                    8,
                    9,
                    10
                  ],
                  "y": [
                    -3.0917643670417094,
                    -7.489930535156713,
                    25.893603298118286,
                    19.607877469208482,
                    -39.39826809831277,
                    17.796593427900916,
                    10.295888504865133,
                    18.04338855893407,
                    26.577490351855317,
                    8.253895727325983,
                    149.49567092356833
                  ]
                },
                {
                  "line": {
                    "width": 2
                  },
                  "mode": "lines+markers",
                  "name": "Iteration 74",
                  "type": "scatter",
                  "x": [
                    0,
                    1,
                    2,
                    3,
                    4,
                    5,
                    6,
                    7,
                    8,
                    9,
                    10
                  ],
                  "y": [
                    -2.8545153521515667,
                    -7.704050562629464,
                    26.09097325173591,
                    19.63293973050466,
                    -39.55873422943398,
                    17.913669376294365,
                    10.361905248627409,
                    17.9787172802217,
                    26.46645189129447,
                    8.476459492564928,
                    149.6632668749881
                  ]
                },
                {
                  "line": {
                    "width": 2
                  },
                  "mode": "lines+markers",
                  "name": "Iteration 75",
                  "type": "scatter",
                  "x": [
                    0,
                    1,
                    2,
                    3,
                    4,
                    5,
                    6,
                    7,
                    8,
                    9,
                    10
                  ],
                  "y": [
                    -2.909772635907217,
                    -7.555588652199668,
                    25.843206779959125,
                    19.626786335954726,
                    -40.11629108904265,
                    18.47450960722972,
                    10.625310311899995,
                    18.13000797769071,
                    26.476352019366004,
                    8.548847028752085,
                    149.56533001896486
                  ]
                },
                {
                  "line": {
                    "width": 2
                  },
                  "mode": "lines+markers",
                  "name": "Iteration 76",
                  "type": "scatter",
                  "x": [
                    0,
                    1,
                    2,
                    3,
                    4,
                    5,
                    6,
                    7,
                    8,
                    9,
                    10
                  ],
                  "y": [
                    -2.996335036517853,
                    -7.794974191775469,
                    25.701415644504813,
                    20.036033688345917,
                    -40.27911787692119,
                    18.919771004709787,
                    10.310189933340638,
                    17.60933612187786,
                    26.565890867278767,
                    8.718449166034915,
                    149.80415643590587
                  ]
                },
                {
                  "line": {
                    "width": 2
                  },
                  "mode": "lines+markers",
                  "name": "Iteration 77",
                  "type": "scatter",
                  "x": [
                    0,
                    1,
                    2,
                    3,
                    4,
                    5,
                    6,
                    7,
                    8,
                    9,
                    10
                  ],
                  "y": [
                    -3.2084736401434717,
                    -7.634334516548597,
                    25.65139557449438,
                    20.056788593332172,
                    -39.72404192671604,
                    19.03343110946514,
                    9.469421252938957,
                    16.877099207477542,
                    26.52601560764373,
                    8.860473141089962,
                    149.5928250195778
                  ]
                },
                {
                  "line": {
                    "width": 2
                  },
                  "mode": "lines+markers",
                  "name": "Iteration 78",
                  "type": "scatter",
                  "x": [
                    0,
                    1,
                    2,
                    3,
                    4,
                    5,
                    6,
                    7,
                    8,
                    9,
                    10
                  ],
                  "y": [
                    -3.591519794041877,
                    -7.809785847888738,
                    26.10166534690424,
                    20.175337887262458,
                    -39.57338254357194,
                    18.666493375401956,
                    10.0070194795818,
                    17.01193145824088,
                    27.327809724402243,
                    7.7126218882626105,
                    148.97748458352993
                  ]
                },
                {
                  "line": {
                    "width": 2
                  },
                  "mode": "lines+markers",
                  "name": "Iteration 79",
                  "type": "scatter",
                  "x": [
                    0,
                    1,
                    2,
                    3,
                    4,
                    5,
                    6,
                    7,
                    8,
                    9,
                    10
                  ],
                  "y": [
                    -3.590849958008036,
                    -7.808391378324699,
                    26.09840447431349,
                    20.175914290940554,
                    -39.58368336871263,
                    18.674145639499443,
                    10.013613233081344,
                    17.015327930736433,
                    27.33420069564056,
                    7.713710614927592,
                    148.97541209222283
                  ]
                },
                {
                  "line": {
                    "width": 2
                  },
                  "mode": "lines+markers",
                  "name": "Iteration 80",
                  "type": "scatter",
                  "x": [
                    0,
                    1,
                    2,
                    3,
                    4,
                    5,
                    6,
                    7,
                    8,
                    9,
                    10
                  ],
                  "y": [
                    -3.5307338702994717,
                    -8.182629127068395,
                    26.246925204609866,
                    19.829909739071795,
                    -40.7440687737726,
                    19.257529327602242,
                    10.207971974918905,
                    17.148723344195744,
                    27.91248785808176,
                    7.971692933007368,
                    149.23899128493042
                  ]
                },
                {
                  "line": {
                    "width": 2
                  },
                  "mode": "lines+markers",
                  "name": "Iteration 81",
                  "type": "scatter",
                  "x": [
                    0,
                    1,
                    2,
                    3,
                    4,
                    5,
                    6,
                    7,
                    8,
                    9,
                    10
                  ],
                  "y": [
                    -2.4441854439823847,
                    -9.076644724507537,
                    25.90281103655237,
                    19.579192632940668,
                    -40.0229842612614,
                    20.150691769051605,
                    9.378033691603832,
                    16.394593994516697,
                    27.251361029474253,
                    8.227483180163041,
                    150.0979165497341
                  ]
                },
                {
                  "line": {
                    "width": 2
                  },
                  "mode": "lines+markers",
                  "name": "Iteration 82",
                  "type": "scatter",
                  "x": [
                    0,
                    1,
                    2,
                    3,
                    4,
                    5,
                    6,
                    7,
                    8,
                    9,
                    10
                  ],
                  "y": [
                    -2.148795375864804,
                    -9.2121741600723,
                    26.257285256056434,
                    19.235180684192315,
                    -38.81637157893283,
                    19.386095903243472,
                    8.788349115926366,
                    15.755258049345258,
                    26.781402939097518,
                    8.325450736710728,
                    149.90625150677963
                  ]
                },
                {
                  "line": {
                    "width": 2
                  },
                  "mode": "lines+markers",
                  "name": "Iteration 83",
                  "type": "scatter",
                  "x": [
                    0,
                    1,
                    2,
                    3,
                    4,
                    5,
                    6,
                    7,
                    8,
                    9,
                    10
                  ],
                  "y": [
                    -2.064582973557009,
                    -8.76277170087175,
                    25.961474848993916,
                    18.899790685969727,
                    -40.16759970602652,
                    20.591200939116106,
                    8.398839070175427,
                    14.53473778919303,
                    27.941999278837955,
                    8.367139812841351,
                    150.4782098219614
                  ]
                },
                {
                  "line": {
                    "width": 2
                  },
                  "mode": "lines+markers",
                  "name": "Iteration 84",
                  "type": "scatter",
                  "x": [
                    0,
                    1,
                    2,
                    3,
                    4,
                    5,
                    6,
                    7,
                    8,
                    9,
                    10
                  ],
                  "y": [
                    -1.6459774170085573,
                    -8.508159481665135,
                    25.46592052688372,
                    19.006466599005947,
                    -38.17186909305656,
                    19.190142706932534,
                    7.380319384697714,
                    14.16782897657707,
                    27.805524413748685,
                    8.222870135861243,
                    150.80480317860702
                  ]
                },
                {
                  "line": {
                    "width": 2
                  },
                  "mode": "lines+markers",
                  "name": "Iteration 85",
                  "type": "scatter",
                  "x": [
                    0,
                    1,
                    2,
                    3,
                    4,
                    5,
                    6,
                    7,
                    8,
                    9,
                    10
                  ],
                  "y": [
                    -2.4901332488325143,
                    -8.84843438605811,
                    25.227529609157372,
                    18.912505908422048,
                    -38.77868071716239,
                    20.343561120274103,
                    7.380223350829738,
                    14.014099094172522,
                    28.332387791132362,
                    8.034508166878283,
                    151.25085562776826
                  ]
                },
                {
                  "line": {
                    "width": 2
                  },
                  "mode": "lines+markers",
                  "name": "Iteration 86",
                  "type": "scatter",
                  "x": [
                    0,
                    1,
                    2,
                    3,
                    4,
                    5,
                    6,
                    7,
                    8,
                    9,
                    10
                  ],
                  "y": [
                    -2.6500344833774645,
                    -8.060274065300797,
                    25.756002934553273,
                    18.445741653773865,
                    -37.97191932197393,
                    20.99791877217183,
                    7.215249907809721,
                    13.713255206761843,
                    28.733268048389675,
                    7.224010272092613,
                    150.4725844265068
                  ]
                },
                {
                  "line": {
                    "width": 2
                  },
                  "mode": "lines+markers",
                  "name": "Iteration 87",
                  "type": "scatter",
                  "x": [
                    0,
                    1,
                    2,
                    3,
                    4,
                    5,
                    6,
                    7,
                    8,
                    9,
                    10
                  ],
                  "y": [
                    -3.1683808816546364,
                    -7.845731753315509,
                    25.351592500664417,
                    18.79541478808209,
                    -37.6130886468286,
                    20.976486248989772,
                    6.798671816346513,
                    13.45815599529135,
                    28.729723610517738,
                    7.401720773876008,
                    150.16938429869856
                  ]
                },
                {
                  "line": {
                    "width": 2
                  },
                  "mode": "lines+markers",
                  "name": "Iteration 88",
                  "type": "scatter",
                  "x": [
                    0,
                    1,
                    2,
                    3,
                    4,
                    5,
                    6,
                    7,
                    8,
                    9,
                    10
                  ],
                  "y": [
                    -2.7825110310236405,
                    -8.215516002803689,
                    25.47816413629571,
                    18.29652252823356,
                    -37.937912517711084,
                    22.49321404666864,
                    5.770616998962566,
                    11.506997192005812,
                    30.155607833714328,
                    6.457746350665822,
                    150.95855965413887
                  ]
                },
                {
                  "line": {
                    "width": 2
                  },
                  "mode": "lines+markers",
                  "name": "Iteration 89",
                  "type": "scatter",
                  "x": [
                    0,
                    1,
                    2,
                    3,
                    4,
                    5,
                    6,
                    7,
                    8,
                    9,
                    10
                  ],
                  "y": [
                    -2.6171281251330463,
                    -8.364553235821203,
                    25.531724646562907,
                    18.517227187707263,
                    -36.36917544790538,
                    21.693881209734172,
                    5.0342426519409855,
                    10.756799127589616,
                    29.518381704749288,
                    6.445347057635054,
                    150.7583111163936
                  ]
                },
                {
                  "line": {
                    "width": 2
                  },
                  "mode": "lines+markers",
                  "name": "Iteration 90",
                  "type": "scatter",
                  "x": [
                    0,
                    1,
                    2,
                    3,
                    4,
                    5,
                    6,
                    7,
                    8,
                    9,
                    10
                  ],
                  "y": [
                    -2.617246069626149,
                    -8.372055301675553,
                    25.533987935182907,
                    18.52782969188805,
                    -36.382867070932434,
                    21.685724912779847,
                    5.052855683594771,
                    10.779782965190435,
                    29.52318908630292,
                    6.436832204927207,
                    150.74929444597274
                  ]
                },
                {
                  "line": {
                    "width": 2
                  },
                  "mode": "lines+markers",
                  "name": "Iteration 91",
                  "type": "scatter",
                  "x": [
                    0,
                    1,
                    2,
                    3,
                    4,
                    5,
                    6,
                    7,
                    8,
                    9,
                    10
                  ],
                  "y": [
                    -2.4672338796228535,
                    -7.855888478343331,
                    26.36050986758032,
                    18.664225101365247,
                    -37.510428690363824,
                    22.353528329501955,
                    5.405101921438302,
                    10.295852531231517,
                    29.89244303820601,
                    6.77174471005771,
                    151.1096257844867
                  ]
                },
                {
                  "line": {
                    "width": 2
                  },
                  "mode": "lines+markers",
                  "name": "Iteration 92",
                  "type": "scatter",
                  "x": [
                    0,
                    1,
                    2,
                    3,
                    4,
                    5,
                    6,
                    7,
                    8,
                    9,
                    10
                  ],
                  "y": [
                    -2.839328144995538,
                    -8.155590845275409,
                    26.236861133177875,
                    18.99820464178438,
                    -35.56538628088674,
                    20.14143549509572,
                    4.9654329139817435,
                    10.864846001521997,
                    28.52153832974477,
                    6.200159498105322,
                    151.66066139166406
                  ]
                },
                {
                  "line": {
                    "width": 2
                  },
                  "mode": "lines+markers",
                  "name": "Iteration 93",
                  "type": "scatter",
                  "x": [
                    0,
                    1,
                    2,
                    3,
                    4,
                    5,
                    6,
                    7,
                    8,
                    9,
                    10
                  ],
                  "y": [
                    -1.7151036190388735,
                    -7.844492480652146,
                    26.063856869749927,
                    18.65689650164377,
                    -36.057548114838255,
                    20.14306542372094,
                    4.546643262225501,
                    10.870498250190025,
                    28.15947075891222,
                    6.1705040264686275,
                    152.35604182722733
                  ]
                },
                {
                  "line": {
                    "width": 2
                  },
                  "mode": "lines+markers",
                  "name": "Iteration 94",
                  "type": "scatter",
                  "x": [
                    0,
                    1,
                    2,
                    3,
                    4,
                    5,
                    6,
                    7,
                    8,
                    9,
                    10
                  ],
                  "y": [
                    -1.7292205410711476,
                    -7.8284839685746945,
                    26.044086374062708,
                    18.666066013456934,
                    -36.09741398001427,
                    20.173724048556892,
                    4.54825869295334,
                    10.857495198942871,
                    28.185735797394557,
                    6.160765226799839,
                    152.37238880328394
                  ]
                },
                {
                  "line": {
                    "width": 2
                  },
                  "mode": "lines+markers",
                  "name": "Iteration 95",
                  "type": "scatter",
                  "x": [
                    0,
                    1,
                    2,
                    3,
                    4,
                    5,
                    6,
                    7,
                    8,
                    9,
                    10
                  ],
                  "y": [
                    -1.5738467056208827,
                    -7.541383972963876,
                    26.024894981782964,
                    18.029742575333604,
                    -37.44039805561738,
                    21.020293518290032,
                    5.160588361461436,
                    11.155141477238814,
                    29.271495665522764,
                    6.045081835300792,
                    152.03154079960734
                  ]
                },
                {
                  "line": {
                    "width": 2
                  },
                  "mode": "lines+markers",
                  "name": "Iteration 96",
                  "type": "scatter",
                  "x": [
                    0,
                    1,
                    2,
                    3,
                    4,
                    5,
                    6,
                    7,
                    8,
                    9,
                    10
                  ],
                  "y": [
                    -1.109640148616025,
                    -7.994947940300555,
                    25.48386379257508,
                    17.96245459130511,
                    -36.93572830231676,
                    21.20328071431709,
                    4.811037875370687,
                    10.624372012785258,
                    28.884640475829883,
                    6.573461628845699,
                    152.5443176439429
                  ]
                },
                {
                  "line": {
                    "width": 2
                  },
                  "mode": "lines+markers",
                  "name": "Iteration 97",
                  "type": "scatter",
                  "x": [
                    0,
                    1,
                    2,
                    3,
                    4,
                    5,
                    6,
                    7,
                    8,
                    9,
                    10
                  ],
                  "y": [
                    -0.8156294333278415,
                    -8.237642933455234,
                    25.632061840741954,
                    17.741830362535357,
                    -37.56827831170585,
                    21.6242197754749,
                    4.628369175323627,
                    10.347803769835465,
                    29.281982334837096,
                    6.145824177240023,
                    152.90564407000232
                  ]
                },
                {
                  "line": {
                    "width": 2
                  },
                  "mode": "lines+markers",
                  "name": "Iteration 98",
                  "type": "scatter",
                  "x": [
                    0,
                    1,
                    2,
                    3,
                    4,
                    5,
                    6,
                    7,
                    8,
                    9,
                    10
                  ],
                  "y": [
                    -0.8034120365764399,
                    -7.732508950964487,
                    25.252955195683725,
                    17.96827850770786,
                    -37.546092044438296,
                    20.63792885401233,
                    4.706069409972542,
                    10.344479205642159,
                    29.102693067147072,
                    6.546450954880605,
                    152.44799794297234
                  ]
                },
                {
                  "line": {
                    "width": 2
                  },
                  "mode": "lines+markers",
                  "name": "Iteration 99",
                  "type": "scatter",
                  "x": [
                    0,
                    1,
                    2,
                    3,
                    4,
                    5,
                    6,
                    7,
                    8,
                    9,
                    10
                  ],
                  "y": [
                    -0.9830644022267747,
                    -7.941570837823616,
                    25.340715264707775,
                    17.892117125658547,
                    -38.83533127222802,
                    21.341936192446497,
                    5.675059685703701,
                    10.855539453860644,
                    29.903611197666635,
                    6.652327695543342,
                    152.16960577554403
                  ]
                },
                {
                  "line": {
                    "width": 2
                  },
                  "mode": "lines+markers",
                  "name": "Iteration 100",
                  "type": "scatter",
                  "x": [
                    0,
                    1,
                    2,
                    3,
                    4,
                    5,
                    6,
                    7,
                    8,
                    9,
                    10
                  ],
                  "y": [
                    -0.9630858788686658,
                    -8.075124780486846,
                    25.32399974076388,
                    17.972813302650923,
                    -39.08378229136815,
                    21.266816370731135,
                    5.970604989079845,
                    11.336624339445564,
                    29.880720279862885,
                    6.2635817697285034,
                    152.3551949528133
                  ]
                },
                {
                  "line": {
                    "width": 2
                  },
                  "mode": "lines+markers",
                  "name": "Iteration 101",
                  "type": "scatter",
                  "x": [
                    0,
                    1,
                    2,
                    3,
                    4,
                    5,
                    6,
                    7,
                    8,
                    9,
                    10
                  ],
                  "y": [
                    -0.6236008034133755,
                    -8.398908650122008,
                    25.369326663716997,
                    18.100718238736025,
                    -39.047491848112486,
                    21.257584291846115,
                    5.438640198902533,
                    10.68566696165199,
                    30.240106694276392,
                    6.277094055440607,
                    152.63066438932714
                  ]
                },
                {
                  "line": {
                    "width": 2
                  },
                  "mode": "lines+markers",
                  "name": "Iteration 102",
                  "type": "scatter",
                  "x": [
                    0,
                    1,
                    2,
                    3,
                    4,
                    5,
                    6,
                    7,
                    8,
                    9,
                    10
                  ],
                  "y": [
                    -0.5791386761071227,
                    -8.563679834961508,
                    25.259414265208015,
                    18.15189067290505,
                    -39.63354352089493,
                    21.77558128546241,
                    5.476742708169098,
                    10.612598366369724,
                    30.640590500986434,
                    6.267342224942077,
                    152.54571493925644
                  ]
                },
                {
                  "line": {
                    "width": 2
                  },
                  "mode": "lines+markers",
                  "name": "Iteration 103",
                  "type": "scatter",
                  "x": [
                    0,
                    1,
                    2,
                    3,
                    4,
                    5,
                    6,
                    7,
                    8,
                    9,
                    10
                  ],
                  "y": [
                    -1.0254941331719616,
                    -8.798815813236644,
                    25.02197593335289,
                    18.285817120982507,
                    -38.94900479237606,
                    21.276873843505427,
                    5.416308745245544,
                    10.800131483489409,
                    30.34496930653978,
                    6.50194245582923,
                    152.28850753927222
                  ]
                },
                {
                  "line": {
                    "width": 2
                  },
                  "mode": "lines+markers",
                  "name": "Iteration 104",
                  "type": "scatter",
                  "x": [
                    0,
                    1,
                    2,
                    3,
                    4,
                    5,
                    6,
                    7,
                    8,
                    9,
                    10
                  ],
                  "y": [
                    -1.20216274660552,
                    -9.19871479186588,
                    25.55714761954794,
                    17.848379932545967,
                    -39.09299791921933,
                    21.637013166907764,
                    5.218608834875198,
                    10.478198333356914,
                    30.165867195740873,
                    7.100030376105529,
                    152.60748358833013
                  ]
                },
                {
                  "line": {
                    "width": 2
                  },
                  "mode": "lines+markers",
                  "name": "Iteration 105",
                  "type": "scatter",
                  "x": [
                    0,
                    1,
                    2,
                    3,
                    4,
                    5,
                    6,
                    7,
                    8,
                    9,
                    10
                  ],
                  "y": [
                    -1.0438144394388882,
                    -9.647251729375952,
                    25.291603785475814,
                    17.917462159328235,
                    -39.84949183135177,
                    22.094517056218365,
                    5.766326970999046,
                    11.480157500888794,
                    30.40722049615175,
                    6.969028530061877,
                    152.8299404653697
                  ]
                },
                {
                  "line": {
                    "width": 2
                  },
                  "mode": "lines+markers",
                  "name": "Iteration 106",
                  "type": "scatter",
                  "x": [
                    0,
                    1,
                    2,
                    3,
                    4,
                    5,
                    6,
                    7,
                    8,
                    9,
                    10
                  ],
                  "y": [
                    -1.0288997322328637,
                    -9.629356130024687,
                    25.2879995756305,
                    17.920451763834716,
                    -39.82911989345155,
                    22.104839895844293,
                    5.742762231325116,
                    11.439443001978603,
                    30.40636447295293,
                    6.953423833237963,
                    152.84658125132364
                  ]
                },
                {
                  "line": {
                    "width": 2
                  },
                  "mode": "lines+markers",
                  "name": "Iteration 107",
                  "type": "scatter",
                  "x": [
                    0,
                    1,
                    2,
                    3,
                    4,
                    5,
                    6,
                    7,
                    8,
                    9,
                    10
                  ],
                  "y": [
                    -0.7094785069064393,
                    -9.945103514625535,
                    25.31637583829466,
                    18.066653213013733,
                    -38.33666813218758,
                    20.843736992121308,
                    5.037388689345278,
                    11.018788922167033,
                    29.32089163398757,
                    7.3279863067919635,
                    153.1780962007514
                  ]
                },
                {
                  "line": {
                    "width": 2
                  },
                  "mode": "lines+markers",
                  "name": "Iteration 108",
                  "type": "scatter",
                  "x": [
                    0,
                    1,
                    2,
                    3,
                    4,
                    5,
                    6,
                    7,
                    8,
                    9,
                    10
                  ],
                  "y": [
                    -0.7568047036321932,
                    -9.812157844792145,
                    25.400965215077314,
                    18.06285616810506,
                    -37.620559792799554,
                    20.278696276742494,
                    4.636005709254448,
                    10.693893944749775,
                    29.26633702058041,
                    7.400563265455851,
                    153.25691738834757
                  ]
                },
                {
                  "line": {
                    "width": 2
                  },
                  "mode": "lines+markers",
                  "name": "Iteration 109",
                  "type": "scatter",
                  "x": [
                    0,
                    1,
                    2,
                    3,
                    4,
                    5,
                    6,
                    7,
                    8,
                    9,
                    10
                  ],
                  "y": [
                    -0.7456537713488256,
                    -10.23631267348976,
                    25.211736216007473,
                    17.917376145288287,
                    -38.49598590769733,
                    20.911001318501576,
                    4.825391099055821,
                    10.72256172645929,
                    29.588714725677676,
                    8.068332779385948,
                    153.53732754809627
                  ]
                },
                {
                  "line": {
                    "width": 2
                  },
                  "mode": "lines+markers",
                  "name": "Iteration 110",
                  "type": "scatter",
                  "x": [
                    0,
                    1,
                    2,
                    3,
                    4,
                    5,
                    6,
                    7,
                    8,
                    9,
                    10
                  ],
                  "y": [
                    -0.9392921349769487,
                    -10.325048597538158,
                    25.072063512148823,
                    17.880049395253774,
                    -38.172858517871305,
                    20.599185280715687,
                    4.684331417683552,
                    10.631446167545718,
                    29.424771485663996,
                    8.192873727828925,
                    153.685837612522
                  ]
                },
                {
                  "line": {
                    "width": 2
                  },
                  "mode": "lines+markers",
                  "name": "Iteration 111",
                  "type": "scatter",
                  "x": [
                    0,
                    1,
                    2,
                    3,
                    4,
                    5,
                    6,
                    7,
                    8,
                    9,
                    10
                  ],
                  "y": [
                    -0.8138336349938493,
                    -10.92012240747159,
                    25.183855651069138,
                    17.68568349640021,
                    -38.148594824376346,
                    19.781405135615273,
                    5.013515226795391,
                    12.205296529701585,
                    29.127857083833646,
                    7.611588887218645,
                    153.21627367707077
                  ]
                },
                {
                  "line": {
                    "width": 2
                  },
                  "mode": "lines+markers",
                  "name": "Iteration 112",
                  "type": "scatter",
                  "x": [
                    0,
                    1,
                    2,
                    3,
                    4,
                    5,
                    6,
                    7,
                    8,
                    9,
                    10
                  ],
                  "y": [
                    -0.634792303922417,
                    -10.65060048326022,
                    25.08155271648561,
                    17.98573152045832,
                    -39.682055438824136,
                    21.047621780042505,
                    5.527677965042983,
                    12.94170914399875,
                    29.563078306410432,
                    6.8318147952942,
                    153.62798688342616
                  ]
                },
                {
                  "line": {
                    "width": 2
                  },
                  "mode": "lines+markers",
                  "name": "Iteration 113",
                  "type": "scatter",
                  "x": [
                    0,
                    1,
                    2,
                    3,
                    4,
                    5,
                    6,
                    7,
                    8,
                    9,
                    10
                  ],
                  "y": [
                    -0.6078300220951256,
                    -10.672012192579714,
                    25.08598442172081,
                    17.982869053825656,
                    -39.682704549342134,
                    21.04351962170574,
                    5.523271105323772,
                    12.950046577659137,
                    29.558998167745187,
                    6.838841160630821,
                    153.61415302659566
                  ]
                },
                {
                  "line": {
                    "width": 2
                  },
                  "mode": "lines+markers",
                  "name": "Iteration 114",
                  "type": "scatter",
                  "x": [
                    0,
                    1,
                    2,
                    3,
                    4,
                    5,
                    6,
                    7,
                    8,
                    9,
                    10
                  ],
                  "y": [
                    -0.6353204667571992,
                    -10.657852059935246,
                    25.086125649871533,
                    17.986788229835756,
                    -39.60661704048721,
                    20.962759297495722,
                    5.440488513681544,
                    12.961871829583671,
                    29.47069036883255,
                    6.874712986595242,
                    153.57732535936023
                  ]
                },
                {
                  "line": {
                    "width": 2
                  },
                  "mode": "lines+markers",
                  "name": "Iteration 115",
                  "type": "scatter",
                  "x": [
                    0,
                    1,
                    2,
                    3,
                    4,
                    5,
                    6,
                    7,
                    8,
                    9,
                    10
                  ],
                  "y": [
                    -0.633998942859022,
                    -10.667049397745801,
                    25.07754246320512,
                    17.96961366172097,
                    -39.60713485227859,
                    20.966875093482827,
                    5.425457009928834,
                    12.944258446486643,
                    29.47540678121186,
                    6.883445496094108,
                    153.58967854929793
                  ]
                },
                {
                  "line": {
                    "width": 2
                  },
                  "mode": "lines+markers",
                  "name": "Iteration 116",
                  "type": "scatter",
                  "x": [
                    0,
                    1,
                    2,
                    3,
                    4,
                    5,
                    6,
                    7,
                    8,
                    9,
                    10
                  ],
                  "y": [
                    -0.8467574558935116,
                    -10.485052802245743,
                    24.937928938236283,
                    17.95691123375184,
                    -39.84188803357222,
                    20.93719210330744,
                    5.9138536020805645,
                    13.750682252780393,
                    29.744198173660948,
                    6.692305257974695,
                    153.74665873868582
                  ]
                },
                {
                  "line": {
                    "width": 2
                  },
                  "mode": "lines+markers",
                  "name": "Iteration 117",
                  "type": "scatter",
                  "x": [
                    0,
                    1,
                    2,
                    3,
                    4,
                    5,
                    6,
                    7,
                    8,
                    9,
                    10
                  ],
                  "y": [
                    -0.9084261299366272,
                    -10.580385549431472,
                    25.19535344017207,
                    17.790187845223112,
                    -39.87431290088625,
                    21.006595385388323,
                    5.77078782067457,
                    13.38735579785039,
                    29.98113831435461,
                    6.765634935508096,
                    153.87054357657345
                  ]
                },
                {
                  "line": {
                    "width": 2
                  },
                  "mode": "lines+markers",
                  "name": "Iteration 118",
                  "type": "scatter",
                  "x": [
                    0,
                    1,
                    2,
                    3,
                    4,
                    5,
                    6,
                    7,
                    8,
                    9,
                    10
                  ],
                  "y": [
                    -0.8240280278258334,
                    -10.508889441132382,
                    25.27194486397972,
                    17.733444308935535,
                    -39.57313341716497,
                    20.828317267480884,
                    5.49209476923113,
                    13.212196882656087,
                    29.779053680772734,
                    6.745150844376969,
                    153.95441198717856
                  ]
                },
                {
                  "line": {
                    "width": 2
                  },
                  "mode": "lines+markers",
                  "name": "Iteration 119",
                  "type": "scatter",
                  "x": [
                    0,
                    1,
                    2,
                    3,
                    4,
                    5,
                    6,
                    7,
                    8,
                    9,
                    10
                  ],
                  "y": [
                    -0.93002049485413,
                    -10.139218296599173,
                    24.92801196463119,
                    17.796242298492203,
                    -39.68795774614182,
                    21.51182839709702,
                    5.042118677266842,
                    12.414223344438284,
                    30.579781489618313,
                    6.293540385710841,
                    154.32115956116812
                  ]
                },
                {
                  "line": {
                    "width": 2
                  },
                  "mode": "lines+markers",
                  "name": "Iteration 120",
                  "type": "scatter",
                  "x": [
                    0,
                    1,
                    2,
                    3,
                    4,
                    5,
                    6,
                    7,
                    8,
                    9,
                    10
                  ],
                  "y": [
                    -0.8003817171096497,
                    -10.246019351871496,
                    24.886612274163063,
                    17.695221311752224,
                    -40.05556023096733,
                    21.77607136703898,
                    5.0405672686329694,
                    12.260274703800405,
                    30.846803508722417,
                    6.347596177721634,
                    154.43704221056177
                  ]
                },
                {
                  "line": {
                    "width": 2
                  },
                  "mode": "lines+markers",
                  "name": "Iteration 121",
                  "type": "scatter",
                  "x": [
                    0,
                    1,
                    2,
                    3,
                    4,
                    5,
                    6,
                    7,
                    8,
                    9,
                    10
                  ],
                  "y": [
                    -1.217332389375434,
                    -9.852789919724913,
                    24.545030652003206,
                    17.651191702678073,
                    -38.70111222605681,
                    20.87170152417366,
                    4.184398507287369,
                    11.700165232674763,
                    30.134629375351267,
                    6.564216312866403,
                    154.8094254134335
                  ]
                },
                {
                  "line": {
                    "width": 2
                  },
                  "mode": "lines+markers",
                  "name": "Iteration 122",
                  "type": "scatter",
                  "x": [
                    0,
                    1,
                    2,
                    3,
                    4,
                    5,
                    6,
                    7,
                    8,
                    9,
                    10
                  ],
                  "y": [
                    -0.9656334459152074,
                    -9.657542772419465,
                    24.687242339442648,
                    17.638741195601494,
                    -38.54419449564659,
                    21.185153209730743,
                    3.786142073015469,
                    11.245083835575315,
                    30.033005801502213,
                    6.332109948538779,
                    155.03619615203962
                  ]
                },
                {
                  "line": {
                    "width": 2
                  },
                  "mode": "lines+markers",
                  "name": "Iteration 123",
                  "type": "scatter",
                  "x": [
                    0,
                    1,
                    2,
                    3,
                    4,
                    5,
                    6,
                    7,
                    8,
                    9,
                    10
                  ],
                  "y": [
                    -0.9478117998468854,
                    -9.692529038120297,
                    24.6769064175394,
                    17.65595946902832,
                    -38.472887945553,
                    21.07270362336567,
                    3.8541509022291507,
                    11.381089672510583,
                    29.943104163898965,
                    6.278466603087271,
                    155.07683151658978
                  ]
                },
                {
                  "line": {
                    "width": 2
                  },
                  "mode": "lines+markers",
                  "name": "Iteration 124",
                  "type": "scatter",
                  "x": [
                    0,
                    1,
                    2,
                    3,
                    4,
                    5,
                    6,
                    7,
                    8,
                    9,
                    10
                  ],
                  "y": [
                    -0.916650520617571,
                    -9.845923441263736,
                    24.74321361795912,
                    17.7195315927393,
                    -38.42552007791335,
                    21.062162511912447,
                    4.014046027161669,
                    11.694463489701313,
                    29.584103424769467,
                    6.302821783880496,
                    154.9487360246321
                  ]
                },
                {
                  "line": {
                    "width": 2
                  },
                  "mode": "lines+markers",
                  "name": "Iteration 125",
                  "type": "scatter",
                  "x": [
                    0,
                    1,
                    2,
                    3,
                    4,
                    5,
                    6,
                    7,
                    8,
                    9,
                    10
                  ],
                  "y": [
                    -0.8645722924583428,
                    -9.88049780144561,
                    24.709487780846644,
                    17.6830759006141,
                    -38.36637027778579,
                    21.030928116163295,
                    3.980450081024401,
                    11.672006348535298,
                    29.544897631363654,
                    6.327823913562728,
                    154.988426710405
                  ]
                },
                {
                  "line": {
                    "width": 2
                  },
                  "mode": "lines+markers",
                  "name": "Iteration 126",
                  "type": "scatter",
                  "x": [
                    0,
                    1,
                    2,
                    3,
                    4,
                    5,
                    6,
                    7,
                    8,
                    9,
                    10
                  ],
                  "y": [
                    -0.7701938687616945,
                    -10.151279384840414,
                    25.028672026466737,
                    17.667580107599807,
                    -38.24524203502392,
                    20.159507852613842,
                    4.467080162600212,
                    12.59442476494388,
                    29.436365805205924,
                    5.773192151313328,
                    154.6233285046493
                  ]
                },
                {
                  "line": {
                    "width": 2
                  },
                  "mode": "lines+markers",
                  "name": "Iteration 127",
                  "type": "scatter",
                  "x": [
                    0,
                    1,
                    2,
                    3,
                    4,
                    5,
                    6,
                    7,
                    8,
                    9,
                    10
                  ],
                  "y": [
                    -1.0372779678463608,
                    -9.83678610689459,
                    24.94258405899719,
                    17.757161768529585,
                    -38.446021837848775,
                    20.4011245171057,
                    4.704733505929539,
                    12.735831034413785,
                    29.40875375262823,
                    5.450843718205128,
                    154.43652161610368
                  ]
                },
                {
                  "line": {
                    "width": 2
                  },
                  "mode": "lines+markers",
                  "name": "Iteration 128",
                  "type": "scatter",
                  "x": [
                    0,
                    1,
                    2,
                    3,
                    4,
                    5,
                    6,
                    7,
                    8,
                    9,
                    10
                  ],
                  "y": [
                    -1.0038032745582068,
                    -9.38978637598841,
                    25.68072382889668,
                    17.984141498628592,
                    -39.4239198316119,
                    20.9712966334547,
                    5.073953225624052,
                    12.580120307217676,
                    29.511635935883362,
                    5.507733491184332,
                    154.7598700417624
                  ]
                },
                {
                  "line": {
                    "width": 2
                  },
                  "mode": "lines+markers",
                  "name": "Iteration 129",
                  "type": "scatter",
                  "x": [
                    0,
                    1,
                    2,
                    3,
                    4,
                    5,
                    6,
                    7,
                    8,
                    9,
                    10
                  ],
                  "y": [
                    -0.7184469527560893,
                    -9.615993128822439,
                    25.56594571272236,
                    18.123051354664234,
                    -41.23457928748826,
                    21.985125863354142,
                    6.85568480051262,
                    13.54072237417251,
                    30.32298247473392,
                    5.364203040271654,
                    155.1283652410562
                  ]
                },
                {
                  "line": {
                    "width": 2
                  },
                  "mode": "lines+markers",
                  "name": "Iteration 130",
                  "type": "scatter",
                  "x": [
                    0,
                    1,
                    2,
                    3,
                    4,
                    5,
                    6,
                    7,
                    8,
                    9,
                    10
                  ],
                  "y": [
                    -0.9322007148717564,
                    -8.807518982322913,
                    26.34051466684855,
                    17.352622630202895,
                    -41.654827507554614,
                    22.04954451563424,
                    7.906429662861342,
                    13.651309073419,
                    31.230062884928145,
                    5.223953566752776,
                    154.51343512900755
                  ]
                },
                {
                  "line": {
                    "width": 2
                  },
                  "mode": "lines+markers",
                  "name": "Iteration 131",
                  "type": "scatter",
                  "x": [
                    0,
                    1,
                    2,
                    3,
                    4,
                    5,
                    6,
                    7,
                    8,
                    9,
                    10
                  ],
                  "y": [
                    -0.5255523927510275,
                    -9.1263779280427,
                    26.310580118843205,
                    17.208244536710538,
                    -42.73102185133905,
                    22.8611419407963,
                    8.34317134558205,
                    13.88767309697247,
                    31.906732782906488,
                    5.150141296684708,
                    154.28455074250144
                  ]
                },
                {
                  "line": {
                    "width": 2
                  },
                  "mode": "lines+markers",
                  "name": "Iteration 132",
                  "type": "scatter",
                  "x": [
                    0,
                    1,
                    2,
                    3,
                    4,
                    5,
                    6,
                    7,
                    8,
                    9,
                    10
                  ],
                  "y": [
                    -0.5139625434295851,
                    -9.140535451476607,
                    26.304086423406837,
                    17.182128578416364,
                    -42.72032225954365,
                    22.840344566974636,
                    8.35403856877656,
                    13.876091469571442,
                    31.895663505783205,
                    5.187937097164372,
                    154.30661713004415
                  ]
                },
                {
                  "line": {
                    "width": 2
                  },
                  "mode": "lines+markers",
                  "name": "Iteration 133",
                  "type": "scatter",
                  "x": [
                    0,
                    1,
                    2,
                    3,
                    4,
                    5,
                    6,
                    7,
                    8,
                    9,
                    10
                  ],
                  "y": [
                    -0.8305095249274714,
                    -9.314028319547642,
                    26.11769068108203,
                    17.245783650554035,
                    -43.81523935402652,
                    23.49375829922235,
                    8.763393691230135,
                    14.017613298203784,
                    32.47295478783343,
                    5.169160280174143,
                    154.53295133287466
                  ]
                },
                {
                  "line": {
                    "width": 2
                  },
                  "mode": "lines+markers",
                  "name": "Iteration 134",
                  "type": "scatter",
                  "x": [
                    0,
                    1,
                    2,
                    3,
                    4,
                    5,
                    6,
                    7,
                    8,
                    9,
                    10
                  ],
                  "y": [
                    -0.4252014528167827,
                    -9.728793775641872,
                    25.944316384879613,
                    17.80448073747157,
                    -44.26030592538859,
                    24.358865701776836,
                    8.541150983294528,
                    13.32493683904341,
                    32.75246992655548,
                    5.2261776196877925,
                    154.94476625624168
                  ]
                },
                {
                  "line": {
                    "width": 2
                  },
                  "mode": "lines+markers",
                  "name": "Iteration 135",
                  "type": "scatter",
                  "x": [
                    0,
                    1,
                    2,
                    3,
                    4,
                    5,
                    6,
                    7,
                    8,
                    9,
                    10
                  ],
                  "y": [
                    -0.31251330938454913,
                    -9.68848957842373,
                    25.91111550240913,
                    17.755233376336864,
                    -44.20896709961403,
                    24.3771112503033,
                    8.339064651283707,
                    13.134109897289818,
                    32.77215586694416,
                    5.346966679438921,
                    154.86394469893875
                  ]
                },
                {
                  "line": {
                    "width": 2
                  },
                  "mode": "lines+markers",
                  "name": "Iteration 136",
                  "type": "scatter",
                  "x": [
                    0,
                    1,
                    2,
                    3,
                    4,
                    5,
                    6,
                    7,
                    8,
                    9,
                    10
                  ],
                  "y": [
                    -0.41982107726329154,
                    -9.562875142031103,
                    25.952485084763282,
                    18.075640167740243,
                    -44.267512379279424,
                    23.92996762807809,
                    8.551852535709315,
                    13.791553574708878,
                    32.389421651135365,
                    5.288687022752583,
                    154.63218478164137
                  ]
                },
                {
                  "line": {
                    "width": 2
                  },
                  "mode": "lines+markers",
                  "name": "Iteration 137",
                  "type": "scatter",
                  "x": [
                    0,
                    1,
                    2,
                    3,
                    4,
                    5,
                    6,
                    7,
                    8,
                    9,
                    10
                  ],
                  "y": [
                    -0.6808147541466241,
                    -9.892807460223091,
                    25.503391081670514,
                    18.487103606930493,
                    -44.39851945512396,
                    23.73023205663685,
                    8.981958807574017,
                    14.53402399867597,
                    32.43153486286394,
                    5.26671087979021,
                    154.3593338882393
                  ]
                },
                {
                  "line": {
                    "width": 2
                  },
                  "mode": "lines+markers",
                  "name": "Iteration 138",
                  "type": "scatter",
                  "x": [
                    0,
                    1,
                    2,
                    3,
                    4,
                    5,
                    6,
                    7,
                    8,
                    9,
                    10
                  ],
                  "y": [
                    -0.7130154856266042,
                    -10.02728112498702,
                    25.9540025938609,
                    18.320309913579344,
                    -43.78865820914041,
                    22.932007730013538,
                    8.943148739960009,
                    14.663883440247197,
                    32.16003369967825,
                    4.985820046449824,
                    154.10297868762493
                  ]
                },
                {
                  "line": {
                    "width": 2
                  },
                  "mode": "lines+markers",
                  "name": "Iteration 139",
                  "type": "scatter",
                  "x": [
                    0,
                    1,
                    2,
                    3,
                    4,
                    5,
                    6,
                    7,
                    8,
                    9,
                    10
                  ],
                  "y": [
                    -0.7460071910759343,
                    -10.198874840971323,
                    25.84257843140505,
                    18.216872192213646,
                    -43.44040713671791,
                    23.101645234413922,
                    8.358800472928976,
                    14.136716230312501,
                    32.12902287945832,
                    4.802088529230929,
                    154.33586127180567
                  ]
                },
                {
                  "line": {
                    "width": 2
                  },
                  "mode": "lines+markers",
                  "name": "Iteration 140",
                  "type": "scatter",
                  "x": [
                    0,
                    1,
                    2,
                    3,
                    4,
                    5,
                    6,
                    7,
                    8,
                    9,
                    10
                  ],
                  "y": [
                    -0.5955744730607826,
                    -10.103494345992946,
                    25.99005490729126,
                    18.193075065016714,
                    -44.23906413921077,
                    23.554559056393487,
                    8.701006731754546,
                    14.522173586709563,
                    32.36618322289968,
                    4.605704899446511,
                    154.47684692661153
                  ]
                },
                {
                  "line": {
                    "width": 2
                  },
                  "mode": "lines+markers",
                  "name": "Iteration 141",
                  "type": "scatter",
                  "x": [
                    0,
                    1,
                    2,
                    3,
                    4,
                    5,
                    6,
                    7,
                    8,
                    9,
                    10
                  ],
                  "y": [
                    -0.5554185554945814,
                    -9.918895196713706,
                    25.872525243970514,
                    18.424405997272743,
                    -44.340804111699754,
                    23.376235448878106,
                    8.872493813070491,
                    14.956584856988542,
                    32.22623294477245,
                    4.226501732436265,
                    154.30561680371457
                  ]
                },
                {
                  "line": {
                    "width": 2
                  },
                  "mode": "lines+markers",
                  "name": "Iteration 142",
                  "type": "scatter",
                  "x": [
                    0,
                    1,
                    2,
                    3,
                    4,
                    5,
                    6,
                    7,
                    8,
                    9,
                    10
                  ],
                  "y": [
                    -0.5051679506989029,
                    -9.75640288202151,
                    25.746340554781717,
                    18.71285600311107,
                    -44.801714389684435,
                    23.840611001489606,
                    9.103236761180654,
                    14.887492824582402,
                    32.46204842638542,
                    4.169156051304704,
                    154.4623281310074
                  ]
                },
                {
                  "line": {
                    "width": 2
                  },
                  "mode": "lines+markers",
                  "name": "Iteration 143",
                  "type": "scatter",
                  "x": [
                    0,
                    1,
                    2,
                    3,
                    4,
                    5,
                    6,
                    7,
                    8,
                    9,
                    10
                  ],
                  "y": [
                    -0.4336350817532377,
                    -9.730735055201109,
                    25.75722127363425,
                    18.684746083445425,
                    -44.74569976261455,
                    23.826206364988934,
                    9.085443375859825,
                    14.903872780309783,
                    32.417613717573715,
                    4.227178465637387,
                    154.40458613574438
                  ]
                },
                {
                  "line": {
                    "width": 2
                  },
                  "mode": "lines+markers",
                  "name": "Iteration 144",
                  "type": "scatter",
                  "x": [
                    0,
                    1,
                    2,
                    3,
                    4,
                    5,
                    6,
                    7,
                    8,
                    9,
                    10
                  ],
                  "y": [
                    0.14419283976845598,
                    -9.353536168260352,
                    24.922524551697727,
                    19.135929119011564,
                    -43.96133926958885,
                    22.913526168670046,
                    9.006520478959658,
                    15.310383705952091,
                    31.998917120778003,
                    3.9292856650282957,
                    154.0076347547987
                  ]
                },
                {
                  "line": {
                    "width": 2
                  },
                  "mode": "lines+markers",
                  "name": "Iteration 145",
                  "type": "scatter",
                  "x": [
                    0,
                    1,
                    2,
                    3,
                    4,
                    5,
                    6,
                    7,
                    8,
                    9,
                    10
                  ],
                  "y": [
                    0.2958158882867199,
                    -8.913753801242633,
                    24.878436411354826,
                    19.19268946348795,
                    -43.8330373550923,
                    23.66452791645804,
                    8.399329456316138,
                    13.896003912090364,
                    32.59165229650597,
                    3.708370607521381,
                    154.35954508399746
                  ]
                },
                {
                  "line": {
                    "width": 2
                  },
                  "mode": "lines+markers",
                  "name": "Iteration 146",
                  "type": "scatter",
                  "x": [
                    0,
                    1,
                    2,
                    3,
                    4,
                    5,
                    6,
                    7,
                    8,
                    9,
                    10
                  ],
                  "y": [
                    0.22934636288012378,
                    -8.856890248395775,
                    24.816975943598095,
                    19.30839603703409,
                    -43.812164132538555,
                    23.546253495002816,
                    8.440050202574298,
                    13.996310856418575,
                    32.53027996562031,
                    3.707942914421743,
                    154.2969994997329
                  ]
                },
                {
                  "line": {
                    "width": 2
                  },
                  "mode": "lines+markers",
                  "name": "Iteration 147",
                  "type": "scatter",
                  "x": [
                    0,
                    1,
                    2,
                    3,
                    4,
                    5,
                    6,
                    7,
                    8,
                    9,
                    10
                  ],
                  "y": [
                    0.44800190623980285,
                    -8.830258147841018,
                    24.528605062298425,
                    19.40245353604068,
                    -43.86016169688605,
                    23.55997904528192,
                    8.19490526353826,
                    13.957342317813712,
                    32.55966813195363,
                    3.797204744799185,
                    154.16185205122386
                  ]
                },
                {
                  "line": {
                    "width": 2
                  },
                  "mode": "lines+markers",
                  "name": "Iteration 148",
                  "type": "scatter",
                  "x": [
                    0,
                    1,
                    2,
                    3,
                    4,
                    5,
                    6,
                    7,
                    8,
                    9,
                    10
                  ],
                  "y": [
                    0.5555126350802837,
                    -8.440915604456055,
                    24.83528739073637,
                    18.890645270245567,
                    -43.835579542493974,
                    23.503259818838615,
                    8.187650558600467,
                    13.708214736796101,
                    33.036837147826304,
                    3.4938301681061503,
                    153.8640615881208
                  ]
                },
                {
                  "line": {
                    "width": 2
                  },
                  "mode": "lines+markers",
                  "name": "Iteration 149",
                  "type": "scatter",
                  "x": [
                    0,
                    1,
                    2,
                    3,
                    4,
                    5,
                    6,
                    7,
                    8,
                    9,
                    10
                  ],
                  "y": [
                    0.5098440066795487,
                    -8.477078396584558,
                    24.84817827270708,
                    18.88032503147053,
                    -43.959876013886515,
                    23.57683623363846,
                    8.241420346121231,
                    13.751525804076927,
                    33.11499392017657,
                    3.5014584874910923,
                    153.82877792425631
                  ]
                },
                {
                  "line": {
                    "width": 2
                  },
                  "mode": "lines+markers",
                  "name": "Iteration 150",
                  "type": "scatter",
                  "x": [
                    0,
                    1,
                    2,
                    3,
                    4,
                    5,
                    6,
                    7,
                    8,
                    9,
                    10
                  ],
                  "y": [
                    0.5702775969695413,
                    -8.411064430660318,
                    24.812875722131956,
                    18.82209366823312,
                    -44.075673773000176,
                    23.650138992638745,
                    8.14606111015803,
                    13.60766291465594,
                    33.17741286072334,
                    3.514891463480005,
                    153.91430377757015
                  ]
                },
                {
                  "line": {
                    "width": 2
                  },
                  "mode": "lines+markers",
                  "name": "Iteration 151",
                  "type": "scatter",
                  "x": [
                    0,
                    1,
                    2,
                    3,
                    4,
                    5,
                    6,
                    7,
                    8,
                    9,
                    10
                  ],
                  "y": [
                    0.4495153474031959,
                    -8.520437821277302,
                    24.948964198590524,
                    18.59743293189123,
                    -43.579950845048984,
                    23.005848497366173,
                    8.043279627991296,
                    13.476947750017658,
                    33.07340036329367,
                    3.7278705274364228,
                    153.70842791377538
                  ]
                },
                {
                  "line": {
                    "width": 2
                  },
                  "mode": "lines+markers",
                  "name": "Iteration 152",
                  "type": "scatter",
                  "x": [
                    0,
                    1,
                    2,
                    3,
                    4,
                    5,
                    6,
                    7,
                    8,
                    9,
                    10
                  ],
                  "y": [
                    0.6200623681102044,
                    -8.856467193778514,
                    24.675163025443496,
                    18.677566245221843,
                    -43.45485069644326,
                    22.743554427552795,
                    7.6065080587114835,
                    13.353600391400882,
                    32.75131139126631,
                    3.9638877925234333,
                    153.98018687653618
                  ]
                },
                {
                  "line": {
                    "width": 2
                  },
                  "mode": "lines+markers",
                  "name": "Iteration 153",
                  "type": "scatter",
                  "x": [
                    0,
                    1,
                    2,
                    3,
                    4,
                    5,
                    6,
                    7,
                    8,
                    9,
                    10
                  ],
                  "y": [
                    0.6122083769461018,
                    -8.943245894213344,
                    24.70931591249832,
                    18.819647474311722,
                    -43.31019705505639,
                    22.477960698984703,
                    7.601885719165637,
                    13.420812514881085,
                    32.607185714813056,
                    3.9577716503808773,
                    153.88984371067875
                  ]
                },
                {
                  "line": {
                    "width": 2
                  },
                  "mode": "lines+markers",
                  "name": "Iteration 154",
                  "type": "scatter",
                  "x": [
                    0,
                    1,
                    2,
                    3,
                    4,
                    5,
                    6,
                    7,
                    8,
                    9,
                    10
                  ],
                  "y": [
                    0.7298649979119602,
                    -9.154262122006681,
                    25.11863980222831,
                    18.344158505942968,
                    -43.77528543672622,
                    22.8973978515088,
                    7.570429573733577,
                    12.94192619553872,
                    33.074174447293785,
                    4.15891431592733,
                    154.1416203451796
                  ]
                },
                {
                  "line": {
                    "width": 2
                  },
                  "mode": "lines+markers",
                  "name": "Iteration 155",
                  "type": "scatter",
                  "x": [
                    0,
                    1,
                    2,
                    3,
                    4,
                    5,
                    6,
                    7,
                    8,
                    9,
                    10
                  ],
                  "y": [
                    0.7718656149770897,
                    -9.543399022128181,
                    24.65041961764853,
                    17.999268279499034,
                    -43.80719837806748,
                    22.895466835187108,
                    7.547289014124715,
                    13.136322058889412,
                    33.61878093588501,
                    3.853136571302681,
                    153.8417009881719
                  ]
                },
                {
                  "line": {
                    "width": 2
                  },
                  "mode": "lines+markers",
                  "name": "Iteration 156",
                  "type": "scatter",
                  "x": [
                    0,
                    1,
                    2,
                    3,
                    4,
                    5,
                    6,
                    7,
                    8,
                    9,
                    10
                  ],
                  "y": [
                    0.7679343265805514,
                    -9.748425688778973,
                    24.69375142393337,
                    18.34754395894846,
                    -44.55957077589687,
                    23.395098667959132,
                    7.810077306839162,
                    13.294285848948007,
                    33.85680537973161,
                    3.684301439639853,
                    154.020245941356
                  ]
                },
                {
                  "line": {
                    "width": 2
                  },
                  "mode": "lines+markers",
                  "name": "Iteration 157",
                  "type": "scatter",
                  "x": [
                    0,
                    1,
                    2,
                    3,
                    4,
                    5,
                    6,
                    7,
                    8,
                    9,
                    10
                  ],
                  "y": [
                    0.8546631875171862,
                    -9.794396741911854,
                    24.69884620608969,
                    18.352486756696607,
                    -44.630070612569625,
                    23.41282004830282,
                    7.97659318501195,
                    13.434057107359273,
                    33.84908978876052,
                    3.5887566112545457,
                    154.09160231795573
                  ]
                },
                {
                  "line": {
                    "width": 2
                  },
                  "mode": "lines+markers",
                  "name": "Iteration 158",
                  "type": "scatter",
                  "x": [
                    0,
                    1,
                    2,
                    3,
                    4,
                    5,
                    6,
                    7,
                    8,
                    9,
                    10
                  ],
                  "y": [
                    0.8278357671589092,
                    -9.727640735410738,
                    24.72597530405762,
                    18.439275715384728,
                    -44.69711777856651,
                    23.479497384753472,
                    8.121316433477318,
                    13.511915754657167,
                    33.886784447825505,
                    3.590294882501553,
                    154.01449126245066
                  ]
                },
                {
                  "line": {
                    "width": 2
                  },
                  "mode": "lines+markers",
                  "name": "Iteration 159",
                  "type": "scatter",
                  "x": [
                    0,
                    1,
                    2,
                    3,
                    4,
                    5,
                    6,
                    7,
                    8,
                    9,
                    10
                  ],
                  "y": [
                    0.4928420648867835,
                    -9.936344653632199,
                    24.571125934169714,
                    18.397573911110502,
                    -45.43332811160144,
                    24.214180905852004,
                    8.211583262663737,
                    13.516053098117176,
                    34.3258668285369,
                    3.5770725008629896,
                    154.23182026453478
                  ]
                },
                {
                  "line": {
                    "width": 2
                  },
                  "mode": "lines+markers",
                  "name": "Iteration 160",
                  "type": "scatter",
                  "x": [
                    0,
                    1,
                    2,
                    3,
                    4,
                    5,
                    6,
                    7,
                    8,
                    9,
                    10
                  ],
                  "y": [
                    0.6418213953592975,
                    -9.720561035827021,
                    24.432860198697163,
                    18.34942806057135,
                    -45.59549495627937,
                    24.685469881217955,
                    8.185943180562163,
                    13.039356708839854,
                    34.671950095647446,
                    3.5751794612995162,
                    154.41416801761784
                  ]
                },
                {
                  "line": {
                    "width": 2
                  },
                  "mode": "lines+markers",
                  "name": "Iteration 161",
                  "type": "scatter",
                  "x": [
                    0,
                    1,
                    2,
                    3,
                    4,
                    5,
                    6,
                    7,
                    8,
                    9,
                    10
                  ],
                  "y": [
                    0.7951939294782644,
                    -10.02670010097146,
                    24.63701320828342,
                    18.15519734556358,
                    -44.73856942984048,
                    24.026763734595306,
                    7.619621803326481,
                    12.96928278251805,
                    34.16653989516408,
                    3.767927350518768,
                    154.17996042583283
                  ]
                },
                {
                  "line": {
                    "width": 2
                  },
                  "mode": "lines+markers",
                  "name": "Iteration 162",
                  "type": "scatter",
                  "x": [
                    0,
                    1,
                    2,
                    3,
                    4,
                    5,
                    6,
                    7,
                    8,
                    9,
                    10
                  ],
                  "y": [
                    0.8472492841174635,
                    -10.220853020996602,
                    24.743210127834807,
                    17.744274453532828,
                    -44.35593630305925,
                    24.028071015197725,
                    8.011494052838827,
                    12.613362497160495,
                    34.6858376002927,
                    4.061964458255442,
                    154.49658901011463
                  ]
                },
                {
                  "line": {
                    "width": 2
                  },
                  "mode": "lines+markers",
                  "name": "Iteration 163",
                  "type": "scatter",
                  "x": [
                    0,
                    1,
                    2,
                    3,
                    4,
                    5,
                    6,
                    7,
                    8,
                    9,
                    10
                  ],
                  "y": [
                    0.6753827378751129,
                    -10.372015844015829,
                    25.122689594774116,
                    17.351331729616355,
                    -44.45812933964942,
                    23.854193482742403,
                    8.434335250495735,
                    12.941865568830664,
                    34.95453648001626,
                    4.031193117172435,
                    154.19457185499002
                  ]
                },
                {
                  "line": {
                    "width": 2
                  },
                  "mode": "lines+markers",
                  "name": "Iteration 164",
                  "type": "scatter",
                  "x": [
                    0,
                    1,
                    2,
                    3,
                    4,
                    5,
                    6,
                    7,
                    8,
                    9,
                    10
                  ],
                  "y": [
                    0.8055646471473246,
                    -10.487343832329014,
                    25.13925903359798,
                    17.349530001061613,
                    -44.518917310052075,
                    23.976769047543257,
                    8.478468576674345,
                    12.949744050592187,
                    35.02364882217,
                    4.036567946609711,
                    154.09950397682348
                  ]
                },
                {
                  "line": {
                    "width": 2
                  },
                  "mode": "lines+markers",
                  "name": "Iteration 165",
                  "type": "scatter",
                  "x": [
                    0,
                    1,
                    2,
                    3,
                    4,
                    5,
                    6,
                    7,
                    8,
                    9,
                    10
                  ],
                  "y": [
                    0.8783026806374341,
                    -10.629142235911477,
                    25.37475999500711,
                    17.466965222497578,
                    -43.555061095818246,
                    23.77983955244588,
                    8.149622356559462,
                    12.399769613221679,
                    34.6206188243558,
                    3.6808607346047673,
                    154.39600030956916
                  ]
                },
                {
                  "line": {
                    "width": 2
                  },
                  "mode": "lines+markers",
                  "name": "Iteration 166",
                  "type": "scatter",
                  "x": [
                    0,
                    1,
                    2,
                    3,
                    4,
                    5,
                    6,
                    7,
                    8,
                    9,
                    10
                  ],
                  "y": [
                    0.987697395133937,
                    -10.558797988408163,
                    25.22939036058021,
                    17.384703398425593,
                    -43.04714872797865,
                    23.509383239969225,
                    7.559522547912479,
                    12.358527358962448,
                    34.17458392360555,
                    3.6257281054945842,
                    154.23294349004576
                  ]
                },
                {
                  "line": {
                    "width": 2
                  },
                  "mode": "lines+markers",
                  "name": "Iteration 167",
                  "type": "scatter",
                  "x": [
                    0,
                    1,
                    2,
                    3,
                    4,
                    5,
                    6,
                    7,
                    8,
                    9,
                    10
                  ],
                  "y": [
                    0.6143555624700685,
                    -10.980297640066802,
                    24.877711788183326,
                    17.435430465824705,
                    -42.88034089914663,
                    24.22024257282669,
                    6.430744817078221,
                    11.299443251815532,
                    34.350824112023304,
                    3.279530101626655,
                    154.72877679246758
                  ]
                },
                {
                  "line": {
                    "width": 2
                  },
                  "mode": "lines+markers",
                  "name": "Iteration 168",
                  "type": "scatter",
                  "x": [
                    0,
                    1,
                    2,
                    3,
                    4,
                    5,
                    6,
                    7,
                    8,
                    9,
                    10
                  ],
                  "y": [
                    0.7345298214408,
                    -10.752881073303968,
                    24.21117421057164,
                    17.955676422911562,
                    -42.46439501812051,
                    24.052597219505287,
                    6.336380110777043,
                    11.751834670266565,
                    34.316042947464155,
                    2.7659556978229034,
                    154.35947140768292
                  ]
                },
                {
                  "line": {
                    "width": 2
                  },
                  "mode": "lines+markers",
                  "name": "Iteration 169",
                  "type": "scatter",
                  "x": [
                    0,
                    1,
                    2,
                    3,
                    4,
                    5,
                    6,
                    7,
                    8,
                    9,
                    10
                  ],
                  "y": [
                    0.6523461200784606,
                    -10.705561438808692,
                    24.15980953899664,
                    17.98113013473244,
                    -42.590769643655904,
                    24.230685184490653,
                    6.3176344443841685,
                    11.664689430986154,
                    34.39259797352838,
                    2.819549905719967,
                    154.41161824940906
                  ]
                },
                {
                  "line": {
                    "width": 2
                  },
                  "mode": "lines+markers",
                  "name": "Iteration 170",
                  "type": "scatter",
                  "x": [
                    0,
                    1,
                    2,
                    3,
                    4,
                    5,
                    6,
                    7,
                    8,
                    9,
                    10
                  ],
                  "y": [
                    0.6821999983620533,
                    -10.623511599890136,
                    24.187345901156192,
                    18.219636949015182,
                    -43.23830797182336,
                    24.546714989221073,
                    6.660514281919063,
                    12.447611725270395,
                    34.09572746358458,
                    2.767247987896109,
                    154.64222777037327
                  ]
                },
                {
                  "line": {
                    "width": 2
                  },
                  "mode": "lines+markers",
                  "name": "Iteration 171",
                  "type": "scatter",
                  "x": [
                    0,
                    1,
                    2,
                    3,
                    4,
                    5,
                    6,
                    7,
                    8,
                    9,
                    10
                  ],
                  "y": [
                    0.32900313990030483,
                    -10.319328986048696,
                    24.223021879915073,
                    18.332645356541878,
                    -42.97820856229555,
                    24.070598167703565,
                    6.824012740131423,
                    12.710668178889922,
                    33.983966250215246,
                    2.5655258593778036,
                    154.4170323220707
                  ]
                },
                {
                  "line": {
                    "width": 2
                  },
                  "mode": "lines+markers",
                  "name": "Iteration 172",
                  "type": "scatter",
                  "x": [
                    0,
                    1,
                    2,
                    3,
                    4,
                    5,
                    6,
                    7,
                    8,
                    9,
                    10
                  ],
                  "y": [
                    0.5554700132885024,
                    -10.025295219148244,
                    23.439881700807,
                    19.02961430244614,
                    -41.6662018937177,
                    23.362697227924627,
                    6.150124709649674,
                    12.429173348815624,
                    33.619446526654656,
                    2.294393005082661,
                    154.01562951860342
                  ]
                },
                {
                  "line": {
                    "width": 2
                  },
                  "mode": "lines+markers",
                  "name": "Iteration 173",
                  "type": "scatter",
                  "x": [
                    0,
                    1,
                    2,
                    3,
                    4,
                    5,
                    6,
                    7,
                    8,
                    9,
                    10
                  ],
                  "y": [
                    0.5307621799361737,
                    -10.246895947812746,
                    23.386089906292646,
                    19.071435663389273,
                    -41.53129632390312,
                    23.02806775871295,
                    6.324148189817095,
                    12.944313319263426,
                    33.352442552280365,
                    2.4982272706645396,
                    153.85496528270846
                  ]
                },
                {
                  "line": {
                    "width": 2
                  },
                  "mode": "lines+markers",
                  "name": "Iteration 174",
                  "type": "scatter",
                  "x": [
                    0,
                    1,
                    2,
                    3,
                    4,
                    5,
                    6,
                    7,
                    8,
                    9,
                    10
                  ],
                  "y": [
                    0.5861136895181271,
                    -10.363932020142194,
                    23.44783028887491,
                    19.1513112455174,
                    -41.88775996366837,
                    23.21505737363225,
                    6.3556275155245885,
                    12.905859021190512,
                    33.5970730401383,
                    2.4045537108705446,
                    153.95777400539268
                  ]
                },
                {
                  "line": {
                    "width": 2
                  },
                  "mode": "lines+markers",
                  "name": "Iteration 175",
                  "type": "scatter",
                  "x": [
                    0,
                    1,
                    2,
                    3,
                    4,
                    5,
                    6,
                    7,
                    8,
                    9,
                    10
                  ],
                  "y": [
                    0.4058211367031994,
                    -10.429880523192287,
                    23.435535913153387,
                    19.082346487251506,
                    -42.287903123471324,
                    23.448542850295212,
                    6.517151730844489,
                    12.950869857140955,
                    33.81898831119503,
                    2.3704413793174197,
                    154.0806384597494
                  ]
                },
                {
                  "line": {
                    "width": 2
                  },
                  "mode": "lines+markers",
                  "name": "Iteration 176",
                  "type": "scatter",
                  "x": [
                    0,
                    1,
                    2,
                    3,
                    4,
                    5,
                    6,
                    7,
                    8,
                    9,
                    10
                  ],
                  "y": [
                    0.32964513015955,
                    -10.517572046569827,
                    23.44689454151252,
                    19.19511184272435,
                    -41.986099321366964,
                    23.22984502930717,
                    6.367117698355344,
                    12.91809375772512,
                    33.65172844845296,
                    2.4079790939909707,
                    154.00394494612837
                  ]
                },
                {
                  "line": {
                    "width": 2
                  },
                  "mode": "lines+markers",
                  "name": "Iteration 177",
                  "type": "scatter",
                  "x": [
                    0,
                    1,
                    2,
                    3,
                    4,
                    5,
                    6,
                    7,
                    8,
                    9,
                    10
                  ],
                  "y": [
                    0.32684829411311966,
                    -10.505361645911442,
                    23.45068945917376,
                    19.207425165293742,
                    -42.02136539165565,
                    23.254421887980016,
                    6.381057639371818,
                    12.908200438538799,
                    33.668620924926756,
                    2.407717862182352,
                    154.01284986530925
                  ]
                },
                {
                  "line": {
                    "width": 2
                  },
                  "mode": "lines+markers",
                  "name": "Iteration 178",
                  "type": "scatter",
                  "x": [
                    0,
                    1,
                    2,
                    3,
                    4,
                    5,
                    6,
                    7,
                    8,
                    9,
                    10
                  ],
                  "y": [
                    0.3693622223402091,
                    -10.534302176982866,
                    23.427889678650537,
                    19.197320775817506,
                    -42.02981048403967,
                    23.270888344289688,
                    6.343109628780894,
                    12.865642323507334,
                    33.668378275189355,
                    2.418035452647615,
                    154.04116693474597
                  ]
                },
                {
                  "line": {
                    "width": 2
                  },
                  "mode": "lines+markers",
                  "name": "Iteration 179",
                  "type": "scatter",
                  "x": [
                    0,
                    1,
                    2,
                    3,
                    4,
                    5,
                    6,
                    7,
                    8,
                    9,
                    10
                  ],
                  "y": [
                    0.41985092431765203,
                    -10.932470195243283,
                    22.957430564721477,
                    19.112201143168303,
                    -42.67387319569025,
                    24.058398750650326,
                    6.244279137365652,
                    12.971986906693097,
                    33.88027101600278,
                    2.380846208373825,
                    154.37334472394218
                  ]
                },
                {
                  "line": {
                    "width": 2
                  },
                  "mode": "lines+markers",
                  "name": "Iteration 180",
                  "type": "scatter",
                  "x": [
                    0,
                    1,
                    2,
                    3,
                    4,
                    5,
                    6,
                    7,
                    8,
                    9,
                    10
                  ],
                  "y": [
                    0.3568298238376961,
                    -11.014199022648373,
                    22.972538755550573,
                    19.034106781130525,
                    -42.21343019179267,
                    23.83793132854919,
                    6.1880996555805154,
                    12.930802933231075,
                    33.57656713364349,
                    2.486660427316707,
                    154.25538039079828
                  ]
                },
                {
                  "line": {
                    "width": 2
                  },
                  "mode": "lines+markers",
                  "name": "Iteration 181",
                  "type": "scatter",
                  "x": [
                    0,
                    1,
                    2,
                    3,
                    4,
                    5,
                    6,
                    7,
                    8,
                    9,
                    10
                  ],
                  "y": [
                    0.32363520788468847,
                    -10.813035723570222,
                    23.09888752516678,
                    19.096263823582408,
                    -42.80064960799996,
                    24.550266620036155,
                    6.411272751687022,
                    12.71691407209152,
                    34.11585068855891,
                    2.3198988656649746,
                    154.0708806258806
                  ]
                },
                {
                  "line": {
                    "width": 2
                  },
                  "mode": "lines+markers",
                  "name": "Iteration 182",
                  "type": "scatter",
                  "x": [
                    0,
                    1,
                    2,
                    3,
                    4,
                    5,
                    6,
                    7,
                    8,
                    9,
                    10
                  ],
                  "y": [
                    -0.03662066363686023,
                    -10.64321709256287,
                    23.113485023135738,
                    19.100686006133397,
                    -42.41017566959374,
                    24.126925230758502,
                    6.169548142228564,
                    12.932750637807441,
                    33.91264717657123,
                    2.2158290784350783,
                    153.856833578959
                  ]
                },
                {
                  "line": {
                    "width": 2
                  },
                  "mode": "lines+markers",
                  "name": "Iteration 183",
                  "type": "scatter",
                  "x": [
                    0,
                    1,
                    2,
                    3,
                    4,
                    5,
                    6,
                    7,
                    8,
                    9,
                    10
                  ],
                  "y": [
                    -0.03597900745628202,
                    -10.647913642105827,
                    23.11252925237298,
                    19.098246183455878,
                    -42.426704367055095,
                    24.138191157867595,
                    6.1778726806105055,
                    12.944241471359344,
                    33.91650913754785,
                    2.2152123469218523,
                    153.8601673984686
                  ]
                },
                {
                  "line": {
                    "width": 2
                  },
                  "mode": "lines+markers",
                  "name": "Iteration 184",
                  "type": "scatter",
                  "x": [
                    0,
                    1,
                    2,
                    3,
                    4,
                    5,
                    6,
                    7,
                    8,
                    9,
                    10
                  ],
                  "y": [
                    0.00158870685687873,
                    -10.592566281306418,
                    22.980610557366205,
                    19.183148402298226,
                    -42.725906569041854,
                    24.41792156763188,
                    6.208765470034393,
                    12.842183556630083,
                    34.05756063721799,
                    2.2893556698033635,
                    153.9481162479882
                  ]
                },
                {
                  "line": {
                    "width": 2
                  },
                  "mode": "lines+markers",
                  "name": "Iteration 185",
                  "type": "scatter",
                  "x": [
                    0,
                    1,
                    2,
                    3,
                    4,
                    5,
                    6,
                    7,
                    8,
                    9,
                    10
                  ],
                  "y": [
                    0.08530972879879428,
                    -10.545228043170875,
                    22.982756897892493,
                    19.131691978120617,
                    -42.80536249246984,
                    24.529203963055465,
                    6.236830488741759,
                    12.840345110991528,
                    34.07775546870283,
                    2.269026213674998,
                    153.9986806228955
                  ]
                },
                {
                  "line": {
                    "width": 2
                  },
                  "mode": "lines+markers",
                  "name": "Iteration 186",
                  "type": "scatter",
                  "x": [
                    0,
                    1,
                    2,
                    3,
                    4,
                    5,
                    6,
                    7,
                    8,
                    9,
                    10
                  ],
                  "y": [
                    0.19912320613698853,
                    -10.720946695304072,
                    23.080422102449027,
                    19.148970948919597,
                    -43.1813988265867,
                    24.75247992135428,
                    6.350568445126555,
                    13.008034856313273,
                    34.30686873384974,
                    2.0829854194897237,
                    153.86463132974583
                  ]
                },
                {
                  "line": {
                    "width": 2
                  },
                  "mode": "lines+markers",
                  "name": "Iteration 187",
                  "type": "scatter",
                  "x": [
                    0,
                    1,
                    2,
                    3,
                    4,
                    5,
                    6,
                    7,
                    8,
                    9,
                    10
                  ],
                  "y": [
                    0.17370923579233022,
                    -10.697800082435391,
                    23.061433213029858,
                    19.15940621104799,
                    -43.23415628727662,
                    24.878595636940872,
                    6.278453412347403,
                    12.90778998595303,
                    34.38437578144641,
                    2.0853933981080033,
                    153.8284940631278
                  ]
                },
                {
                  "line": {
                    "width": 2
                  },
                  "mode": "lines+markers",
                  "name": "Iteration 188",
                  "type": "scatter",
                  "x": [
                    0,
                    1,
                    2,
                    3,
                    4,
                    5,
                    6,
                    7,
                    8,
                    9,
                    10
                  ],
                  "y": [
                    0.3561552844646947,
                    -10.852316383964448,
                    23.10993117514431,
                    19.13834716983713,
                    -41.86002291962063,
                    24.01799890406926,
                    5.673385075170984,
                    12.281599984081936,
                    33.83290805465117,
                    2.2630345982080016,
                    153.61159469171034
                  ]
                },
                {
                  "line": {
                    "width": 2
                  },
                  "mode": "lines+markers",
                  "name": "Iteration 189",
                  "type": "scatter",
                  "x": [
                    0,
                    1,
                    2,
                    3,
                    4,
                    5,
                    6,
                    7,
                    8,
                    9,
                    10
                  ],
                  "y": [
                    0.3829495655174924,
                    -10.830869235956836,
                    23.113984008181887,
                    19.160953952559918,
                    -41.82011743860062,
                    24.03155909923362,
                    5.589955812970629,
                    12.191993426608228,
                    33.79917085989439,
                    2.2664188423480063,
                    153.6412179284982
                  ]
                },
                {
                  "line": {
                    "width": 2
                  },
                  "mode": "lines+markers",
                  "name": "Iteration 190",
                  "type": "scatter",
                  "x": [
                    0,
                    1,
                    2,
                    3,
                    4,
                    5,
                    6,
                    7,
                    8,
                    9,
                    10
                  ],
                  "y": [
                    0.681000194979438,
                    -10.47922316062898,
                    22.77135367132317,
                    19.079732623213083,
                    -40.297812164537504,
                    23.474385347218913,
                    4.665620686148316,
                    11.719731576965735,
                    32.44845145405026,
                    2.78275055688,
                    153.19799996053695
                  ]
                },
                {
                  "line": {
                    "width": 2
                  },
                  "mode": "lines+markers",
                  "name": "Iteration 191",
                  "type": "scatter",
                  "x": [
                    0,
                    1,
                    2,
                    3,
                    4,
                    5,
                    6,
                    7,
                    8,
                    9,
                    10
                  ],
                  "y": [
                    0.8315154523916615,
                    -10.291654369283002,
                    23.064258117887434,
                    19.158957927543717,
                    -39.77297112176791,
                    22.978857388192864,
                    4.789592952589544,
                    12.095925827346367,
                    32.08920020342396,
                    2.558280849313224,
                    152.97483947313782
                  ]
                },
                {
                  "line": {
                    "width": 2
                  },
                  "mode": "lines+markers",
                  "name": "Iteration 192",
                  "type": "scatter",
                  "x": [
                    0,
                    1,
                    2,
                    3,
                    4,
                    5,
                    6,
                    7,
                    8,
                    9,
                    10
                  ],
                  "y": [
                    0.8520817287129177,
                    -10.436230173068866,
                    23.08146381309978,
                    19.35308331043659,
                    -40.13741275324355,
                    23.370756745552626,
                    4.832965589527362,
                    11.617223270755922,
                    32.72232008822465,
                    2.3062231414900225,
                    153.2037137862747
                  ]
                },
                {
                  "line": {
                    "width": 2
                  },
                  "mode": "lines+markers",
                  "name": "Iteration 193",
                  "type": "scatter",
                  "x": [
                    0,
                    1,
                    2,
                    3,
                    4,
                    5,
                    6,
                    7,
                    8,
                    9,
                    10
                  ],
                  "y": [
                    1.293831805830548,
                    -10.74820053924374,
                    23.591286227716445,
                    19.21639139332355,
                    -37.53258196667002,
                    21.5135490875266,
                    4.3173871526970515,
                    11.447568745727693,
                    31.495011788414786,
                    2.222049886261072,
                    152.73693362174035
                  ]
                },
                {
                  "line": {
                    "width": 2
                  },
                  "mode": "lines+markers",
                  "name": "Iteration 194",
                  "type": "scatter",
                  "x": [
                    0,
                    1,
                    2,
                    3,
                    4,
                    5,
                    6,
                    7,
                    8,
                    9,
                    10
                  ],
                  "y": [
                    1.083175571550333,
                    -10.865359088097575,
                    23.67632904909692,
                    19.07257955108543,
                    -37.228676030215865,
                    20.96229484673495,
                    4.5423385392304,
                    11.817329156097525,
                    31.276035582330962,
                    2.3916257822024747,
                    152.5452722860386
                  ]
                },
                {
                  "line": {
                    "width": 2
                  },
                  "mode": "lines+markers",
                  "name": "Iteration 195",
                  "type": "scatter",
                  "x": [
                    0,
                    1,
                    2,
                    3,
                    4,
                    5,
                    6,
                    7,
                    8,
                    9,
                    10
                  ],
                  "y": [
                    1.2151995156438655,
                    -11.475599493855423,
                    23.18914337993943,
                    19.459120196788323,
                    -39.3122390679398,
                    22.361086904465083,
                    5.0353173436965335,
                    12.492701963092273,
                    32.016505223103195,
                    2.208737574663079,
                    152.9318861735627
                  ]
                },
                {
                  "line": {
                    "width": 2
                  },
                  "mode": "lines+markers",
                  "name": "Iteration 196",
                  "type": "scatter",
                  "x": [
                    0,
                    1,
                    2,
                    3,
                    4,
                    5,
                    6,
                    7,
                    8,
                    9,
                    10
                  ],
                  "y": [
                    1.1972860700193255,
                    -11.429961159305986,
                    23.17400286939634,
                    19.45146588185924,
                    -39.19750110329642,
                    22.213812010386846,
                    4.99239972697967,
                    12.516193114785441,
                    31.9199523351067,
                    2.218792555301331,
                    152.9754014508714
                  ]
                },
                {
                  "line": {
                    "width": 2
                  },
                  "mode": "lines+markers",
                  "name": "Iteration 197",
                  "type": "scatter",
                  "x": [
                    0,
                    1,
                    2,
                    3,
                    4,
                    5,
                    6,
                    7,
                    8,
                    9,
                    10
                  ],
                  "y": [
                    1.1210499088461194,
                    -11.352469600144818,
                    23.231889472639722,
                    19.47357558431134,
                    -39.30931276548574,
                    22.350726889412954,
                    5.086762694680829,
                    12.488526275778703,
                    32.01716853543405,
                    2.268047327160801,
                    152.9007084601439
                  ]
                },
                {
                  "line": {
                    "width": 2
                  },
                  "mode": "lines+markers",
                  "name": "Iteration 198",
                  "type": "scatter",
                  "x": [
                    0,
                    1,
                    2,
                    3,
                    4,
                    5,
                    6,
                    7,
                    8,
                    9,
                    10
                  ],
                  "y": [
                    0.9673711484654657,
                    -11.238816033719068,
                    23.251513550681906,
                    19.399103117193242,
                    -39.07385404251215,
                    22.031844321141193,
                    4.896789119541893,
                    12.488268749199197,
                    31.877807532298164,
                    2.358213955076124,
                    152.77329572924936
                  ]
                },
                {
                  "line": {
                    "width": 2
                  },
                  "mode": "lines+markers",
                  "name": "Iteration 199",
                  "type": "scatter",
                  "x": [
                    0,
                    1,
                    2,
                    3,
                    4,
                    5,
                    6,
                    7,
                    8,
                    9,
                    10
                  ],
                  "y": [
                    1.0818151997859182,
                    -11.031150793962103,
                    23.483258884647583,
                    19.374881103882217,
                    -38.67197861328077,
                    21.434869820181348,
                    5.224340010544267,
                    12.91575490626527,
                    31.52737664077921,
                    2.4625340590188003,
                    152.56484396153184
                  ]
                },
                {
                  "line": {
                    "width": 2
                  },
                  "mode": "lines+markers",
                  "name": "Iteration 200",
                  "type": "scatter",
                  "x": [
                    0,
                    1,
                    2,
                    3,
                    4,
                    5,
                    6,
                    7,
                    8,
                    9,
                    10
                  ],
                  "y": [
                    1.145631385152459,
                    -11.209072616935824,
                    23.17854181061046,
                    19.369328257041545,
                    -39.65433105818806,
                    22.123503876622408,
                    5.5996296396183425,
                    12.84162994542277,
                    32.15205311124288,
                    2.636765341973774,
                    152.76550718763178
                  ]
                },
                {
                  "line": {
                    "width": 2
                  },
                  "mode": "lines+markers",
                  "name": "Iteration 201",
                  "type": "scatter",
                  "x": [
                    0,
                    1,
                    2,
                    3,
                    4,
                    5,
                    6,
                    7,
                    8,
                    9,
                    10
                  ],
                  "y": [
                    1.3580293717312095,
                    -11.545863466567736,
                    23.58407923080256,
                    19.482882234958346,
                    -39.84689546824882,
                    22.249794022117044,
                    5.283031905838584,
                    12.699305806951607,
                    31.895910259793368,
                    2.490630784178247,
                    153.03671870240558
                  ]
                },
                {
                  "line": {
                    "width": 2
                  },
                  "mode": "lines+markers",
                  "name": "Iteration 202",
                  "type": "scatter",
                  "x": [
                    0,
                    1,
                    2,
                    3,
                    4,
                    5,
                    6,
                    7,
                    8,
                    9,
                    10
                  ],
                  "y": [
                    1.3192674073674766,
                    -11.460406642617832,
                    23.682976418654448,
                    19.578578335169233,
                    -40.01610988464836,
                    22.232135123174544,
                    5.5824709113171025,
                    13.008388244178104,
                    31.89195890111978,
                    2.514436309000857,
                    152.92439454414753
                  ]
                },
                {
                  "line": {
                    "width": 2
                  },
                  "mode": "lines+markers",
                  "name": "Iteration 203",
                  "type": "scatter",
                  "x": [
                    0,
                    1,
                    2,
                    3,
                    4,
                    5,
                    6,
                    7,
                    8,
                    9,
                    10
                  ],
                  "y": [
                    1.3815231451039267,
                    -11.526727489999796,
                    23.667306066963476,
                    19.587594507330035,
                    -39.935841595111924,
                    22.020860668181285,
                    5.614735513624339,
                    13.132846600984475,
                    31.785901883236704,
                    2.430760546012447,
                    153.01094886129218
                  ]
                },
                {
                  "line": {
                    "width": 2
                  },
                  "mode": "lines+markers",
                  "name": "Iteration 204",
                  "type": "scatter",
                  "x": [
                    0,
                    1,
                    2,
                    3,
                    4,
                    5,
                    6,
                    7,
                    8,
                    9,
                    10
                  ],
                  "y": [
                    1.0517777455470245,
                    -11.31798978984796,
                    23.68866348778284,
                    19.483352158329446,
                    -39.84993344731856,
                    21.55495226591745,
                    5.492612473224256,
                    13.615912027341714,
                    31.70220149305669,
                    2.3400946221053722,
                    152.71739144684037
                  ]
                },
                {
                  "line": {
                    "width": 2
                  },
                  "mode": "lines+markers",
                  "name": "Iteration 205",
                  "type": "scatter",
                  "x": [
                    0,
                    1,
                    2,
                    3,
                    4,
                    5,
                    6,
                    7,
                    8,
                    9,
                    10
                  ],
                  "y": [
                    1.0911115362435204,
                    -11.371115588564926,
                    23.702471810088397,
                    19.47098033255886,
                    -39.95555644515832,
                    21.654622328182313,
                    5.562791361062921,
                    13.647208228978965,
                    31.76935388027698,
                    2.3605452068600243,
                    152.6698449733962
                  ]
                },
                {
                  "line": {
                    "width": 2
                  },
                  "mode": "lines+markers",
                  "name": "Iteration 206",
                  "type": "scatter",
                  "x": [
                    0,
                    1,
                    2,
                    3,
                    4,
                    5,
                    6,
                    7,
                    8,
                    9,
                    10
                  ],
                  "y": [
                    1.2917074909541952,
                    -11.649972364670791,
                    23.821902921729674,
                    19.59105578222537,
                    -39.40161079859297,
                    21.008700023821234,
                    5.439445237725806,
                    14.085475996075882,
                    31.305701990790112,
                    2.13622627101622,
                    152.47057405358373
                  ]
                },
                {
                  "line": {
                    "width": 2
                  },
                  "mode": "lines+markers",
                  "name": "Iteration 207",
                  "type": "scatter",
                  "x": [
                    0,
                    1,
                    2,
                    3,
                    4,
                    5,
                    6,
                    7,
                    8,
                    9,
                    10
                  ],
                  "y": [
                    1.090463738269639,
                    -11.733288582264118,
                    23.98556628771764,
                    19.635102525414755,
                    -38.80130732039402,
                    20.7310933935064,
                    5.26211346907894,
                    13.837760485541587,
                    30.936372105487123,
                    2.2409567538103268,
                    152.62967744145448
                  ]
                },
                {
                  "line": {
                    "width": 2
                  },
                  "mode": "lines+markers",
                  "name": "Iteration 208",
                  "type": "scatter",
                  "x": [
                    0,
                    1,
                    2,
                    3,
                    4,
                    5,
                    6,
                    7,
                    8,
                    9,
                    10
                  ],
                  "y": [
                    1.0262671451308005,
                    -11.894148089881558,
                    24.372630654447242,
                    19.03433706042181,
                    -36.977898846677476,
                    19.46501529076204,
                    4.600492414544533,
                    13.192441957882762,
                    30.48964136111084,
                    2.4194305032627312,
                    152.26278770941155
                  ]
                },
                {
                  "line": {
                    "width": 2
                  },
                  "mode": "lines+markers",
                  "name": "Iteration 209",
                  "type": "scatter",
                  "x": [
                    0,
                    1,
                    2,
                    3,
                    4,
                    5,
                    6,
                    7,
                    8,
                    9,
                    10
                  ],
                  "y": [
                    1.05957633162512,
                    -11.830623373383172,
                    24.442082306413646,
                    19.042490752860814,
                    -36.97440144911661,
                    19.580171557569997,
                    4.46888757554683,
                    12.985968157409022,
                    30.583529534552497,
                    2.3667966470943718,
                    152.1927797931731
                  ]
                },
                {
                  "line": {
                    "width": 2
                  },
                  "mode": "lines+markers",
                  "name": "Iteration 210",
                  "type": "scatter",
                  "x": [
                    0,
                    1,
                    2,
                    3,
                    4,
                    5,
                    6,
                    7,
                    8,
                    9,
                    10
                  ],
                  "y": [
                    1.260580941465161,
                    -11.770636589171172,
                    24.277408951152715,
                    19.11521341218357,
                    -37.13937442149347,
                    19.928591447872236,
                    4.358753947141906,
                    12.959349708528116,
                    30.734980939853187,
                    2.326564481089047,
                    152.01969412064145
                  ]
                },
                {
                  "line": {
                    "width": 2
                  },
                  "mode": "lines+markers",
                  "name": "Iteration 211",
                  "type": "scatter",
                  "x": [
                    0,
                    1,
                    2,
                    3,
                    4,
                    5,
                    6,
                    7,
                    8,
                    9,
                    10
                  ],
                  "y": [
                    1.6746726286708498,
                    -11.391822358565467,
                    24.815508447206064,
                    18.91698625976234,
                    -37.96578567296933,
                    20.802293021097967,
                    4.144786523771927,
                    12.338968089374982,
                    31.0731371166504,
                    2.3905226813459812,
                    152.39426225656698
                  ]
                },
                {
                  "line": {
                    "width": 2
                  },
                  "mode": "lines+markers",
                  "name": "Iteration 212",
                  "type": "scatter",
                  "x": [
                    0,
                    1,
                    2,
                    3,
                    4,
                    5,
                    6,
                    7,
                    8,
                    9,
                    10
                  ],
                  "y": [
                    1.5981807720590915,
                    -11.47132419652374,
                    24.961816444191577,
                    18.751266883479413,
                    -38.046705362668376,
                    20.80751403688214,
                    4.2344994240116876,
                    12.463771179557352,
                    30.995536729356274,
                    2.452070008838369,
                    152.50027742966188
                  ]
                },
                {
                  "line": {
                    "width": 2
                  },
                  "mode": "lines+markers",
                  "name": "Iteration 213",
                  "type": "scatter",
                  "x": [
                    0,
                    1,
                    2,
                    3,
                    4,
                    5,
                    6,
                    7,
                    8,
                    9,
                    10
                  ],
                  "y": [
                    1.4281243260199616,
                    -11.188797182528587,
                    24.870636040864447,
                    18.805327310834983,
                    -36.98059552724749,
                    20.186676666884978,
                    3.496919750050324,
                    11.882678693558319,
                    30.49723290376835,
                    2.4151981922476473,
                    152.7422013809349
                  ]
                },
                {
                  "line": {
                    "width": 2
                  },
                  "mode": "lines+markers",
                  "name": "Iteration 214",
                  "type": "scatter",
                  "x": [
                    0,
                    1,
                    2,
                    3,
                    4,
                    5,
                    6,
                    7,
                    8,
                    9,
                    10
                  ],
                  "y": [
                    1.4418417020365055,
                    -11.239586636897855,
                    24.80925403090717,
                    18.7728104490982,
                    -36.96415687345359,
                    20.23627211457176,
                    3.417275588011819,
                    11.828415871012481,
                    30.502655827643764,
                    2.389313283996124,
                    152.79521031397184
                  ]
                },
                {
                  "line": {
                    "width": 2
                  },
                  "mode": "lines+markers",
                  "name": "Iteration 215",
                  "type": "scatter",
                  "x": [
                    0,
                    1,
                    2,
                    3,
                    4,
                    5,
                    6,
                    7,
                    8,
                    9,
                    10
                  ],
                  "y": [
                    1.9075952543626542,
                    -11.536120004763905,
                    24.847582096647606,
                    18.570458090059596,
                    -36.49513062179017,
                    20.01196970862702,
                    3.1172116438158355,
                    11.56581919520304,
                    30.597741481154173,
                    2.2244309994033884,
                    152.522865567917
                  ]
                },
                {
                  "line": {
                    "width": 2
                  },
                  "mode": "lines+markers",
                  "name": "Iteration 216",
                  "type": "scatter",
                  "x": [
                    0,
                    1,
                    2,
                    3,
                    4,
                    5,
                    6,
                    7,
                    8,
                    9,
                    10
                  ],
                  "y": [
                    1.8762336788617837,
                    -11.558101616167209,
                    24.81670551158402,
                    18.57285728709512,
                    -36.57642649129548,
                    20.054992946067387,
                    3.2128400575028877,
                    11.622998569421267,
                    30.61496780779379,
                    2.2641226515626016,
                    152.55436126862833
                  ]
                },
                {
                  "line": {
                    "width": 2
                  },
                  "mode": "lines+markers",
                  "name": "Iteration 217",
                  "type": "scatter",
                  "x": [
                    0,
                    1,
                    2,
                    3,
                    4,
                    5,
                    6,
                    7,
                    8,
                    9,
                    10
                  ],
                  "y": [
                    2.0867911766396876,
                    -11.34495521550824,
                    24.91653061972677,
                    18.432717629117253,
                    -36.72493822311196,
                    20.428529419384063,
                    3.0915389155037474,
                    11.172673240888503,
                    30.79130699117792,
                    2.2100533831236753,
                    152.72259529444563
                  ]
                },
                {
                  "line": {
                    "width": 2
                  },
                  "mode": "lines+markers",
                  "name": "Iteration 218",
                  "type": "scatter",
                  "x": [
                    0,
                    1,
                    2,
                    3,
                    4,
                    5,
                    6,
                    7,
                    8,
                    9,
                    10
                  ],
                  "y": [
                    1.9073664556494467,
                    -11.435977420830387,
                    25.14973796702889,
                    18.102672859745404,
                    -35.73806453209977,
                    19.59457144720932,
                    3.056921449664685,
                    11.198872849910495,
                    30.535876441668677,
                    2.1718183317004964,
                    152.46165350153325
                  ]
                },
                {
                  "line": {
                    "width": 2
                  },
                  "mode": "lines+markers",
                  "name": "Iteration 219",
                  "type": "scatter",
                  "x": [
                    0,
                    1,
                    2,
                    3,
                    4,
                    5,
                    6,
                    7,
                    8,
                    9,
                    10
                  ],
                  "y": [
                    1.8244183849939901,
                    -11.392279772513568,
                    25.10878004140823,
                    18.135752625343834,
                    -35.965923526044094,
                    19.755392905658255,
                    3.0509263880348385,
                    11.167594296926715,
                    30.703673165195255,
                    2.1947660255147596,
                    152.3905036429819
                  ]
                },
                {
                  "line": {
                    "width": 2
                  },
                  "mode": "lines+markers",
                  "name": "Iteration 220",
                  "type": "scatter",
                  "x": [
                    0,
                    1,
                    2,
                    3,
                    4,
                    5,
                    6,
                    7,
                    8,
                    9,
                    10
                  ],
                  "y": [
                    1.8604566298593248,
                    -11.447514673861217,
                    25.112566682406978,
                    18.147336923788366,
                    -35.98324766189228,
                    19.75769720166238,
                    3.0210892274498065,
                    11.071990507859777,
                    30.791924858983975,
                    2.2389564579580963,
                    152.44029488699906
                  ]
                },
                {
                  "line": {
                    "width": 2
                  },
                  "mode": "lines+markers",
                  "name": "Iteration 221",
                  "type": "scatter",
                  "x": [
                    0,
                    1,
                    2,
                    3,
                    4,
                    5,
                    6,
                    7,
                    8,
                    9,
                    10
                  ],
                  "y": [
                    1.983262359883268,
                    -11.68111495304554,
                    25.288387157327143,
                    17.885091791760747,
                    -35.720237433945044,
                    19.451252009295445,
                    2.658261526042452,
                    10.919920722634696,
                    30.899353165073308,
                    2.060205926639547,
                    152.2163660121515
                  ]
                },
                {
                  "line": {
                    "width": 2
                  },
                  "mode": "lines+markers",
                  "name": "Iteration 222",
                  "type": "scatter",
                  "x": [
                    0,
                    1,
                    2,
                    3,
                    4,
                    5,
                    6,
                    7,
                    8,
                    9,
                    10
                  ],
                  "y": [
                    1.9625955415104563,
                    -11.704434853901933,
                    25.26020788648048,
                    17.90690772873972,
                    -35.61182010095695,
                    19.367804569123564,
                    2.606650306887218,
                    10.855686776685157,
                    30.88969547529581,
                    2.075342875703104,
                    152.1862627704529
                  ]
                },
                {
                  "line": {
                    "width": 2
                  },
                  "mode": "lines+markers",
                  "name": "Iteration 223",
                  "type": "scatter",
                  "x": [
                    0,
                    1,
                    2,
                    3,
                    4,
                    5,
                    6,
                    7,
                    8,
                    9,
                    10
                  ],
                  "y": [
                    1.8634398407012256,
                    -11.828137416343413,
                    25.057568849174523,
                    17.97753773746496,
                    -35.324575979241445,
                    19.046600438165,
                    2.5189515198227923,
                    10.801020077531657,
                    30.86275963873703,
                    2.06039342663297,
                    152.05050913288835
                  ]
                },
                {
                  "line": {
                    "width": 2
                  },
                  "mode": "lines+markers",
                  "name": "Iteration 224",
                  "type": "scatter",
                  "x": [
                    0,
                    1,
                    2,
                    3,
                    4,
                    5,
                    6,
                    7,
                    8,
                    9,
                    10
                  ],
                  "y": [
                    1.8328978783067171,
                    -11.660239877825719,
                    25.354595500082645,
                    17.982952339396554,
                    -35.32227743151043,
                    18.80577248607358,
                    2.7884376323459037,
                    11.21603236759685,
                    30.778051509441525,
                    1.9220513625797224,
                    151.87174886067692
                  ]
                },
                {
                  "line": {
                    "width": 2
                  },
                  "mode": "lines+markers",
                  "name": "Iteration 225",
                  "type": "scatter",
                  "x": [
                    0,
                    1,
                    2,
                    3,
                    4,
                    5,
                    6,
                    7,
                    8,
                    9,
                    10
                  ],
                  "y": [
                    1.9626586704764222,
                    -11.408172404074314,
                    25.248701936511303,
                    18.28431071080955,
                    -36.088715533390655,
                    19.129139906048977,
                    3.066610287403705,
                    11.260473456749223,
                    30.945587453379574,
                    1.840780438845325,
                    152.131609083872
                  ]
                },
                {
                  "line": {
                    "width": 2
                  },
                  "mode": "lines+markers",
                  "name": "Iteration 226",
                  "type": "scatter",
                  "x": [
                    0,
                    1,
                    2,
                    3,
                    4,
                    5,
                    6,
                    7,
                    8,
                    9,
                    10
                  ],
                  "y": [
                    1.9804860933352444,
                    -11.346283376348229,
                    25.29755123389453,
                    18.274621554600927,
                    -35.98005872499289,
                    18.970779526608112,
                    3.120767913099087,
                    11.311548404666457,
                    30.880331644365356,
                    1.8557884122124229,
                    152.08358734505347
                  ]
                },
                {
                  "line": {
                    "width": 2
                  },
                  "mode": "lines+markers",
                  "name": "Iteration 227",
                  "type": "scatter",
                  "x": [
                    0,
                    1,
                    2,
                    3,
                    4,
                    5,
                    6,
                    7,
                    8,
                    9,
                    10
                  ],
                  "y": [
                    1.9748954731476154,
                    -11.532827071764546,
                    25.323389435612555,
                    18.260192794090344,
                    -35.82512247777231,
                    18.785122996552673,
                    2.9541283550306616,
                    11.206353195692332,
                    30.829104516061705,
                    2.107205419253571,
                    151.92797162725233
                  ]
                },
                {
                  "line": {
                    "width": 2
                  },
                  "mode": "lines+markers",
                  "name": "Iteration 228",
                  "type": "scatter",
                  "x": [
                    0,
                    1,
                    2,
                    3,
                    4,
                    5,
                    6,
                    7,
                    8,
                    9,
                    10
                  ],
                  "y": [
                    1.9739082832933654,
                    -11.527655668482794,
                    25.33242332689599,
                    18.279498584066598,
                    -35.823281252146785,
                    18.78261831047041,
                    2.954344868095575,
                    11.228296284441157,
                    30.815754801671403,
                    2.1052705575541566,
                    151.91220555374622
                  ]
                },
                {
                  "line": {
                    "width": 2
                  },
                  "mode": "lines+markers",
                  "name": "Iteration 229",
                  "type": "scatter",
                  "x": [
                    0,
                    1,
                    2,
                    3,
                    4,
                    5,
                    6,
                    7,
                    8,
                    9,
                    10
                  ],
                  "y": [
                    1.941195136645863,
                    -11.588742773780188,
                    25.340591096451853,
                    18.232094007238217,
                    -35.69577392311635,
                    18.60159641376754,
                    3.0383583057103465,
                    11.434445498001276,
                    30.68727726192435,
                    2.13850273571623,
                    151.8494990996935
                  ]
                },
                {
                  "line": {
                    "width": 2
                  },
                  "mode": "lines+markers",
                  "name": "Iteration 230",
                  "type": "scatter",
                  "x": [
                    0,
                    1,
                    2,
                    3,
                    4,
                    5,
                    6,
                    7,
                    8,
                    9,
                    10
                  ],
                  "y": [
                    1.8454597038784861,
                    -11.322496708793164,
                    25.298808223214984,
                    18.18517260419008,
                    -36.995818012428,
                    19.241844285914,
                    3.8912069136719083,
                    12.1872429759606,
                    31.48501125146919,
                    1.79501723981625,
                    151.58003540532476
                  ]
                },
                {
                  "line": {
                    "width": 2
                  },
                  "mode": "lines+markers",
                  "name": "Iteration 231",
                  "type": "scatter",
                  "x": [
                    0,
                    1,
                    2,
                    3,
                    4,
                    5,
                    6,
                    7,
                    8,
                    9,
                    10
                  ],
                  "y": [
                    2.072270936513089,
                    -11.182924415334906,
                    25.34652073811806,
                    18.241683417475873,
                    -37.65276571787638,
                    19.660399715593144,
                    4.034079834974989,
                    12.19426794669626,
                    31.703924978254292,
                    1.6328642408435137,
                    151.7455259247104
                  ]
                },
                {
                  "line": {
                    "width": 2
                  },
                  "mode": "lines+markers",
                  "name": "Iteration 232",
                  "type": "scatter",
                  "x": [
                    0,
                    1,
                    2,
                    3,
                    4,
                    5,
                    6,
                    7,
                    8,
                    9,
                    10
                  ],
                  "y": [
                    1.9534407045106796,
                    -11.27281698504789,
                    25.336085928464186,
                    18.29315236105217,
                    -37.65896713080804,
                    19.609732876335897,
                    3.9577574149317343,
                    12.163895398792095,
                    31.630410957379524,
                    1.6982222296900211,
                    151.83387934485515
                  ]
                },
                {
                  "line": {
                    "width": 2
                  },
                  "mode": "lines+markers",
                  "name": "Iteration 233",
                  "type": "scatter",
                  "x": [
                    0,
                    1,
                    2,
                    3,
                    4,
                    5,
                    6,
                    7,
                    8,
                    9,
                    10
                  ],
                  "y": [
                    2.0483168581815967,
                    -11.489183953212152,
                    25.491052431124004,
                    18.32795392498819,
                    -36.87559996925643,
                    18.924212523588608,
                    3.849491344233968,
                    12.484108431449258,
                    31.23778906024785,
                    1.3361518976826616,
                    151.63129703303716
                  ]
                },
                {
                  "line": {
                    "width": 2
                  },
                  "mode": "lines+markers",
                  "name": "Iteration 234",
                  "type": "scatter",
                  "x": [
                    0,
                    1,
                    2,
                    3,
                    4,
                    5,
                    6,
                    7,
                    8,
                    9,
                    10
                  ],
                  "y": [
                    2.083743959073484,
                    -11.639941767726592,
                    25.769357401758647,
                    17.68365417684218,
                    -38.7191890734191,
                    20.21249981605763,
                    4.706133418396632,
                    12.214041217907079,
                    32.50165264884879,
                    1.4145569186996845,
                    152.03116150049914
                  ]
                },
                {
                  "line": {
                    "width": 2
                  },
                  "mode": "lines+markers",
                  "name": "Iteration 235",
                  "type": "scatter",
                  "x": [
                    0,
                    1,
                    2,
                    3,
                    4,
                    5,
                    6,
                    7,
                    8,
                    9,
                    10
                  ],
                  "y": [
                    2.158477655954087,
                    -11.419487723868365,
                    25.745299379624214,
                    17.61281725908362,
                    -38.3548490478737,
                    20.175820651365484,
                    4.454408896491202,
                    11.822636362421097,
                    32.20740376632466,
                    1.7158402418819847,
                    152.21956698245052
                  ]
                },
                {
                  "line": {
                    "width": 2
                  },
                  "mode": "lines+markers",
                  "name": "Iteration 236",
                  "type": "scatter",
                  "x": [
                    0,
                    1,
                    2,
                    3,
                    4,
                    5,
                    6,
                    7,
                    8,
                    9,
                    10
                  ],
                  "y": [
                    2.131289400312184,
                    -11.241013457166318,
                    25.99372088366085,
                    17.4905655956035,
                    -37.92533525537431,
                    19.87612713616454,
                    4.261086611870496,
                    11.561577805435952,
                    32.117604991132964,
                    1.7588446129039497,
                    152.08147165624374
                  ]
                },
                {
                  "line": {
                    "width": 2
                  },
                  "mode": "lines+markers",
                  "name": "Iteration 237",
                  "type": "scatter",
                  "x": [
                    0,
                    1,
                    2,
                    3,
                    4,
                    5,
                    6,
                    7,
                    8,
                    9,
                    10
                  ],
                  "y": [
                    2.2421379728843895,
                    -11.469226143218176,
                    26.006266420214068,
                    17.291267248984393,
                    -38.56959048387955,
                    20.44367688486875,
                    4.070327134404067,
                    11.10514080430185,
                    32.63319946911827,
                    1.896712414222499,
                    152.28397945243657
                  ]
                },
                {
                  "line": {
                    "width": 2
                  },
                  "mode": "lines+markers",
                  "name": "Iteration 238",
                  "type": "scatter",
                  "x": [
                    0,
                    1,
                    2,
                    3,
                    4,
                    5,
                    6,
                    7,
                    8,
                    9,
                    10
                  ],
                  "y": [
                    2.0849718582985233,
                    -11.667623747199743,
                    25.85571665768176,
                    17.22652930194695,
                    -38.153118146285806,
                    20.18626545071561,
                    3.7184213527908696,
                    10.920695336391937,
                    32.34183029781434,
                    2.1179986531784536,
                    152.11279708056864
                  ]
                },
                {
                  "line": {
                    "width": 2
                  },
                  "mode": "lines+markers",
                  "name": "Iteration 239",
                  "type": "scatter",
                  "x": [
                    0,
                    1,
                    2,
                    3,
                    4,
                    5,
                    6,
                    7,
                    8,
                    9,
                    10
                  ],
                  "y": [
                    2.014266102169522,
                    -11.730790520444218,
                    25.757414446258707,
                    17.264920397151876,
                    -38.1357947485277,
                    20.28686561150414,
                    3.6272192667971694,
                    10.78565825034241,
                    32.39682145945551,
                    2.0239978634980886,
                    152.20841757249028
                  ]
                },
                {
                  "line": {
                    "width": 2
                  },
                  "mode": "lines+markers",
                  "name": "Iteration 240",
                  "type": "scatter",
                  "x": [
                    0,
                    1,
                    2,
                    3,
                    4,
                    5,
                    6,
                    7,
                    8,
                    9,
                    10
                  ],
                  "y": [
                    1.8653122468536445,
                    -11.943433717883138,
                    25.994405454926024,
                    16.998542039391577,
                    -37.52093997181123,
                    19.68079589433728,
                    3.5669263516001593,
                    10.850437391565634,
                    32.15082016974975,
                    2.3914390177020515,
                    151.93577905886022
                  ]
                },
                {
                  "line": {
                    "width": 2
                  },
                  "mode": "lines+markers",
                  "name": "Iteration 241",
                  "type": "scatter",
                  "x": [
                    0,
                    1,
                    2,
                    3,
                    4,
                    5,
                    6,
                    7,
                    8,
                    9,
                    10
                  ],
                  "y": [
                    1.9417707583262107,
                    -11.571065085334158,
                    25.592423723915005,
                    16.792875180429284,
                    -37.634531289040524,
                    19.55771169749005,
                    3.935577242128886,
                    11.146039478785847,
                    32.62296973935372,
                    2.2113639138581114,
                    151.6390484226291
                  ]
                },
                {
                  "line": {
                    "width": 2
                  },
                  "mode": "lines+markers",
                  "name": "Iteration 242",
                  "type": "scatter",
                  "x": [
                    0,
                    1,
                    2,
                    3,
                    4,
                    5,
                    6,
                    7,
                    8,
                    9,
                    10
                  ],
                  "y": [
                    1.9474589189535472,
                    -11.59352562926694,
                    25.575034063032845,
                    16.81462157017948,
                    -37.64449284886075,
                    19.56903244754119,
                    3.935573666147718,
                    11.166134440343889,
                    32.6104392238359,
                    2.1947985128868694,
                    151.65601792638842
                  ]
                },
                {
                  "line": {
                    "width": 2
                  },
                  "mode": "lines+markers",
                  "name": "Iteration 243",
                  "type": "scatter",
                  "x": [
                    0,
                    1,
                    2,
                    3,
                    4,
                    5,
                    6,
                    7,
                    8,
                    9,
                    10
                  ],
                  "y": [
                    1.9523562613868606,
                    -11.511256112407144,
                    25.559375809826825,
                    16.759323743111892,
                    -37.69609678571965,
                    19.52428655854976,
                    3.986853848594194,
                    11.200892605466091,
                    32.75867670676672,
                    2.2202866626562034,
                    151.7239101740882
                  ]
                },
                {
                  "line": {
                    "width": 2
                  },
                  "mode": "lines+markers",
                  "name": "Iteration 244",
                  "type": "scatter",
                  "x": [
                    0,
                    1,
                    2,
                    3,
                    4,
                    5,
                    6,
                    7,
                    8,
                    9,
                    10
                  ],
                  "y": [
                    1.9707392544823996,
                    -11.49839203460078,
                    25.553456740303993,
                    16.76555115772897,
                    -37.65222709594184,
                    19.492874103538384,
                    3.9423282272290407,
                    11.17705778345488,
                    32.71628569903589,
                    2.230196156558268,
                    151.74181790771098
                  ]
                },
                {
                  "line": {
                    "width": 2
                  },
                  "mode": "lines+markers",
                  "name": "Iteration 245",
                  "type": "scatter",
                  "x": [
                    0,
                    1,
                    2,
                    3,
                    4,
                    5,
                    6,
                    7,
                    8,
                    9,
                    10
                  ],
                  "y": [
                    2.0747903648150015,
                    -11.43231442928428,
                    25.38038173653628,
                    16.733278549407334,
                    -37.89045908121,
                    19.69217529465925,
                    3.6366004046956846,
                    10.934839848410785,
                    32.96938848353699,
                    2.343504999571614,
                    151.56406027877296
                  ]
                },
                {
                  "line": {
                    "width": 2
                  },
                  "mode": "lines+markers",
                  "name": "Iteration 246",
                  "type": "scatter",
                  "x": [
                    0,
                    1,
                    2,
                    3,
                    4,
                    5,
                    6,
                    7,
                    8,
                    9,
                    10
                  ],
                  "y": [
                    2.0674777809436478,
                    -11.365528107005971,
                    25.338959043013503,
                    16.790630261375203,
                    -37.77744634300541,
                    19.59940636076965,
                    3.6740435194317342,
                    10.956192671392266,
                    32.95985793185895,
                    2.2999548301627684,
                    151.5103000371908
                  ]
                },
                {
                  "line": {
                    "width": 2
                  },
                  "mode": "lines+markers",
                  "name": "Iteration 247",
                  "type": "scatter",
                  "x": [
                    0,
                    1,
                    2,
                    3,
                    4,
                    5,
                    6,
                    7,
                    8,
                    9,
                    10
                  ],
                  "y": [
                    2.0603429685456724,
                    -11.35732965169947,
                    25.339307258279163,
                    16.820349808524643,
                    -37.78276355250557,
                    19.56513756996094,
                    3.679965940775105,
                    11.010255945603959,
                    32.94209679396363,
                    2.289759886121214,
                    151.48802806869645
                  ]
                },
                {
                  "line": {
                    "width": 2
                  },
                  "mode": "lines+markers",
                  "name": "Iteration 248",
                  "type": "scatter",
                  "x": [
                    0,
                    1,
                    2,
                    3,
                    4,
                    5,
                    6,
                    7,
                    8,
                    9,
                    10
                  ],
                  "y": [
                    1.9513267746216485,
                    -10.835092544123693,
                    25.8886217875093,
                    16.42943572051493,
                    -36.38515474720907,
                    18.289669171368473,
                    3.695793093103532,
                    11.278116241409712,
                    32.25498571489402,
                    2.210256342557205,
                    151.13156800542444
                  ]
                },
                {
                  "line": {
                    "width": 2
                  },
                  "mode": "lines+markers",
                  "name": "Iteration 249",
                  "type": "scatter",
                  "x": [
                    0,
                    1,
                    2,
                    3,
                    4,
                    5,
                    6,
                    7,
                    8,
                    9,
                    10
                  ],
                  "y": [
                    2.055383941218782,
                    -10.606673622130643,
                    25.84684053053988,
                    16.378426400937155,
                    -37.469292979998954,
                    19.272289748786875,
                    3.828587548978305,
                    11.20896176503302,
                    32.887822173731024,
                    1.834803843243762,
                    151.39989365733467
                  ]
                },
                {
                  "line": {
                    "width": 2
                  },
                  "mode": "lines+markers",
                  "name": "Iteration 250",
                  "type": "scatter",
                  "x": [
                    0,
                    1,
                    2,
                    3,
                    4,
                    5,
                    6,
                    7,
                    8,
                    9,
                    10
                  ],
                  "y": [
                    1.996843936123927,
                    -10.729873434571454,
                    25.977956588212272,
                    16.23629097290981,
                    -37.82128726471501,
                    19.57821370206716,
                    3.6440050535878754,
                    10.832515223699634,
                    33.15036604467895,
                    1.7255201064713717,
                    151.58400094608726
                  ]
                },
                {
                  "line": {
                    "width": 2
                  },
                  "mode": "lines+markers",
                  "name": "Iteration 251",
                  "type": "scatter",
                  "x": [
                    0,
                    1,
                    2,
                    3,
                    4,
                    5,
                    6,
                    7,
                    8,
                    9,
                    10
                  ],
                  "y": [
                    2.014010669147588,
                    -10.757704171816997,
                    25.959884247279916,
                    16.253284722793314,
                    -37.77261833062062,
                    19.52017028850048,
                    3.6799766393850746,
                    10.90049391019748,
                    33.09423743989635,
                    1.6958923716036765,
                    151.61864011203303
                  ]
                },
                {
                  "line": {
                    "width": 2
                  },
                  "mode": "lines+markers",
                  "name": "Iteration 252",
                  "type": "scatter",
                  "x": [
                    0,
                    1,
                    2,
                    3,
                    4,
                    5,
                    6,
                    7,
                    8,
                    9,
                    10
                  ],
                  "y": [
                    1.8400860895800832,
                    -10.881137290059838,
                    26.100125801730698,
                    16.155567474613406,
                    -37.2273353466918,
                    19.245097391401032,
                    3.5534651344314057,
                    10.830569847738959,
                    32.6887406240873,
                    1.7195105481100867,
                    151.43589514459268
                  ]
                },
                {
                  "line": {
                    "width": 2
                  },
                  "mode": "lines+markers",
                  "name": "Iteration 253",
                  "type": "scatter",
                  "x": [
                    0,
                    1,
                    2,
                    3,
                    4,
                    5,
                    6,
                    7,
                    8,
                    9,
                    10
                  ],
                  "y": [
                    1.8173728057539051,
                    -10.826698636382256,
                    26.06399655449848,
                    16.256791724064644,
                    -37.17390939619213,
                    18.989803976888425,
                    3.5713535165911594,
                    11.079724849357126,
                    32.482134645109,
                    1.7526047901269983,
                    151.331410281398
                  ]
                },
                {
                  "line": {
                    "width": 2
                  },
                  "mode": "lines+markers",
                  "name": "Iteration 254",
                  "type": "scatter",
                  "x": [
                    0,
                    1,
                    2,
                    3,
                    4,
                    5,
                    6,
                    7,
                    8,
                    9,
                    10
                  ],
                  "y": [
                    1.7104682778385047,
                    -10.965245414312232,
                    26.228242786494327,
                    16.106999413860052,
                    -37.06272241605552,
                    19.04683029510909,
                    3.489202018800313,
                    10.769190312202486,
                    32.6738953328865,
                    1.9128853962177175,
                    151.13568342903682
                  ]
                },
                {
                  "line": {
                    "width": 2
                  },
                  "mode": "lines+markers",
                  "name": "Iteration 255",
                  "type": "scatter",
                  "x": [
                    0,
                    1,
                    2,
                    3,
                    4,
                    5,
                    6,
                    7,
                    8,
                    9,
                    10
                  ],
                  "y": [
                    1.591011592427087,
                    -11.023710648146375,
                    26.202441885990766,
                    16.160524975757056,
                    -36.91617250134004,
                    19.023924526885708,
                    3.3248360368962153,
                    10.599249405318586,
                    32.61770798077265,
                    1.9072589643417928,
                    151.21566246482374
                  ]
                },
                {
                  "line": {
                    "width": 2
                  },
                  "mode": "lines+markers",
                  "name": "Iteration 256",
                  "type": "scatter",
                  "x": [
                    0,
                    1,
                    2,
                    3,
                    4,
                    5,
                    6,
                    7,
                    8,
                    9,
                    10
                  ],
                  "y": [
                    1.4860353416124248,
                    -11.19505942996279,
                    26.210394178844794,
                    16.30037895292435,
                    -36.97798162207448,
                    18.976131776725538,
                    3.3076880804358666,
                    10.809398399864094,
                    32.42879288680365,
                    1.8759639619607,
                    151.34509881670013
                  ]
                },
                {
                  "line": {
                    "width": 2
                  },
                  "mode": "lines+markers",
                  "name": "Iteration 257",
                  "type": "scatter",
                  "x": [
                    0,
                    1,
                    2,
                    3,
                    4,
                    5,
                    6,
                    7,
                    8,
                    9,
                    10
                  ],
                  "y": [
                    1.7535324325366766,
                    -11.383832181346383,
                    26.314668234698928,
                    16.078898434462857,
                    -35.80771907006272,
                    18.033936251701675,
                    2.9539115733866197,
                    10.64695033883801,
                    31.941451220580632,
                    1.9763128015607414,
                    151.112771827878
                  ]
                },
                {
                  "line": {
                    "width": 2
                  },
                  "mode": "lines+markers",
                  "name": "Iteration 258",
                  "type": "scatter",
                  "x": [
                    0,
                    1,
                    2,
                    3,
                    4,
                    5,
                    6,
                    7,
                    8,
                    9,
                    10
                  ],
                  "y": [
                    1.7367742127031178,
                    -11.363844914424433,
                    26.321427931165267,
                    16.07172640383478,
                    -35.79516632040645,
                    18.02102305090591,
                    2.98138228774485,
                    10.679307667551903,
                    31.941281342956074,
                    1.969818541049321,
                    151.09769682617323
                  ]
                },
                {
                  "line": {
                    "width": 2
                  },
                  "mode": "lines+markers",
                  "name": "Iteration 259",
                  "type": "scatter",
                  "x": [
                    0,
                    1,
                    2,
                    3,
                    4,
                    5,
                    6,
                    7,
                    8,
                    9,
                    10
                  ],
                  "y": [
                    1.8165974313785398,
                    -11.688840816714881,
                    26.105636364684806,
                    16.10666693737908,
                    -34.51296720750918,
                    16.787882097101033,
                    2.407117137322757,
                    10.859931653671687,
                    30.989346887833165,
                    2.0391671446530175,
                    151.38879534454404
                  ]
                },
                {
                  "line": {
                    "width": 2
                  },
                  "mode": "lines+markers",
                  "name": "Iteration 260",
                  "type": "scatter",
                  "x": [
                    0,
                    1,
                    2,
                    3,
                    4,
                    5,
                    6,
                    7,
                    8,
                    9,
                    10
                  ],
                  "y": [
                    1.6821903237573999,
                    -11.902677149903507,
                    26.228857180928124,
                    16.32888924763992,
                    -33.74136125530754,
                    16.285409182409808,
                    2.1106329642955757,
                    10.787268779319163,
                    30.710583537206105,
                    1.8836045210851715,
                    151.18928656385776
                  ]
                },
                {
                  "line": {
                    "width": 2
                  },
                  "mode": "lines+markers",
                  "name": "Iteration 261",
                  "type": "scatter",
                  "x": [
                    0,
                    1,
                    2,
                    3,
                    4,
                    5,
                    6,
                    7,
                    8,
                    9,
                    10
                  ],
                  "y": [
                    1.5802308522176602,
                    -11.991410286865804,
                    26.23347327918779,
                    16.226655533794656,
                    -33.53003538871985,
                    16.111413262345764,
                    2.2428157273968736,
                    10.941159043889924,
                    30.72155969837644,
                    1.8951394924020413,
                    151.06565019274632
                  ]
                },
                {
                  "line": {
                    "width": 2
                  },
                  "mode": "lines+markers",
                  "name": "Iteration 262",
                  "type": "scatter",
                  "x": [
                    0,
                    1,
                    2,
                    3,
                    4,
                    5,
                    6,
                    7,
                    8,
                    9,
                    10
                  ],
                  "y": [
                    1.7967434614143656,
                    -11.648795788727009,
                    26.18006714779058,
                    16.205002763483908,
                    -33.88570730108643,
                    16.541043093591952,
                    2.189246764904567,
                    10.383682249115543,
                    31.023586288669605,
                    1.750776822208909,
                    151.31943228410944
                  ]
                },
                {
                  "line": {
                    "width": 2
                  },
                  "mode": "lines+markers",
                  "name": "Iteration 263",
                  "type": "scatter",
                  "x": [
                    0,
                    1,
                    2,
                    3,
                    4,
                    5,
                    6,
                    7,
                    8,
                    9,
                    10
                  ],
                  "y": [
                    1.8845523773003485,
                    -11.818391528631183,
                    26.193217194549682,
                    16.23298943007488,
                    -33.51594573767818,
                    16.236341582614614,
                    1.8549034503238886,
                    10.245305661412369,
                    30.8676416567464,
                    1.7939002692925925,
                    151.2024112459451
                  ]
                },
                {
                  "line": {
                    "width": 2
                  },
                  "mode": "lines+markers",
                  "name": "Iteration 264",
                  "type": "scatter",
                  "x": [
                    0,
                    1,
                    2,
                    3,
                    4,
                    5,
                    6,
                    7,
                    8,
                    9,
                    10
                  ],
                  "y": [
                    1.874353039977958,
                    -11.721863316175803,
                    26.183323519259623,
                    16.22049916858112,
                    -33.806503335824914,
                    16.475262199655162,
                    1.9700667653895607,
                    10.1851095912786,
                    31.103681469177843,
                    1.742391645188924,
                    151.27219286690118
                  ]
                },
                {
                  "line": {
                    "width": 2
                  },
                  "mode": "lines+markers",
                  "name": "Iteration 265",
                  "type": "scatter",
                  "x": [
                    0,
                    1,
                    2,
                    3,
                    4,
                    5,
                    6,
                    7,
                    8,
                    9,
                    10
                  ],
                  "y": [
                    1.7775791210471361,
                    -11.816912611625572,
                    26.217704800250758,
                    16.121252488496147,
                    -33.98876674829921,
                    16.634225050413875,
                    2.1186083910746447,
                    10.36394467724146,
                    31.128461407131113,
                    1.6381478083662664,
                    151.41380138594656
                  ]
                },
                {
                  "line": {
                    "width": 2
                  },
                  "mode": "lines+markers",
                  "name": "Iteration 266",
                  "type": "scatter",
                  "x": [
                    0,
                    1,
                    2,
                    3,
                    4,
                    5,
                    6,
                    7,
                    8,
                    9,
                    10
                  ],
                  "y": [
                    1.8113923196859467,
                    -11.776138203952375,
                    26.19443627720755,
                    16.12595389995362,
                    -34.22645151786287,
                    16.80387642327537,
                    2.2582975622574395,
                    10.516887782848242,
                    31.234387170297225,
                    1.6006646604780208,
                    151.4780179805536
                  ]
                },
                {
                  "line": {
                    "width": 2
                  },
                  "mode": "lines+markers",
                  "name": "Iteration 267",
                  "type": "scatter",
                  "x": [
                    0,
                    1,
                    2,
                    3,
                    4,
                    5,
                    6,
                    7,
                    8,
                    9,
                    10
                  ],
                  "y": [
                    1.8090521696199424,
                    -11.881166528865382,
                    26.224140054719783,
                    16.15677444674574,
                    -34.16155301287017,
                    16.689984892164148,
                    2.320758343868988,
                    10.73702072614511,
                    31.15940305473623,
                    1.5575178017164077,
                    151.40426212257623
                  ]
                },
                {
                  "line": {
                    "width": 2
                  },
                  "mode": "lines+markers",
                  "name": "Iteration 268",
                  "type": "scatter",
                  "x": [
                    0,
                    1,
                    2,
                    3,
                    4,
                    5,
                    6,
                    7,
                    8,
                    9,
                    10
                  ],
                  "y": [
                    1.9966874791605598,
                    -11.613097188142998,
                    25.996084328400208,
                    16.27156562873,
                    -36.234931333613076,
                    18.099889519470935,
                    3.3959316725699864,
                    11.476842596434848,
                    31.636127733109504,
                    2.016015184186468,
                    151.80018856855153
                  ]
                },
                {
                  "line": {
                    "width": 2
                  },
                  "mode": "lines+markers",
                  "name": "Iteration 269",
                  "type": "scatter",
                  "x": [
                    0,
                    1,
                    2,
                    3,
                    4,
                    5,
                    6,
                    7,
                    8,
                    9,
                    10
                  ],
                  "y": [
                    1.9882855013301288,
                    -11.351011746575145,
                    25.84178279448227,
                    16.074883504608888,
                    -37.169455587787866,
                    19.197966789874272,
                    3.637632088168232,
                    11.508768897456966,
                    32.0638175255898,
                    2.13307452629234,
                    152.1138090974756
                  ]
                },
                {
                  "line": {
                    "width": 2
                  },
                  "mode": "lines+markers",
                  "name": "Iteration 270",
                  "type": "scatter",
                  "x": [
                    0,
                    1,
                    2,
                    3,
                    4,
                    5,
                    6,
                    7,
                    8,
                    9,
                    10
                  ],
                  "y": [
                    1.9867776296841697,
                    -11.336764066420573,
                    25.857947256547618,
                    16.065740791560433,
                    -37.12734922667505,
                    19.159703022845633,
                    3.6280303970788736,
                    11.508338805847336,
                    32.04464094693975,
                    2.1302458441881633,
                    152.10330574843601
                  ]
                },
                {
                  "line": {
                    "width": 2
                  },
                  "mode": "lines+markers",
                  "name": "Iteration 271",
                  "type": "scatter",
                  "x": [
                    0,
                    1,
                    2,
                    3,
                    4,
                    5,
                    6,
                    7,
                    8,
                    9,
                    10
                  ],
                  "y": [
                    1.9384152117156184,
                    -11.128876375283262,
                    25.923808046805945,
                    16.110970937397198,
                    -37.351733466645896,
                    19.222227288747376,
                    3.981409924570869,
                    11.595011454151194,
                    32.25422524138514,
                    2.2188284203136632,
                    151.92732057776993
                  ]
                },
                {
                  "line": {
                    "width": 2
                  },
                  "mode": "lines+markers",
                  "name": "Iteration 272",
                  "type": "scatter",
                  "x": [
                    0,
                    1,
                    2,
                    3,
                    4,
                    5,
                    6,
                    7,
                    8,
                    9,
                    10
                  ],
                  "y": [
                    1.7918120200631122,
                    -11.256230740145906,
                    25.927260134869584,
                    16.18188815313017,
                    -37.036249276793455,
                    19.101654673678013,
                    3.8237232915307118,
                    11.442511107843867,
                    32.26337010785522,
                    2.2069956438519647,
                    151.79579452165427
                  ]
                },
                {
                  "line": {
                    "width": 2
                  },
                  "mode": "lines+markers",
                  "name": "Iteration 273",
                  "type": "scatter",
                  "x": [
                    0,
                    1,
                    2,
                    3,
                    4,
                    5,
                    6,
                    7,
                    8,
                    9,
                    10
                  ],
                  "y": [
                    1.8006134805145209,
                    -11.42655144931396,
                    25.92596691924797,
                    16.33550667390115,
                    -36.06284216772872,
                    18.42059045068015,
                    3.481202755338188,
                    11.291759872609356,
                    31.830028278741736,
                    2.148728280102901,
                    151.61964291059368
                  ]
                },
                {
                  "line": {
                    "width": 2
                  },
                  "mode": "lines+markers",
                  "name": "Iteration 274",
                  "type": "scatter",
                  "x": [
                    0,
                    1,
                    2,
                    3,
                    4,
                    5,
                    6,
                    7,
                    8,
                    9,
                    10
                  ],
                  "y": [
                    1.7614101103807087,
                    -11.553546602180095,
                    25.88500157154698,
                    16.357178012260825,
                    -35.937990006482096,
                    18.058072080891066,
                    3.655624424685527,
                    11.581089120372294,
                    31.78270490515115,
                    2.1390279054545616,
                    151.48158831602404
                  ]
                },
                {
                  "line": {
                    "width": 2
                  },
                  "mode": "lines+markers",
                  "name": "Iteration 275",
                  "type": "scatter",
                  "x": [
                    0,
                    1,
                    2,
                    3,
                    4,
                    5,
                    6,
                    7,
                    8,
                    9,
                    10
                  ],
                  "y": [
                    1.695948583141707,
                    -11.745747121563745,
                    25.997953769195618,
                    16.503916092432203,
                    -35.15929705506164,
                    17.440720155084023,
                    3.223141546354384,
                    11.20771812778299,
                    31.584785819799094,
                    2.156163403699697,
                    151.2689183763724
                  ]
                },
                {
                  "line": {
                    "width": 2
                  },
                  "mode": "lines+markers",
                  "name": "Iteration 276",
                  "type": "scatter",
                  "x": [
                    0,
                    1,
                    2,
                    3,
                    4,
                    5,
                    6,
                    7,
                    8,
                    9,
                    10
                  ],
                  "y": [
                    1.7593864589649328,
                    -11.570510719825227,
                    26.043232115291694,
                    16.547794236179314,
                    -34.788388113736914,
                    17.146639242125048,
                    3.2919859627090204,
                    11.227870329577483,
                    31.474424650027174,
                    2.160257463072959,
                    151.11959067203932
                  ]
                },
                {
                  "line": {
                    "width": 2
                  },
                  "mode": "lines+markers",
                  "name": "Iteration 277",
                  "type": "scatter",
                  "x": [
                    0,
                    1,
                    2,
                    3,
                    4,
                    5,
                    6,
                    7,
                    8,
                    9,
                    10
                  ],
                  "y": [
                    1.6816900910385009,
                    -11.655500236377739,
                    26.059759969189933,
                    16.606387633826905,
                    -34.71420442980332,
                    17.007788236743977,
                    3.3548545190640766,
                    11.374177012490536,
                    31.434860815036927,
                    2.154730633040188,
                    151.04229833392412
                  ]
                },
                {
                  "line": {
                    "width": 2
                  },
                  "mode": "lines+markers",
                  "name": "Iteration 278",
                  "type": "scatter",
                  "x": [
                    0,
                    1,
                    2,
                    3,
                    4,
                    5,
                    6,
                    7,
                    8,
                    9,
                    10
                  ],
                  "y": [
                    1.7620151665263464,
                    -11.973122237017956,
                    26.0322723306223,
                    16.696058560631464,
                    -35.84714089979411,
                    17.772391952042426,
                    3.731340615398892,
                    11.507983348964906,
                    31.80216809379465,
                    2.3712092399153875,
                    151.27406234883472
                  ]
                },
                {
                  "line": {
                    "width": 2
                  },
                  "mode": "lines+markers",
                  "name": "Iteration 279",
                  "type": "scatter",
                  "x": [
                    0,
                    1,
                    2,
                    3,
                    4,
                    5,
                    6,
                    7,
                    8,
                    9,
                    10
                  ],
                  "y": [
                    1.7622353734635112,
                    -11.951388754988894,
                    26.02981130092938,
                    16.68617333828713,
                    -35.80838564263695,
                    17.718396697796152,
                    3.73430516881308,
                    11.535693070382365,
                    31.774912621862313,
                    2.367200482909425,
                    151.25505627543234
                  ]
                },
                {
                  "line": {
                    "width": 2
                  },
                  "mode": "lines+markers",
                  "name": "Iteration 280",
                  "type": "scatter",
                  "x": [
                    0,
                    1,
                    2,
                    3,
                    4,
                    5,
                    6,
                    7,
                    8,
                    9,
                    10
                  ],
                  "y": [
                    1.739125105672322,
                    -11.821554638392627,
                    26.109443568162185,
                    16.621704585638273,
                    -36.12073433743842,
                    18.046982821114625,
                    3.8908431403800705,
                    11.567552256629217,
                    31.89233415574921,
                    2.329545972629681,
                    151.36282298066317
                  ]
                },
                {
                  "line": {
                    "width": 2
                  },
                  "mode": "lines+markers",
                  "name": "Iteration 281",
                  "type": "scatter",
                  "x": [
                    0,
                    1,
                    2,
                    3,
                    4,
                    5,
                    6,
                    7,
                    8,
                    9,
                    10
                  ],
                  "y": [
                    1.8721592607744455,
                    -11.978487246446882,
                    26.046742534666855,
                    16.667773452560382,
                    -36.18651478528693,
                    18.112814762953235,
                    3.99897348260356,
                    11.607938047564485,
                    31.861118495606433,
                    2.191936027773643,
                    151.55336422248646
                  ]
                },
                {
                  "line": {
                    "width": 2
                  },
                  "mode": "lines+markers",
                  "name": "Iteration 282",
                  "type": "scatter",
                  "x": [
                    0,
                    1,
                    2,
                    3,
                    4,
                    5,
                    6,
                    7,
                    8,
                    9,
                    10
                  ],
                  "y": [
                    1.863737964697247,
                    -11.867628006254494,
                    25.920029380751494,
                    16.628143529068957,
                    -35.80606367352755,
                    17.912074808607144,
                    3.8166875667259887,
                    11.59348729557918,
                    31.76496407109414,
                    2.2208164702307798,
                    151.41412066897095
                  ]
                },
                {
                  "line": {
                    "width": 2
                  },
                  "mode": "lines+markers",
                  "name": "Iteration 283",
                  "type": "scatter",
                  "x": [
                    0,
                    1,
                    2,
                    3,
                    4,
                    5,
                    6,
                    7,
                    8,
                    9,
                    10
                  ],
                  "y": [
                    1.836847008811489,
                    -11.766585591866761,
                    25.889060617957043,
                    16.629837077281312,
                    -35.17608593798707,
                    17.54036805350154,
                    3.312257945357487,
                    11.383908254212416,
                    31.526245983564138,
                    2.2357994913958805,
                    151.25494569474418
                  ]
                }
              ],
              "layout": {
                "legend": {
                  "title": {
                    "text": "Iterations"
                  }
                },
                "template": {
                  "data": {
                    "bar": [
                      {
                        "error_x": {
                          "color": "#f2f5fa"
                        },
                        "error_y": {
                          "color": "#f2f5fa"
                        },
                        "marker": {
                          "line": {
                            "color": "rgb(17,17,17)",
                            "width": 0.5
                          },
                          "pattern": {
                            "fillmode": "overlay",
                            "size": 10,
                            "solidity": 0.2
                          }
                        },
                        "type": "bar"
                      }
                    ],
                    "barpolar": [
                      {
                        "marker": {
                          "line": {
                            "color": "rgb(17,17,17)",
                            "width": 0.5
                          },
                          "pattern": {
                            "fillmode": "overlay",
                            "size": 10,
                            "solidity": 0.2
                          }
                        },
                        "type": "barpolar"
                      }
                    ],
                    "carpet": [
                      {
                        "aaxis": {
                          "endlinecolor": "#A2B1C6",
                          "gridcolor": "#506784",
                          "linecolor": "#506784",
                          "minorgridcolor": "#506784",
                          "startlinecolor": "#A2B1C6"
                        },
                        "baxis": {
                          "endlinecolor": "#A2B1C6",
                          "gridcolor": "#506784",
                          "linecolor": "#506784",
                          "minorgridcolor": "#506784",
                          "startlinecolor": "#A2B1C6"
                        },
                        "type": "carpet"
                      }
                    ],
                    "choropleth": [
                      {
                        "colorbar": {
                          "outlinewidth": 0,
                          "ticks": ""
                        },
                        "type": "choropleth"
                      }
                    ],
                    "contour": [
                      {
                        "colorbar": {
                          "outlinewidth": 0,
                          "ticks": ""
                        },
                        "colorscale": [
                          [
                            0,
                            "#0d0887"
                          ],
                          [
                            0.1111111111111111,
                            "#46039f"
                          ],
                          [
                            0.2222222222222222,
                            "#7201a8"
                          ],
                          [
                            0.3333333333333333,
                            "#9c179e"
                          ],
                          [
                            0.4444444444444444,
                            "#bd3786"
                          ],
                          [
                            0.5555555555555556,
                            "#d8576b"
                          ],
                          [
                            0.6666666666666666,
                            "#ed7953"
                          ],
                          [
                            0.7777777777777778,
                            "#fb9f3a"
                          ],
                          [
                            0.8888888888888888,
                            "#fdca26"
                          ],
                          [
                            1,
                            "#f0f921"
                          ]
                        ],
                        "type": "contour"
                      }
                    ],
                    "contourcarpet": [
                      {
                        "colorbar": {
                          "outlinewidth": 0,
                          "ticks": ""
                        },
                        "type": "contourcarpet"
                      }
                    ],
                    "heatmap": [
                      {
                        "colorbar": {
                          "outlinewidth": 0,
                          "ticks": ""
                        },
                        "colorscale": [
                          [
                            0,
                            "#0d0887"
                          ],
                          [
                            0.1111111111111111,
                            "#46039f"
                          ],
                          [
                            0.2222222222222222,
                            "#7201a8"
                          ],
                          [
                            0.3333333333333333,
                            "#9c179e"
                          ],
                          [
                            0.4444444444444444,
                            "#bd3786"
                          ],
                          [
                            0.5555555555555556,
                            "#d8576b"
                          ],
                          [
                            0.6666666666666666,
                            "#ed7953"
                          ],
                          [
                            0.7777777777777778,
                            "#fb9f3a"
                          ],
                          [
                            0.8888888888888888,
                            "#fdca26"
                          ],
                          [
                            1,
                            "#f0f921"
                          ]
                        ],
                        "type": "heatmap"
                      }
                    ],
                    "heatmapgl": [
                      {
                        "colorbar": {
                          "outlinewidth": 0,
                          "ticks": ""
                        },
                        "colorscale": [
                          [
                            0,
                            "#0d0887"
                          ],
                          [
                            0.1111111111111111,
                            "#46039f"
                          ],
                          [
                            0.2222222222222222,
                            "#7201a8"
                          ],
                          [
                            0.3333333333333333,
                            "#9c179e"
                          ],
                          [
                            0.4444444444444444,
                            "#bd3786"
                          ],
                          [
                            0.5555555555555556,
                            "#d8576b"
                          ],
                          [
                            0.6666666666666666,
                            "#ed7953"
                          ],
                          [
                            0.7777777777777778,
                            "#fb9f3a"
                          ],
                          [
                            0.8888888888888888,
                            "#fdca26"
                          ],
                          [
                            1,
                            "#f0f921"
                          ]
                        ],
                        "type": "heatmapgl"
                      }
                    ],
                    "histogram": [
                      {
                        "marker": {
                          "pattern": {
                            "fillmode": "overlay",
                            "size": 10,
                            "solidity": 0.2
                          }
                        },
                        "type": "histogram"
                      }
                    ],
                    "histogram2d": [
                      {
                        "colorbar": {
                          "outlinewidth": 0,
                          "ticks": ""
                        },
                        "colorscale": [
                          [
                            0,
                            "#0d0887"
                          ],
                          [
                            0.1111111111111111,
                            "#46039f"
                          ],
                          [
                            0.2222222222222222,
                            "#7201a8"
                          ],
                          [
                            0.3333333333333333,
                            "#9c179e"
                          ],
                          [
                            0.4444444444444444,
                            "#bd3786"
                          ],
                          [
                            0.5555555555555556,
                            "#d8576b"
                          ],
                          [
                            0.6666666666666666,
                            "#ed7953"
                          ],
                          [
                            0.7777777777777778,
                            "#fb9f3a"
                          ],
                          [
                            0.8888888888888888,
                            "#fdca26"
                          ],
                          [
                            1,
                            "#f0f921"
                          ]
                        ],
                        "type": "histogram2d"
                      }
                    ],
                    "histogram2dcontour": [
                      {
                        "colorbar": {
                          "outlinewidth": 0,
                          "ticks": ""
                        },
                        "colorscale": [
                          [
                            0,
                            "#0d0887"
                          ],
                          [
                            0.1111111111111111,
                            "#46039f"
                          ],
                          [
                            0.2222222222222222,
                            "#7201a8"
                          ],
                          [
                            0.3333333333333333,
                            "#9c179e"
                          ],
                          [
                            0.4444444444444444,
                            "#bd3786"
                          ],
                          [
                            0.5555555555555556,
                            "#d8576b"
                          ],
                          [
                            0.6666666666666666,
                            "#ed7953"
                          ],
                          [
                            0.7777777777777778,
                            "#fb9f3a"
                          ],
                          [
                            0.8888888888888888,
                            "#fdca26"
                          ],
                          [
                            1,
                            "#f0f921"
                          ]
                        ],
                        "type": "histogram2dcontour"
                      }
                    ],
                    "mesh3d": [
                      {
                        "colorbar": {
                          "outlinewidth": 0,
                          "ticks": ""
                        },
                        "type": "mesh3d"
                      }
                    ],
                    "parcoords": [
                      {
                        "line": {
                          "colorbar": {
                            "outlinewidth": 0,
                            "ticks": ""
                          }
                        },
                        "type": "parcoords"
                      }
                    ],
                    "pie": [
                      {
                        "automargin": true,
                        "type": "pie"
                      }
                    ],
                    "scatter": [
                      {
                        "marker": {
                          "line": {
                            "color": "#283442"
                          }
                        },
                        "type": "scatter"
                      }
                    ],
                    "scatter3d": [
                      {
                        "line": {
                          "colorbar": {
                            "outlinewidth": 0,
                            "ticks": ""
                          }
                        },
                        "marker": {
                          "colorbar": {
                            "outlinewidth": 0,
                            "ticks": ""
                          }
                        },
                        "type": "scatter3d"
                      }
                    ],
                    "scattercarpet": [
                      {
                        "marker": {
                          "colorbar": {
                            "outlinewidth": 0,
                            "ticks": ""
                          }
                        },
                        "type": "scattercarpet"
                      }
                    ],
                    "scattergeo": [
                      {
                        "marker": {
                          "colorbar": {
                            "outlinewidth": 0,
                            "ticks": ""
                          }
                        },
                        "type": "scattergeo"
                      }
                    ],
                    "scattergl": [
                      {
                        "marker": {
                          "line": {
                            "color": "#283442"
                          }
                        },
                        "type": "scattergl"
                      }
                    ],
                    "scattermapbox": [
                      {
                        "marker": {
                          "colorbar": {
                            "outlinewidth": 0,
                            "ticks": ""
                          }
                        },
                        "type": "scattermapbox"
                      }
                    ],
                    "scatterpolar": [
                      {
                        "marker": {
                          "colorbar": {
                            "outlinewidth": 0,
                            "ticks": ""
                          }
                        },
                        "type": "scatterpolar"
                      }
                    ],
                    "scatterpolargl": [
                      {
                        "marker": {
                          "colorbar": {
                            "outlinewidth": 0,
                            "ticks": ""
                          }
                        },
                        "type": "scatterpolargl"
                      }
                    ],
                    "scatterternary": [
                      {
                        "marker": {
                          "colorbar": {
                            "outlinewidth": 0,
                            "ticks": ""
                          }
                        },
                        "type": "scatterternary"
                      }
                    ],
                    "surface": [
                      {
                        "colorbar": {
                          "outlinewidth": 0,
                          "ticks": ""
                        },
                        "colorscale": [
                          [
                            0,
                            "#0d0887"
                          ],
                          [
                            0.1111111111111111,
                            "#46039f"
                          ],
                          [
                            0.2222222222222222,
                            "#7201a8"
                          ],
                          [
                            0.3333333333333333,
                            "#9c179e"
                          ],
                          [
                            0.4444444444444444,
                            "#bd3786"
                          ],
                          [
                            0.5555555555555556,
                            "#d8576b"
                          ],
                          [
                            0.6666666666666666,
                            "#ed7953"
                          ],
                          [
                            0.7777777777777778,
                            "#fb9f3a"
                          ],
                          [
                            0.8888888888888888,
                            "#fdca26"
                          ],
                          [
                            1,
                            "#f0f921"
                          ]
                        ],
                        "type": "surface"
                      }
                    ],
                    "table": [
                      {
                        "cells": {
                          "fill": {
                            "color": "#506784"
                          },
                          "line": {
                            "color": "rgb(17,17,17)"
                          }
                        },
                        "header": {
                          "fill": {
                            "color": "#2a3f5f"
                          },
                          "line": {
                            "color": "rgb(17,17,17)"
                          }
                        },
                        "type": "table"
                      }
                    ]
                  },
                  "layout": {
                    "annotationdefaults": {
                      "arrowcolor": "#f2f5fa",
                      "arrowhead": 0,
                      "arrowwidth": 1
                    },
                    "autotypenumbers": "strict",
                    "coloraxis": {
                      "colorbar": {
                        "outlinewidth": 0,
                        "ticks": ""
                      }
                    },
                    "colorscale": {
                      "diverging": [
                        [
                          0,
                          "#8e0152"
                        ],
                        [
                          0.1,
                          "#c51b7d"
                        ],
                        [
                          0.2,
                          "#de77ae"
                        ],
                        [
                          0.3,
                          "#f1b6da"
                        ],
                        [
                          0.4,
                          "#fde0ef"
                        ],
                        [
                          0.5,
                          "#f7f7f7"
                        ],
                        [
                          0.6,
                          "#e6f5d0"
                        ],
                        [
                          0.7,
                          "#b8e186"
                        ],
                        [
                          0.8,
                          "#7fbc41"
                        ],
                        [
                          0.9,
                          "#4d9221"
                        ],
                        [
                          1,
                          "#276419"
                        ]
                      ],
                      "sequential": [
                        [
                          0,
                          "#0d0887"
                        ],
                        [
                          0.1111111111111111,
                          "#46039f"
                        ],
                        [
                          0.2222222222222222,
                          "#7201a8"
                        ],
                        [
                          0.3333333333333333,
                          "#9c179e"
                        ],
                        [
                          0.4444444444444444,
                          "#bd3786"
                        ],
                        [
                          0.5555555555555556,
                          "#d8576b"
                        ],
                        [
                          0.6666666666666666,
                          "#ed7953"
                        ],
                        [
                          0.7777777777777778,
                          "#fb9f3a"
                        ],
                        [
                          0.8888888888888888,
                          "#fdca26"
                        ],
                        [
                          1,
                          "#f0f921"
                        ]
                      ],
                      "sequentialminus": [
                        [
                          0,
                          "#0d0887"
                        ],
                        [
                          0.1111111111111111,
                          "#46039f"
                        ],
                        [
                          0.2222222222222222,
                          "#7201a8"
                        ],
                        [
                          0.3333333333333333,
                          "#9c179e"
                        ],
                        [
                          0.4444444444444444,
                          "#bd3786"
                        ],
                        [
                          0.5555555555555556,
                          "#d8576b"
                        ],
                        [
                          0.6666666666666666,
                          "#ed7953"
                        ],
                        [
                          0.7777777777777778,
                          "#fb9f3a"
                        ],
                        [
                          0.8888888888888888,
                          "#fdca26"
                        ],
                        [
                          1,
                          "#f0f921"
                        ]
                      ]
                    },
                    "colorway": [
                      "#636efa",
                      "#EF553B",
                      "#00cc96",
                      "#ab63fa",
                      "#FFA15A",
                      "#19d3f3",
                      "#FF6692",
                      "#B6E880",
                      "#FF97FF",
                      "#FECB52"
                    ],
                    "font": {
                      "color": "#f2f5fa"
                    },
                    "geo": {
                      "bgcolor": "rgb(17,17,17)",
                      "lakecolor": "rgb(17,17,17)",
                      "landcolor": "rgb(17,17,17)",
                      "showlakes": true,
                      "showland": true,
                      "subunitcolor": "#506784"
                    },
                    "hoverlabel": {
                      "align": "left"
                    },
                    "hovermode": "closest",
                    "mapbox": {
                      "style": "dark"
                    },
                    "paper_bgcolor": "rgb(17,17,17)",
                    "plot_bgcolor": "rgb(17,17,17)",
                    "polar": {
                      "angularaxis": {
                        "gridcolor": "#506784",
                        "linecolor": "#506784",
                        "ticks": ""
                      },
                      "bgcolor": "rgb(17,17,17)",
                      "radialaxis": {
                        "gridcolor": "#506784",
                        "linecolor": "#506784",
                        "ticks": ""
                      }
                    },
                    "scene": {
                      "xaxis": {
                        "backgroundcolor": "rgb(17,17,17)",
                        "gridcolor": "#506784",
                        "gridwidth": 2,
                        "linecolor": "#506784",
                        "showbackground": true,
                        "ticks": "",
                        "zerolinecolor": "#C8D4E3"
                      },
                      "yaxis": {
                        "backgroundcolor": "rgb(17,17,17)",
                        "gridcolor": "#506784",
                        "gridwidth": 2,
                        "linecolor": "#506784",
                        "showbackground": true,
                        "ticks": "",
                        "zerolinecolor": "#C8D4E3"
                      },
                      "zaxis": {
                        "backgroundcolor": "rgb(17,17,17)",
                        "gridcolor": "#506784",
                        "gridwidth": 2,
                        "linecolor": "#506784",
                        "showbackground": true,
                        "ticks": "",
                        "zerolinecolor": "#C8D4E3"
                      }
                    },
                    "shapedefaults": {
                      "line": {
                        "color": "#f2f5fa"
                      }
                    },
                    "sliderdefaults": {
                      "bgcolor": "#C8D4E3",
                      "bordercolor": "rgb(17,17,17)",
                      "borderwidth": 1,
                      "tickwidth": 0
                    },
                    "ternary": {
                      "aaxis": {
                        "gridcolor": "#506784",
                        "linecolor": "#506784",
                        "ticks": ""
                      },
                      "baxis": {
                        "gridcolor": "#506784",
                        "linecolor": "#506784",
                        "ticks": ""
                      },
                      "bgcolor": "rgb(17,17,17)",
                      "caxis": {
                        "gridcolor": "#506784",
                        "linecolor": "#506784",
                        "ticks": ""
                      }
                    },
                    "title": {
                      "x": 0.05
                    },
                    "updatemenudefaults": {
                      "bgcolor": "#506784",
                      "borderwidth": 0
                    },
                    "xaxis": {
                      "automargin": true,
                      "gridcolor": "#283442",
                      "linecolor": "#506784",
                      "ticks": "",
                      "title": {
                        "standoff": 15
                      },
                      "zerolinecolor": "#283442",
                      "zerolinewidth": 2
                    },
                    "yaxis": {
                      "automargin": true,
                      "gridcolor": "#283442",
                      "linecolor": "#506784",
                      "ticks": "",
                      "title": {
                        "standoff": 15
                      },
                      "zerolinecolor": "#283442",
                      "zerolinewidth": 2
                    }
                  }
                },
                "title": {
                  "text": "Posterior Evolution Across Active Learning Iterations"
                },
                "xaxis": {
                  "title": {
                    "text": "Feature Index"
                  }
                },
                "yaxis": {
                  "title": {
                    "text": "Posterior Mean"
                  }
                }
              }
            }
          },
          "metadata": {},
          "output_type": "display_data"
        }
      ],
      "source": [
        "# Plot posterior evolution with Plotly\n",
        "fig_posterior = go.Figure()\n",
        "print(posterior_history)\n",
        "for i, m_N in enumerate(posterior_history):\n",
        "    fig_posterior.add_trace(\n",
        "        go.Scatter(\n",
        "            x=np.arange(len(m_N)),\n",
        "            y=m_N,\n",
        "            mode='lines+markers',\n",
        "            name=f\"Iteration {i + 1}\",\n",
        "            line=dict(width=2),\n",
        "        )\n",
        "    )\n",
        "\n",
        "fig_posterior.update_layout(\n",
        "    title=\"Posterior Evolution Across Active Learning Iterations\",\n",
        "    xaxis_title=\"Feature Index\",\n",
        "    yaxis_title=\"Posterior Mean\",\n",
        "    legend_title=\"Iterations\",\n",
        "    template=\"plotly_dark\",\n",
        ")\n",
        "fig_posterior.show()"
      ]
    }
  ],
  "metadata": {
    "colab": {
      "provenance": []
    },
    "kernelspec": {
      "display_name": "Python 3",
      "language": "python",
      "name": "python3"
    },
    "language_info": {
      "codemirror_mode": {
        "name": "ipython",
        "version": 3
      },
      "file_extension": ".py",
      "mimetype": "text/x-python",
      "name": "python",
      "nbconvert_exporter": "python",
      "pygments_lexer": "ipython3",
      "version": "3.12.7"
    }
  },
  "nbformat": 4,
  "nbformat_minor": 5
}
